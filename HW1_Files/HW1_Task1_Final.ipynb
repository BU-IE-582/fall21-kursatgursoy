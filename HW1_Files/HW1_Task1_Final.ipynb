{
 "cells": [
  {
   "cell_type": "code",
   "execution_count": 1,
   "id": "788b6c10",
   "metadata": {},
   "outputs": [],
   "source": [
    "import numpy as np\n",
    "import pandas as pd\n",
    "import math as mt\n",
    "import matplotlib.pyplot as plt"
   ]
  },
  {
   "cell_type": "code",
   "execution_count": 2,
   "id": "b0e2dd8c",
   "metadata": {},
   "outputs": [],
   "source": [
    "#### Part A ####"
   ]
  },
  {
   "cell_type": "code",
   "execution_count": 3,
   "id": "29221b0a",
   "metadata": {},
   "outputs": [],
   "source": [
    "# Creating dictionaries containing 15 dimensions uniformly obtained (for sample size of 1000) \n",
    "t=1000\n",
    "locals()[\"d_\"+str(t)]={}\n",
    "for D in range(1,16):\n",
    "    locals()[\"d_\"+str(t)][\"dim{0}\".format(D)]= np.random.uniform(-1,1,t)"
   ]
  },
  {
   "cell_type": "code",
   "execution_count": 4,
   "id": "b8dd6632",
   "metadata": {},
   "outputs": [],
   "source": [
    "# Creating dictionaries containing 15 dimensions uniformly obtained (for sample sizes of 5000,10000,25000,50000,100000) \n",
    "for n in (5000,10000,25000,50000,100000):\n",
    "    locals()[\"d_\"+str(n)]={}\n",
    "    for D in (1,2,3):\n",
    "        locals()[\"d_\"+str(n)][\"dim{0}\".format(D)]= np.random.uniform(-1,1,n)"
   ]
  },
  {
   "cell_type": "code",
   "execution_count": 5,
   "id": "f30422ab",
   "metadata": {},
   "outputs": [],
   "source": [
    "# Converting dictionaries into dataframes (for each sample size) \n",
    "data_1000 = pd.DataFrame(d_1000)\n",
    "data_5000 = pd.DataFrame(d_5000)\n",
    "data_10000 = pd.DataFrame(d_10000)\n",
    "data_25000 = pd.DataFrame(d_25000)\n",
    "data_50000 = pd.DataFrame(d_50000)\n",
    "data_100000 = pd.DataFrame(d_100000)"
   ]
  },
  {
   "cell_type": "code",
   "execution_count": 6,
   "id": "e1e3e55d",
   "metadata": {},
   "outputs": [],
   "source": [
    "# Adding origin point into dataframes (for sample size of 1000) (t=1000)\n",
    "locals()[\"data_\"+str(t)].loc[-1]=np.repeat(0,15)\n",
    "locals()[\"data_\"+str(t)].index = locals()[\"data_\"+str(t)].index + 1 \n",
    "locals()[\"data_\"+str(t)] = locals()[\"data_\"+str(t)].sort_index()"
   ]
  },
  {
   "cell_type": "code",
   "execution_count": 7,
   "id": "dfcd080b",
   "metadata": {},
   "outputs": [],
   "source": [
    "# Adding origin point into dataframes (for sample sizes of 5000,10000,25000,50000,100000) \n",
    "for n in (5000,10000,25000,50000,100000):\n",
    "    locals()[\"data_\"+str(n)].loc[-1]=np.repeat(0,3)\n",
    "    locals()[\"data_\"+str(n)].index = locals()[\"data_\"+str(n)].index + 1 \n",
    "    locals()[\"data_\"+str(n)] = locals()[\"data_\"+str(n)].sort_index()"
   ]
  },
  {
   "cell_type": "code",
   "execution_count": 8,
   "id": "40fa02c5",
   "metadata": {},
   "outputs": [],
   "source": [
    "# Adding columns for 1D distance to origin, 2D distance to origin and so on.. (for each point in sample size of 1000) (t=1000)\n",
    "for D in range(1,16):\n",
    "    locals()[\"data_\"+str(t)][str(D)+\"D_dist\"] = 0.0   "
   ]
  },
  {
   "cell_type": "code",
   "execution_count": 9,
   "id": "93415d6d",
   "metadata": {},
   "outputs": [],
   "source": [
    "# Adding columns for 2D distance to origin and 3D distance to origin (for each point in each sample) \n",
    "# for sample sizes of 5000,10000,25000,50000,100000 \n",
    "for n in (5000,10000,25000,50000,100000):\n",
    "    for D in (2,3):\n",
    "        locals()[\"data_\"+str(n)][str(D)+\"D_dist\"] = 0.0  "
   ]
  },
  {
   "cell_type": "code",
   "execution_count": 10,
   "id": "b8613b1f",
   "metadata": {},
   "outputs": [],
   "source": [
    "# Calculating distances to origin for each dimension for each instance(point)\n",
    "t = 1000 # Our main sample size. For others, I filled 2D_dist and 3D_dist columns in the below cell.\n",
    "for i in range(1,t+1):\n",
    "    for D in range(1,16):\n",
    "        if D == 1:\n",
    "                locals()[\"data_\"+str(t)][str(D)+\"D_dist\"].iloc[i,] = mt.sqrt((locals()[\"data_\"+str(t)].iloc[i,0]-locals()[\"data_\"+str(t)].iloc[0,0])**2)\n",
    "        elif D == 2:\n",
    "                locals()[\"data_\"+str(t)][str(D)+\"D_dist\"].iloc[i,] = mt.sqrt((locals()[\"data_\"+str(t)].iloc[i,0]-locals()[\"data_\"+str(t)].iloc[0,0])**2 +\n",
    "                                (locals()[\"data_\"+str(t)].iloc[i,1]-locals()[\"data_\"+str(t)].iloc[0,1])**2)\n",
    "        elif D == 3:\n",
    "                locals()[\"data_\"+str(t)][str(D)+\"D_dist\"].iloc[i,] = mt.sqrt((locals()[\"data_\"+str(t)].iloc[i,0]-locals()[\"data_\"+str(t)].iloc[0,0])**2 +\n",
    "                                (locals()[\"data_\"+str(t)].iloc[i,1]-locals()[\"data_\"+str(t)].iloc[0,1])**2 +\n",
    "                                (locals()[\"data_\"+str(t)].iloc[i,2]-locals()[\"data_\"+str(t)].iloc[0,2])**2)   \n",
    "        elif D == 4:\n",
    "                locals()[\"data_\"+str(t)][str(D)+\"D_dist\"].iloc[i,] = mt.sqrt((locals()[\"data_\"+str(t)].iloc[i,0]-locals()[\"data_\"+str(t)].iloc[0,0])**2 +\n",
    "                                (locals()[\"data_\"+str(t)].iloc[i,1]-locals()[\"data_\"+str(t)].iloc[0,1])**2 +\n",
    "                                (locals()[\"data_\"+str(t)].iloc[i,2]-locals()[\"data_\"+str(t)].iloc[0,2])**2 +\n",
    "                                (locals()[\"data_\"+str(t)].iloc[i,3]-locals()[\"data_\"+str(t)].iloc[0,3])**2)\n",
    "        elif D == 5:\n",
    "                locals()[\"data_\"+str(t)][str(D)+\"D_dist\"].iloc[i,] = mt.sqrt((locals()[\"data_\"+str(t)].iloc[i,0]-locals()[\"data_\"+str(t)].iloc[0,0])**2 +\n",
    "                                (locals()[\"data_\"+str(t)].iloc[i,1]-locals()[\"data_\"+str(t)].iloc[0,1])**2 +\n",
    "                                (locals()[\"data_\"+str(t)].iloc[i,2]-locals()[\"data_\"+str(t)].iloc[0,2])**2 +\n",
    "                                (locals()[\"data_\"+str(t)].iloc[i,3]-locals()[\"data_\"+str(t)].iloc[0,3])**2 +\n",
    "                                (locals()[\"data_\"+str(t)].iloc[i,4]-locals()[\"data_\"+str(t)].iloc[0,4])**2) \n",
    "        elif D == 6:\n",
    "                locals()[\"data_\"+str(t)][str(D)+\"D_dist\"].iloc[i,] = mt.sqrt((locals()[\"data_\"+str(t)].iloc[i,0]-locals()[\"data_\"+str(t)].iloc[0,0])**2 +\n",
    "                                (locals()[\"data_\"+str(t)].iloc[i,1]-locals()[\"data_\"+str(t)].iloc[0,1])**2 +\n",
    "                                (locals()[\"data_\"+str(t)].iloc[i,2]-locals()[\"data_\"+str(t)].iloc[0,2])**2 +\n",
    "                                (locals()[\"data_\"+str(t)].iloc[i,3]-locals()[\"data_\"+str(t)].iloc[0,3])**2 +\n",
    "                                (locals()[\"data_\"+str(t)].iloc[i,4]-locals()[\"data_\"+str(t)].iloc[0,4])**2 +\n",
    "                                (locals()[\"data_\"+str(t)].iloc[i,5]-locals()[\"data_\"+str(t)].iloc[0,5])**2)     \n",
    "        elif D == 7:\n",
    "                locals()[\"data_\"+str(t)][str(D)+\"D_dist\"].iloc[i,] = mt.sqrt((locals()[\"data_\"+str(t)].iloc[i,0]-locals()[\"data_\"+str(t)].iloc[0,0])**2 +\n",
    "                                (locals()[\"data_\"+str(t)].iloc[i,1]-locals()[\"data_\"+str(t)].iloc[0,1])**2 +\n",
    "                                (locals()[\"data_\"+str(t)].iloc[i,2]-locals()[\"data_\"+str(t)].iloc[0,2])**2 +\n",
    "                                (locals()[\"data_\"+str(t)].iloc[i,3]-locals()[\"data_\"+str(t)].iloc[0,3])**2 +\n",
    "                                (locals()[\"data_\"+str(t)].iloc[i,4]-locals()[\"data_\"+str(t)].iloc[0,4])**2 +\n",
    "                                (locals()[\"data_\"+str(t)].iloc[i,5]-locals()[\"data_\"+str(t)].iloc[0,5])**2 +\n",
    "                                (locals()[\"data_\"+str(t)].iloc[i,6]-locals()[\"data_\"+str(t)].iloc[0,6])**2)\n",
    "        elif D == 8:\n",
    "                locals()[\"data_\"+str(t)][str(D)+\"D_dist\"].iloc[i,] = mt.sqrt((locals()[\"data_\"+str(t)].iloc[i,0]-locals()[\"data_\"+str(t)].iloc[0,0])**2 +\n",
    "                                (locals()[\"data_\"+str(t)].iloc[i,1]-locals()[\"data_\"+str(t)].iloc[0,1])**2 +\n",
    "                                (locals()[\"data_\"+str(t)].iloc[i,2]-locals()[\"data_\"+str(t)].iloc[0,2])**2 +\n",
    "                                (locals()[\"data_\"+str(t)].iloc[i,3]-locals()[\"data_\"+str(t)].iloc[0,3])**2 +\n",
    "                                (locals()[\"data_\"+str(t)].iloc[i,4]-locals()[\"data_\"+str(t)].iloc[0,4])**2 +\n",
    "                                (locals()[\"data_\"+str(t)].iloc[i,5]-locals()[\"data_\"+str(t)].iloc[0,5])**2 +\n",
    "                                (locals()[\"data_\"+str(t)].iloc[i,6]-locals()[\"data_\"+str(t)].iloc[0,6])**2 +\n",
    "                                (locals()[\"data_\"+str(t)].iloc[i,7]-locals()[\"data_\"+str(t)].iloc[0,7])**2)            \n",
    "        elif D == 9:\n",
    "                locals()[\"data_\"+str(t)][str(D)+\"D_dist\"].iloc[i,] = mt.sqrt((locals()[\"data_\"+str(t)].iloc[i,0]-locals()[\"data_\"+str(t)].iloc[0,0])**2 +\n",
    "                                (locals()[\"data_\"+str(t)].iloc[i,1]-locals()[\"data_\"+str(t)].iloc[0,1])**2 +\n",
    "                                (locals()[\"data_\"+str(t)].iloc[i,2]-locals()[\"data_\"+str(t)].iloc[0,2])**2 +\n",
    "                                (locals()[\"data_\"+str(t)].iloc[i,3]-locals()[\"data_\"+str(t)].iloc[0,3])**2 +\n",
    "                                (locals()[\"data_\"+str(t)].iloc[i,4]-locals()[\"data_\"+str(t)].iloc[0,4])**2 +\n",
    "                                (locals()[\"data_\"+str(t)].iloc[i,5]-locals()[\"data_\"+str(t)].iloc[0,5])**2 +\n",
    "                                (locals()[\"data_\"+str(t)].iloc[i,6]-locals()[\"data_\"+str(t)].iloc[0,6])**2 +\n",
    "                                (locals()[\"data_\"+str(t)].iloc[i,7]-locals()[\"data_\"+str(t)].iloc[0,7])**2 +\n",
    "                                (locals()[\"data_\"+str(t)].iloc[i,8]-locals()[\"data_\"+str(t)].iloc[0,8])**2)                \n",
    "        elif D == 10:\n",
    "                locals()[\"data_\"+str(t)][str(D)+\"D_dist\"].iloc[i,] = mt.sqrt((locals()[\"data_\"+str(t)].iloc[i,0]-locals()[\"data_\"+str(t)].iloc[0,0])**2 +\n",
    "                                (locals()[\"data_\"+str(t)].iloc[i,1]-locals()[\"data_\"+str(t)].iloc[0,1])**2 +\n",
    "                                (locals()[\"data_\"+str(t)].iloc[i,2]-locals()[\"data_\"+str(t)].iloc[0,2])**2 +\n",
    "                                (locals()[\"data_\"+str(t)].iloc[i,3]-locals()[\"data_\"+str(t)].iloc[0,3])**2 +\n",
    "                                (locals()[\"data_\"+str(t)].iloc[i,4]-locals()[\"data_\"+str(t)].iloc[0,4])**2 +\n",
    "                                (locals()[\"data_\"+str(t)].iloc[i,5]-locals()[\"data_\"+str(t)].iloc[0,5])**2 +\n",
    "                                (locals()[\"data_\"+str(t)].iloc[i,6]-locals()[\"data_\"+str(t)].iloc[0,6])**2 +\n",
    "                                (locals()[\"data_\"+str(t)].iloc[i,7]-locals()[\"data_\"+str(t)].iloc[0,7])**2 +\n",
    "                                (locals()[\"data_\"+str(t)].iloc[i,8]-locals()[\"data_\"+str(t)].iloc[0,8])**2 +\n",
    "                                (locals()[\"data_\"+str(t)].iloc[i,9]-locals()[\"data_\"+str(t)].iloc[0,9])**2)                \n",
    "        elif D == 11:\n",
    "                locals()[\"data_\"+str(t)][str(D)+\"D_dist\"].iloc[i,] = mt.sqrt((locals()[\"data_\"+str(t)].iloc[i,0]-locals()[\"data_\"+str(t)].iloc[0,0])**2 +\n",
    "                                (locals()[\"data_\"+str(t)].iloc[i,1]-locals()[\"data_\"+str(t)].iloc[0,1])**2 +\n",
    "                                (locals()[\"data_\"+str(t)].iloc[i,2]-locals()[\"data_\"+str(t)].iloc[0,2])**2 +\n",
    "                                (locals()[\"data_\"+str(t)].iloc[i,3]-locals()[\"data_\"+str(t)].iloc[0,3])**2 +\n",
    "                                (locals()[\"data_\"+str(t)].iloc[i,4]-locals()[\"data_\"+str(t)].iloc[0,4])**2 +\n",
    "                                (locals()[\"data_\"+str(t)].iloc[i,5]-locals()[\"data_\"+str(t)].iloc[0,5])**2 +\n",
    "                                (locals()[\"data_\"+str(t)].iloc[i,6]-locals()[\"data_\"+str(t)].iloc[0,6])**2 +\n",
    "                                (locals()[\"data_\"+str(t)].iloc[i,7]-locals()[\"data_\"+str(t)].iloc[0,7])**2 +\n",
    "                                (locals()[\"data_\"+str(t)].iloc[i,8]-locals()[\"data_\"+str(t)].iloc[0,8])**2 +\n",
    "                                (locals()[\"data_\"+str(t)].iloc[i,9]-locals()[\"data_\"+str(t)].iloc[0,9])**2 +\n",
    "                                (locals()[\"data_\"+str(t)].iloc[i,10]-locals()[\"data_\"+str(t)].iloc[0,10])**2)\n",
    "        elif D == 12:\n",
    "                locals()[\"data_\"+str(t)][str(D)+\"D_dist\"].iloc[i,] = mt.sqrt((locals()[\"data_\"+str(t)].iloc[i,0]-locals()[\"data_\"+str(t)].iloc[0,0])**2 +\n",
    "                                (locals()[\"data_\"+str(t)].iloc[i,1]-locals()[\"data_\"+str(t)].iloc[0,1])**2 +\n",
    "                                (locals()[\"data_\"+str(t)].iloc[i,2]-locals()[\"data_\"+str(t)].iloc[0,2])**2 +\n",
    "                                (locals()[\"data_\"+str(t)].iloc[i,3]-locals()[\"data_\"+str(t)].iloc[0,3])**2 +\n",
    "                                (locals()[\"data_\"+str(t)].iloc[i,4]-locals()[\"data_\"+str(t)].iloc[0,4])**2 +\n",
    "                                (locals()[\"data_\"+str(t)].iloc[i,5]-locals()[\"data_\"+str(t)].iloc[0,5])**2 +\n",
    "                                (locals()[\"data_\"+str(t)].iloc[i,6]-locals()[\"data_\"+str(t)].iloc[0,6])**2 +\n",
    "                                (locals()[\"data_\"+str(t)].iloc[i,7]-locals()[\"data_\"+str(t)].iloc[0,7])**2 +\n",
    "                                (locals()[\"data_\"+str(t)].iloc[i,8]-locals()[\"data_\"+str(t)].iloc[0,8])**2 +\n",
    "                                (locals()[\"data_\"+str(t)].iloc[i,9]-locals()[\"data_\"+str(t)].iloc[0,9])**2 +\n",
    "                                (locals()[\"data_\"+str(t)].iloc[i,10]-locals()[\"data_\"+str(t)].iloc[0,10])**2 +\n",
    "                                (locals()[\"data_\"+str(t)].iloc[i,11]-locals()[\"data_\"+str(t)].iloc[0,11])**2)\n",
    "        elif D == 13:\n",
    "                locals()[\"data_\"+str(t)][str(D)+\"D_dist\"].iloc[i,] = mt.sqrt((locals()[\"data_\"+str(t)].iloc[i,0]-locals()[\"data_\"+str(t)].iloc[0,0])**2 +\n",
    "                                (locals()[\"data_\"+str(t)].iloc[i,1]-locals()[\"data_\"+str(t)].iloc[0,1])**2 +\n",
    "                                (locals()[\"data_\"+str(t)].iloc[i,2]-locals()[\"data_\"+str(t)].iloc[0,2])**2 +\n",
    "                                (locals()[\"data_\"+str(t)].iloc[i,3]-locals()[\"data_\"+str(t)].iloc[0,3])**2 +\n",
    "                                (locals()[\"data_\"+str(t)].iloc[i,4]-locals()[\"data_\"+str(t)].iloc[0,4])**2 +\n",
    "                                (locals()[\"data_\"+str(t)].iloc[i,5]-locals()[\"data_\"+str(t)].iloc[0,5])**2 +\n",
    "                                (locals()[\"data_\"+str(t)].iloc[i,6]-locals()[\"data_\"+str(t)].iloc[0,6])**2 +\n",
    "                                (locals()[\"data_\"+str(t)].iloc[i,7]-locals()[\"data_\"+str(t)].iloc[0,7])**2 +\n",
    "                                (locals()[\"data_\"+str(t)].iloc[i,8]-locals()[\"data_\"+str(t)].iloc[0,8])**2 +\n",
    "                                (locals()[\"data_\"+str(t)].iloc[i,9]-locals()[\"data_\"+str(t)].iloc[0,9])**2 +\n",
    "                                (locals()[\"data_\"+str(t)].iloc[i,10]-locals()[\"data_\"+str(t)].iloc[0,10])**2 +\n",
    "                                (locals()[\"data_\"+str(t)].iloc[i,11]-locals()[\"data_\"+str(t)].iloc[0,11])**2 +\n",
    "                                (locals()[\"data_\"+str(t)].iloc[i,12]-locals()[\"data_\"+str(t)].iloc[0,12])**2)\n",
    "        elif D == 14:\n",
    "                locals()[\"data_\"+str(t)][str(D)+\"D_dist\"].iloc[i,] = mt.sqrt((locals()[\"data_\"+str(t)].iloc[i,0]-locals()[\"data_\"+str(t)].iloc[0,0])**2 +\n",
    "                                (locals()[\"data_\"+str(t)].iloc[i,1]-locals()[\"data_\"+str(t)].iloc[0,1])**2 +\n",
    "                                (locals()[\"data_\"+str(t)].iloc[i,2]-locals()[\"data_\"+str(t)].iloc[0,2])**2 +\n",
    "                                (locals()[\"data_\"+str(t)].iloc[i,3]-locals()[\"data_\"+str(t)].iloc[0,3])**2 +\n",
    "                                (locals()[\"data_\"+str(t)].iloc[i,4]-locals()[\"data_\"+str(t)].iloc[0,4])**2 +\n",
    "                                (locals()[\"data_\"+str(t)].iloc[i,5]-locals()[\"data_\"+str(t)].iloc[0,5])**2 +\n",
    "                                (locals()[\"data_\"+str(t)].iloc[i,6]-locals()[\"data_\"+str(t)].iloc[0,6])**2 +\n",
    "                                (locals()[\"data_\"+str(t)].iloc[i,7]-locals()[\"data_\"+str(t)].iloc[0,7])**2 +\n",
    "                                (locals()[\"data_\"+str(t)].iloc[i,8]-locals()[\"data_\"+str(t)].iloc[0,8])**2 +\n",
    "                                (locals()[\"data_\"+str(t)].iloc[i,9]-locals()[\"data_\"+str(t)].iloc[0,9])**2 +\n",
    "                                (locals()[\"data_\"+str(t)].iloc[i,10]-locals()[\"data_\"+str(t)].iloc[0,10])**2 +\n",
    "                                (locals()[\"data_\"+str(t)].iloc[i,11]-locals()[\"data_\"+str(t)].iloc[0,11])**2 +\n",
    "                                (locals()[\"data_\"+str(t)].iloc[i,12]-locals()[\"data_\"+str(t)].iloc[0,12])**2 +\n",
    "                                (locals()[\"data_\"+str(t)].iloc[i,13]-locals()[\"data_\"+str(t)].iloc[0,13])**2)\n",
    "        elif D == 15:\n",
    "                locals()[\"data_\"+str(t)][str(D)+\"D_dist\"].iloc[i,] = mt.sqrt((locals()[\"data_\"+str(t)].iloc[i,0]-locals()[\"data_\"+str(t)].iloc[0,0])**2 +\n",
    "                                (locals()[\"data_\"+str(t)].iloc[i,1]-locals()[\"data_\"+str(t)].iloc[0,1])**2 +\n",
    "                                (locals()[\"data_\"+str(t)].iloc[i,2]-locals()[\"data_\"+str(t)].iloc[0,2])**2 +\n",
    "                                (locals()[\"data_\"+str(t)].iloc[i,3]-locals()[\"data_\"+str(t)].iloc[0,3])**2 +\n",
    "                                (locals()[\"data_\"+str(t)].iloc[i,4]-locals()[\"data_\"+str(t)].iloc[0,4])**2 +\n",
    "                                (locals()[\"data_\"+str(t)].iloc[i,5]-locals()[\"data_\"+str(t)].iloc[0,5])**2 +\n",
    "                                (locals()[\"data_\"+str(t)].iloc[i,6]-locals()[\"data_\"+str(t)].iloc[0,6])**2 +\n",
    "                                (locals()[\"data_\"+str(t)].iloc[i,7]-locals()[\"data_\"+str(t)].iloc[0,7])**2 +\n",
    "                                (locals()[\"data_\"+str(t)].iloc[i,8]-locals()[\"data_\"+str(t)].iloc[0,8])**2 +\n",
    "                                (locals()[\"data_\"+str(t)].iloc[i,9]-locals()[\"data_\"+str(t)].iloc[0,9])**2 +\n",
    "                                (locals()[\"data_\"+str(t)].iloc[i,10]-locals()[\"data_\"+str(t)].iloc[0,10])**2 +\n",
    "                                (locals()[\"data_\"+str(t)].iloc[i,11]-locals()[\"data_\"+str(t)].iloc[0,11])**2 +\n",
    "                                (locals()[\"data_\"+str(t)].iloc[i,12]-locals()[\"data_\"+str(t)].iloc[0,12])**2 +\n",
    "                                (locals()[\"data_\"+str(t)].iloc[i,13]-locals()[\"data_\"+str(t)].iloc[0,13])**2 +\n",
    "                                (locals()[\"data_\"+str(t)].iloc[i,14]-locals()[\"data_\"+str(t)].iloc[0,14])**2)\n"
   ]
  },
  {
   "cell_type": "code",
   "execution_count": 11,
   "id": "383bbfd0",
   "metadata": {},
   "outputs": [],
   "source": [
    "#It takes approximately 8 minutes.\n",
    "# Calculating 2D_dist and 3D_dist distances to origin for each point for sample sizes of 5000,10000,25000,50000,100000\n",
    "for n in (5000,10000,25000,50000,100000):\n",
    "    for i in range(1,n+1):\n",
    "        for D in (2,3):\n",
    "            #if D == 1:\n",
    "            #    locals()[\"data_\"+str(n)][str(D)+\"D_dist\"].iloc[i,] = mt.sqrt((locals()[\"data_\"+str(n)].iloc[i,0]-locals()[\"data_\"+str(n)].iloc[0,0])**2)\n",
    "            if D == 2:\n",
    "                locals()[\"data_\"+str(n)][str(D)+\"D_dist\"].iloc[i,] = mt.sqrt((locals()[\"data_\"+str(n)].iloc[i,0]-locals()[\"data_\"+str(n)].iloc[0,0])**2 +\n",
    "                                (locals()[\"data_\"+str(n)].iloc[i,1]-locals()[\"data_\"+str(n)].iloc[0,1])**2)\n",
    "            elif D == 3:\n",
    "                locals()[\"data_\"+str(n)][str(D)+\"D_dist\"].iloc[i,] = mt.sqrt((locals()[\"data_\"+str(n)].iloc[i,0]-locals()[\"data_\"+str(n)].iloc[0,0])**2 +\n",
    "                                (locals()[\"data_\"+str(n)].iloc[i,1]-locals()[\"data_\"+str(n)].iloc[0,1])**2 +\n",
    "                                (locals()[\"data_\"+str(n)].iloc[i,2]-locals()[\"data_\"+str(n)].iloc[0,2])**2)   \n"
   ]
  },
  {
   "cell_type": "code",
   "execution_count": 12,
   "id": "b8d5304b",
   "metadata": {},
   "outputs": [],
   "source": [
    "mydata_1000 = data_1000.iloc[1:1001,:] # Created a dataframe that does not include origin point (for sample size 1000)"
   ]
  },
  {
   "cell_type": "code",
   "execution_count": 13,
   "id": "5d8c64ff",
   "metadata": {},
   "outputs": [],
   "source": [
    "# Created a dataframe(indeed,row vector) holding fraction of the points within distance 1 of the origin(for sample size 1000)\n",
    "data_fracts_1000 = pd.DataFrame(columns = ['1D_dist','2D_dist','3D_dist','4D_dist','5D_dist','6D_dist','7D_dist',\n",
    "                                     '8D_dist','9D_dist','10D_dist','11D_dist','12D_dist','13D_dist','14D_dist',\n",
    "                                     '15D_dist'],index=range(1))"
   ]
  },
  {
   "cell_type": "code",
   "execution_count": 14,
   "id": "9baacda6",
   "metadata": {},
   "outputs": [],
   "source": [
    "# Calculated the fractions (for sample size 1000)\n",
    "data_fracts_1000['1D_dist']=len(mydata_1000[mydata_1000['1D_dist']<=1.0])/1000\n",
    "data_fracts_1000['2D_dist']=len(mydata_1000[mydata_1000['2D_dist']<=1.0])/1000\n",
    "data_fracts_1000['3D_dist']=len(mydata_1000[mydata_1000['3D_dist']<=1.0])/1000\n",
    "data_fracts_1000['4D_dist']=len(mydata_1000[mydata_1000['4D_dist']<=1.0])/1000\n",
    "data_fracts_1000['5D_dist']=len(mydata_1000[mydata_1000['5D_dist']<=1.0])/1000\n",
    "data_fracts_1000['6D_dist']=len(mydata_1000[mydata_1000['6D_dist']<=1.0])/1000\n",
    "data_fracts_1000['7D_dist']=len(mydata_1000[mydata_1000['7D_dist']<=1.0])/1000\n",
    "data_fracts_1000['8D_dist']=len(mydata_1000[mydata_1000['8D_dist']<=1.0])/1000\n",
    "data_fracts_1000['9D_dist']=len(mydata_1000[mydata_1000['9D_dist']<=1.0])/1000\n",
    "data_fracts_1000['10D_dist']=len(mydata_1000[mydata_1000['10D_dist']<=1.0])/1000\n",
    "data_fracts_1000['11D_dist']=len(mydata_1000[mydata_1000['11D_dist']<=1.0])/1000\n",
    "data_fracts_1000['12D_dist']=len(mydata_1000[mydata_1000['12D_dist']<=1.0])/1000\n",
    "data_fracts_1000['13D_dist']=len(mydata_1000[mydata_1000['13D_dist']<=1.0])/1000\n",
    "data_fracts_1000['14D_dist']=len(mydata_1000[mydata_1000['14D_dist']<=1.0])/1000\n",
    "data_fracts_1000['15D_dist']=len(mydata_1000[mydata_1000['15D_dist']<=1.0])/1000"
   ]
  },
  {
   "cell_type": "code",
   "execution_count": 15,
   "id": "3b58c4af",
   "metadata": {},
   "outputs": [
    {
     "data": {
      "image/png": "[encoded data removed]",
      "text/plain": [
       "<Figure size 432x288 with 1 Axes>"
      ]
     },
     "metadata": {
      "needs_background": "light"
     },
     "output_type": "display_data"
    }
   ],
   "source": [
    "# Created the scatter plot of D vs fraction (for sample size 1000)\n",
    "D = list(range(1,16))\n",
    "plt.scatter(D, data_fracts_1000.iloc[:,0:15])\n",
    "plt.title(\"D vs Fraction\")\n",
    "plt.xlabel(\"D\")\n",
    "plt.ylabel(\"Fraction\")\n",
    "plt.show()"
   ]
  },
  {
   "cell_type": "code",
   "execution_count": 16,
   "id": "c3a28e7f",
   "metadata": {},
   "outputs": [],
   "source": [
    "#### Part B ####"
   ]
  },
  {
   "cell_type": "code",
   "execution_count": 17,
   "id": "34cec618",
   "metadata": {},
   "outputs": [
    {
     "name": "stdout",
     "output_type": "stream",
     "text": [
      "3.236 3.3180000000000005\n"
     ]
    }
   ],
   "source": [
    "# Calculated pi values by using the area and volume formulas (for sample size 1000)\n",
    "pi_2D = data_fracts_1000.at[0,'2D_dist']/(0.5**2)\n",
    "pi_3D = (3*data_fracts_1000.at[0,'3D_dist'])/(4*(0.5**3))\n",
    "print(pi_2D, pi_3D)"
   ]
  },
  {
   "cell_type": "code",
   "execution_count": 18,
   "id": "3e771e1b",
   "metadata": {},
   "outputs": [],
   "source": [
    "#### Part C ####"
   ]
  },
  {
   "cell_type": "code",
   "execution_count": 19,
   "id": "846346ca",
   "metadata": {},
   "outputs": [],
   "source": [
    "# Created dataframes that do not include origin point (for sample sizes 5000,10000,25000,50000,100000)\n",
    "for n in (5000,10000,25000,50000,100000):\n",
    "    locals()[\"mydata_\"+str(n)] = locals()[\"data_\"+str(n)].iloc[1:n+1,:]"
   ]
  },
  {
   "cell_type": "code",
   "execution_count": 20,
   "id": "dd0ffb37",
   "metadata": {},
   "outputs": [],
   "source": [
    "# Created a dataframes(indeed,row vectors) holding fraction of the points within distance 1 of the origin\n",
    "# (for sample sizes 5000,10000,25000,50000,100000) only for 2D and 3D.\n",
    "for n in (5000,10000,25000,50000,100000):\n",
    "    locals()[\"data_fracts_\"+str(n)] = pd.DataFrame(columns = ['2D_dist','3D_dist'],index=range(1))"
   ]
  },
  {
   "cell_type": "code",
   "execution_count": 21,
   "id": "dcee0f46",
   "metadata": {},
   "outputs": [],
   "source": [
    "# Calculated the fractions (for sample sizes 5000,10000,25000,50000,100000) only for 2D and 3D.\n",
    "data_fracts_5000['2D_dist']=len(mydata_5000[mydata_5000['2D_dist']<=1.0])/5000\n",
    "data_fracts_5000['3D_dist']=len(mydata_5000[mydata_5000['3D_dist']<=1.0])/5000\n",
    "data_fracts_10000['2D_dist']=len(mydata_10000[mydata_10000['2D_dist']<=1.0])/10000\n",
    "data_fracts_10000['3D_dist']=len(mydata_10000[mydata_10000['3D_dist']<=1.0])/10000\n",
    "data_fracts_25000['2D_dist']=len(mydata_25000[mydata_25000['2D_dist']<=1.0])/25000\n",
    "data_fracts_25000['3D_dist']=len(mydata_25000[mydata_25000['3D_dist']<=1.0])/25000\n",
    "data_fracts_50000['2D_dist']=len(mydata_50000[mydata_50000['2D_dist']<=1.0])/50000\n",
    "data_fracts_50000['3D_dist']=len(mydata_50000[mydata_50000['3D_dist']<=1.0])/50000\n",
    "data_fracts_100000['2D_dist']=len(mydata_100000[mydata_100000['2D_dist']<=1.0])/100000\n",
    "data_fracts_100000['3D_dist']=len(mydata_100000[mydata_100000['3D_dist']<=1.0])/100000"
   ]
  },
  {
   "cell_type": "code",
   "execution_count": 22,
   "id": "fa4d6724",
   "metadata": {},
   "outputs": [],
   "source": [
    "# Calculated pi values by using the area and volume formulas (for sample sizes 5000,10000,25000,50000,100000)\n",
    "pi_2D_5k = data_fracts_5000.at[0,'2D_dist']/(0.5**2)\n",
    "pi_3D_5k = (3*data_fracts_5000.at[0,'3D_dist'])/(4*(0.5**3))\n",
    "pi_2D_10k = data_fracts_10000.at[0,'2D_dist']/(0.5**2)\n",
    "pi_3D_10k = (3*data_fracts_10000.at[0,'3D_dist'])/(4*(0.5**3))\n",
    "pi_2D_25k = data_fracts_25000.at[0,'2D_dist']/(0.5**2)\n",
    "pi_3D_25k = (3*data_fracts_25000.at[0,'3D_dist'])/(4*(0.5**3))\n",
    "pi_2D_50k = data_fracts_50000.at[0,'2D_dist']/(0.5**2)\n",
    "pi_3D_50k = (3*data_fracts_50000.at[0,'3D_dist'])/(4*(0.5**3))\n",
    "pi_2D_100k = data_fracts_100000.at[0,'2D_dist']/(0.5**2)\n",
    "pi_3D_100k = (3*data_fracts_100000.at[0,'3D_dist'])/(4*(0.5**3))"
   ]
  },
  {
   "cell_type": "code",
   "execution_count": 23,
   "id": "aec82951",
   "metadata": {},
   "outputs": [
    {
     "data": {
      "image/png": "[encoded data removed]",
      "text/plain": [
       "<Figure size 432x288 with 1 Axes>"
      ]
     },
     "metadata": {
      "needs_background": "light"
     },
     "output_type": "display_data"
    }
   ],
   "source": [
    "# Created a scatter plot that shows estimated Pi values by each dimension for each sample sizes.\n",
    "D=(2,3)\n",
    "plt.scatter(D, (pi_2D_5k,pi_3D_5k), color='orange', marker= '*', label='5000')\n",
    "plt.scatter(D, (pi_2D_10k,pi_3D_10k), color='red', marker= '_', label='10000')\n",
    "plt.scatter(D, (pi_2D_25k,pi_3D_25k), color='green', marker= '.', label='25000')\n",
    "plt.scatter(D, (pi_2D_50k,pi_3D_50k), color='blue', marker= '+', label='50000')\n",
    "plt.scatter(D, (pi_2D_100k,pi_3D_100k), color='purple', marker= 'v', label='100000')\n",
    "plt.title('D vs Pi Values for Each Sample Size')\n",
    "plt.xlabel('D')\n",
    "plt.ylabel('Pi Value')\n",
    "plt.legend()\n",
    "plt.xticks([2,3])  \n",
    "plt.show()\n",
    "# Pi value is 3.14159.. in reality. \n",
    "# From the plot, \n",
    "# it is seen that the closest estimated Pi value is obtained when sample size is 100000. For D=2, it is approximately 3.144 \n",
    "# and for D=3, 3.146. The second closest values for Pi is obtained with sample size of 50000. So, as expected, larger sample\n",
    "# sizes provided us better estimates."
   ]
  },
  {
   "cell_type": "code",
   "execution_count": 24,
   "id": "6bdfff53",
   "metadata": {},
   "outputs": [],
   "source": [
    "#### Part D ####"
   ]
  },
  {
   "cell_type": "code",
   "execution_count": 25,
   "id": "3cc4b82d",
   "metadata": {},
   "outputs": [],
   "source": [
    "# Again creating dictionaries containing 15 dimensions uniformly obtained (for sample size of 1000) \n",
    "t=1000\n",
    "locals()[\"new_d_\"+str(t)]={}\n",
    "for D in range(1,16):\n",
    "    locals()[\"new_d_\"+str(t)][\"dim{0}\".format(D)]= np.random.uniform(-1,1,t)"
   ]
  },
  {
   "cell_type": "code",
   "execution_count": 26,
   "id": "26d67a1e",
   "metadata": {},
   "outputs": [],
   "source": [
    "# Converted the dictionary into a dataframe\n",
    "new_d_1000_ = pd.DataFrame(new_d_1000)"
   ]
  },
  {
   "cell_type": "code",
   "execution_count": 27,
   "id": "2a001a8b",
   "metadata": {},
   "outputs": [],
   "source": [
    "# Created a dictionary that holds 100 test instances\n",
    "locals()[\"test_inst_\"+str(100)]={}\n",
    "for D in range(1,16):\n",
    "    locals()[\"test_inst_\"+str(100)][\"dim{0}\".format(D)]= np.random.uniform(-1,1,100)"
   ]
  },
  {
   "cell_type": "code",
   "execution_count": 28,
   "id": "d0d15879",
   "metadata": {},
   "outputs": [],
   "source": [
    "# Converted the dictionary into a dataframe\n",
    "test_inst_100_ = pd.DataFrame(test_inst_100)"
   ]
  },
  {
   "cell_type": "code",
   "execution_count": 29,
   "id": "cea07453",
   "metadata": {},
   "outputs": [],
   "source": [
    "# Created a dataframe with full of zeros. I will fill them with distances.\n",
    "# 1000 Row 100 Columns. For example, [1,5] will be the distance between 1st point of train data and 5th point of test data\n",
    "zero_data = np.zeros(shape=(1000,100))\n",
    "test_inst_diffs100 = pd.DataFrame(zero_data, columns=list(range(1,101)))"
   ]
  },
  {
   "cell_type": "code",
   "execution_count": 30,
   "id": "cbc592d0",
   "metadata": {},
   "outputs": [],
   "source": [
    "# Arranged index such that they start from 1 (for readability)\n",
    "test_inst_diffs100.index = test_inst_diffs100.index + 1 \n",
    "test_inst_diffs100 = test_inst_diffs100.sort_index()"
   ]
  },
  {
   "cell_type": "code",
   "execution_count": 31,
   "id": "a967028b",
   "metadata": {},
   "outputs": [],
   "source": [
    "# Calculating the distances\n",
    "for i in range(0,1000):\n",
    "    for j in range(0,100):\n",
    "        locals()[\"test_inst_diffs100\"].iloc[i,j] = mt.sqrt((locals()[\"new_d_1000_\"].iloc[i,0]-locals()[\"test_inst_100_\"].iloc[j,0])**2 +\n",
    "                                (locals()[\"new_d_1000_\"].iloc[i,1]-locals()[\"test_inst_100_\"].iloc[j,1])**2 +\n",
    "                                (locals()[\"new_d_1000_\"].iloc[i,2]-locals()[\"test_inst_100_\"].iloc[j,2])**2 +\n",
    "                                (locals()[\"new_d_1000_\"].iloc[i,3]-locals()[\"test_inst_100_\"].iloc[j,3])**2 +\n",
    "                                (locals()[\"new_d_1000_\"].iloc[i,4]-locals()[\"test_inst_100_\"].iloc[j,4])**2 +\n",
    "                                (locals()[\"new_d_1000_\"].iloc[i,5]-locals()[\"test_inst_100_\"].iloc[j,5])**2 +\n",
    "                                (locals()[\"new_d_1000_\"].iloc[i,6]-locals()[\"test_inst_100_\"].iloc[j,6])**2 +\n",
    "                                (locals()[\"new_d_1000_\"].iloc[i,7]-locals()[\"test_inst_100_\"].iloc[j,7])**2 +\n",
    "                                (locals()[\"new_d_1000_\"].iloc[i,8]-locals()[\"test_inst_100_\"].iloc[j,8])**2 +\n",
    "                                (locals()[\"new_d_1000_\"].iloc[i,9]-locals()[\"test_inst_100_\"].iloc[j,9])**2 +\n",
    "                                (locals()[\"new_d_1000_\"].iloc[i,10]-locals()[\"test_inst_100_\"].iloc[j,10])**2 +\n",
    "                                (locals()[\"new_d_1000_\"].iloc[i,11]-locals()[\"test_inst_100_\"].iloc[j,11])**2 +\n",
    "                                (locals()[\"new_d_1000_\"].iloc[i,12]-locals()[\"test_inst_100_\"].iloc[j,12])**2 +\n",
    "                                (locals()[\"new_d_1000_\"].iloc[i,13]-locals()[\"test_inst_100_\"].iloc[j,13])**2 +\n",
    "                                (locals()[\"new_d_1000_\"].iloc[i,14]-locals()[\"test_inst_100_\"].iloc[j,14])**2)\n",
    "    \n",
    "    "
   ]
  },
  {
   "cell_type": "code",
   "execution_count": 32,
   "id": "0750735a",
   "metadata": {},
   "outputs": [
    {
     "data": {
      "text/html": [
       "<div>\n",
       "<style scoped>\n",
       "    .dataframe tbody tr th:only-of-type {\n",
       "        vertical-align: middle;\n",
       "    }\n",
       "\n",
       "    .dataframe tbody tr th {\n",
       "        vertical-align: top;\n",
       "    }\n",
       "\n",
       "    .dataframe thead th {\n",
       "        text-align: right;\n",
       "    }\n",
       "</style>\n",
       "<table border=\"1\" class=\"dataframe\">\n",
       "  <thead>\n",
       "    <tr style=\"text-align: right;\">\n",
       "      <th></th>\n",
       "      <th>1</th>\n",
       "      <th>2</th>\n",
       "      <th>3</th>\n",
       "      <th>4</th>\n",
       "      <th>5</th>\n",
       "      <th>6</th>\n",
       "      <th>7</th>\n",
       "      <th>8</th>\n",
       "      <th>9</th>\n",
       "      <th>10</th>\n",
       "      <th>...</th>\n",
       "      <th>91</th>\n",
       "      <th>92</th>\n",
       "      <th>93</th>\n",
       "      <th>94</th>\n",
       "      <th>95</th>\n",
       "      <th>96</th>\n",
       "      <th>97</th>\n",
       "      <th>98</th>\n",
       "      <th>99</th>\n",
       "      <th>100</th>\n",
       "    </tr>\n",
       "  </thead>\n",
       "  <tbody>\n",
       "    <tr>\n",
       "      <th>1</th>\n",
       "      <td>2.645185</td>\n",
       "      <td>3.453523</td>\n",
       "      <td>2.579236</td>\n",
       "      <td>3.533525</td>\n",
       "      <td>2.178791</td>\n",
       "      <td>3.408655</td>\n",
       "      <td>2.908278</td>\n",
       "      <td>3.031555</td>\n",
       "      <td>3.332496</td>\n",
       "      <td>3.626813</td>\n",
       "      <td>...</td>\n",
       "      <td>3.641847</td>\n",
       "      <td>2.620630</td>\n",
       "      <td>3.402945</td>\n",
       "      <td>3.743647</td>\n",
       "      <td>2.896534</td>\n",
       "      <td>3.231402</td>\n",
       "      <td>3.477257</td>\n",
       "      <td>2.777583</td>\n",
       "      <td>3.823613</td>\n",
       "      <td>3.769007</td>\n",
       "    </tr>\n",
       "    <tr>\n",
       "      <th>2</th>\n",
       "      <td>3.987786</td>\n",
       "      <td>2.869345</td>\n",
       "      <td>2.274094</td>\n",
       "      <td>2.530887</td>\n",
       "      <td>2.735242</td>\n",
       "      <td>2.309913</td>\n",
       "      <td>3.084767</td>\n",
       "      <td>2.798649</td>\n",
       "      <td>2.808039</td>\n",
       "      <td>3.300402</td>\n",
       "      <td>...</td>\n",
       "      <td>3.702771</td>\n",
       "      <td>3.327196</td>\n",
       "      <td>3.730304</td>\n",
       "      <td>2.461183</td>\n",
       "      <td>2.812959</td>\n",
       "      <td>2.286871</td>\n",
       "      <td>3.005684</td>\n",
       "      <td>2.521799</td>\n",
       "      <td>2.973156</td>\n",
       "      <td>2.903471</td>\n",
       "    </tr>\n",
       "    <tr>\n",
       "      <th>3</th>\n",
       "      <td>3.245654</td>\n",
       "      <td>3.484940</td>\n",
       "      <td>3.475418</td>\n",
       "      <td>3.318648</td>\n",
       "      <td>3.975906</td>\n",
       "      <td>3.038168</td>\n",
       "      <td>3.093433</td>\n",
       "      <td>3.064075</td>\n",
       "      <td>3.460260</td>\n",
       "      <td>3.572340</td>\n",
       "      <td>...</td>\n",
       "      <td>2.391450</td>\n",
       "      <td>2.414339</td>\n",
       "      <td>3.140426</td>\n",
       "      <td>3.178292</td>\n",
       "      <td>2.871758</td>\n",
       "      <td>3.464662</td>\n",
       "      <td>2.349914</td>\n",
       "      <td>3.834234</td>\n",
       "      <td>3.538043</td>\n",
       "      <td>3.135330</td>\n",
       "    </tr>\n",
       "    <tr>\n",
       "      <th>4</th>\n",
       "      <td>3.156000</td>\n",
       "      <td>2.717656</td>\n",
       "      <td>2.412142</td>\n",
       "      <td>2.369584</td>\n",
       "      <td>1.841797</td>\n",
       "      <td>2.863530</td>\n",
       "      <td>2.946168</td>\n",
       "      <td>2.788473</td>\n",
       "      <td>2.807487</td>\n",
       "      <td>2.879984</td>\n",
       "      <td>...</td>\n",
       "      <td>3.622508</td>\n",
       "      <td>3.594812</td>\n",
       "      <td>3.090479</td>\n",
       "      <td>2.591067</td>\n",
       "      <td>3.338124</td>\n",
       "      <td>2.636020</td>\n",
       "      <td>3.051905</td>\n",
       "      <td>1.832429</td>\n",
       "      <td>3.017708</td>\n",
       "      <td>3.694742</td>\n",
       "    </tr>\n",
       "    <tr>\n",
       "      <th>5</th>\n",
       "      <td>4.134246</td>\n",
       "      <td>3.697086</td>\n",
       "      <td>2.953842</td>\n",
       "      <td>2.484679</td>\n",
       "      <td>3.472449</td>\n",
       "      <td>2.154404</td>\n",
       "      <td>3.501064</td>\n",
       "      <td>2.788797</td>\n",
       "      <td>3.436940</td>\n",
       "      <td>3.379805</td>\n",
       "      <td>...</td>\n",
       "      <td>3.147492</td>\n",
       "      <td>3.475635</td>\n",
       "      <td>3.361530</td>\n",
       "      <td>3.319871</td>\n",
       "      <td>3.385299</td>\n",
       "      <td>2.733402</td>\n",
       "      <td>2.721434</td>\n",
       "      <td>3.112654</td>\n",
       "      <td>2.609206</td>\n",
       "      <td>2.424169</td>\n",
       "    </tr>\n",
       "    <tr>\n",
       "      <th>...</th>\n",
       "      <td>...</td>\n",
       "      <td>...</td>\n",
       "      <td>...</td>\n",
       "      <td>...</td>\n",
       "      <td>...</td>\n",
       "      <td>...</td>\n",
       "      <td>...</td>\n",
       "      <td>...</td>\n",
       "      <td>...</td>\n",
       "      <td>...</td>\n",
       "      <td>...</td>\n",
       "      <td>...</td>\n",
       "      <td>...</td>\n",
       "      <td>...</td>\n",
       "      <td>...</td>\n",
       "      <td>...</td>\n",
       "      <td>...</td>\n",
       "      <td>...</td>\n",
       "      <td>...</td>\n",
       "      <td>...</td>\n",
       "      <td>...</td>\n",
       "    </tr>\n",
       "    <tr>\n",
       "      <th>996</th>\n",
       "      <td>2.618379</td>\n",
       "      <td>3.168601</td>\n",
       "      <td>2.854074</td>\n",
       "      <td>3.224930</td>\n",
       "      <td>3.173815</td>\n",
       "      <td>2.622003</td>\n",
       "      <td>3.011918</td>\n",
       "      <td>2.899913</td>\n",
       "      <td>2.894839</td>\n",
       "      <td>2.861091</td>\n",
       "      <td>...</td>\n",
       "      <td>3.623204</td>\n",
       "      <td>3.332573</td>\n",
       "      <td>3.048297</td>\n",
       "      <td>3.173903</td>\n",
       "      <td>3.234150</td>\n",
       "      <td>2.868626</td>\n",
       "      <td>2.722705</td>\n",
       "      <td>2.942003</td>\n",
       "      <td>2.619311</td>\n",
       "      <td>3.478750</td>\n",
       "    </tr>\n",
       "    <tr>\n",
       "      <th>997</th>\n",
       "      <td>2.342043</td>\n",
       "      <td>3.055527</td>\n",
       "      <td>2.651393</td>\n",
       "      <td>3.167554</td>\n",
       "      <td>2.494773</td>\n",
       "      <td>2.955061</td>\n",
       "      <td>2.362158</td>\n",
       "      <td>3.234417</td>\n",
       "      <td>2.886313</td>\n",
       "      <td>3.415593</td>\n",
       "      <td>...</td>\n",
       "      <td>3.156159</td>\n",
       "      <td>2.675988</td>\n",
       "      <td>3.251170</td>\n",
       "      <td>3.118077</td>\n",
       "      <td>2.226220</td>\n",
       "      <td>2.817841</td>\n",
       "      <td>2.955550</td>\n",
       "      <td>2.768888</td>\n",
       "      <td>3.390429</td>\n",
       "      <td>3.058929</td>\n",
       "    </tr>\n",
       "    <tr>\n",
       "      <th>998</th>\n",
       "      <td>3.302844</td>\n",
       "      <td>2.757521</td>\n",
       "      <td>3.397622</td>\n",
       "      <td>3.064962</td>\n",
       "      <td>3.551082</td>\n",
       "      <td>2.731883</td>\n",
       "      <td>3.742275</td>\n",
       "      <td>2.321390</td>\n",
       "      <td>2.840368</td>\n",
       "      <td>3.107103</td>\n",
       "      <td>...</td>\n",
       "      <td>4.073403</td>\n",
       "      <td>3.073918</td>\n",
       "      <td>3.212999</td>\n",
       "      <td>3.072247</td>\n",
       "      <td>2.603520</td>\n",
       "      <td>3.670205</td>\n",
       "      <td>3.140034</td>\n",
       "      <td>2.919886</td>\n",
       "      <td>3.002751</td>\n",
       "      <td>3.696057</td>\n",
       "    </tr>\n",
       "    <tr>\n",
       "      <th>999</th>\n",
       "      <td>3.439302</td>\n",
       "      <td>2.927151</td>\n",
       "      <td>2.208340</td>\n",
       "      <td>2.748336</td>\n",
       "      <td>2.849399</td>\n",
       "      <td>2.806373</td>\n",
       "      <td>2.611661</td>\n",
       "      <td>2.901369</td>\n",
       "      <td>2.670321</td>\n",
       "      <td>3.823837</td>\n",
       "      <td>...</td>\n",
       "      <td>3.210568</td>\n",
       "      <td>2.378865</td>\n",
       "      <td>3.868009</td>\n",
       "      <td>2.725829</td>\n",
       "      <td>2.752383</td>\n",
       "      <td>2.750312</td>\n",
       "      <td>3.048404</td>\n",
       "      <td>2.588039</td>\n",
       "      <td>2.689796</td>\n",
       "      <td>3.066541</td>\n",
       "    </tr>\n",
       "    <tr>\n",
       "      <th>1000</th>\n",
       "      <td>2.855613</td>\n",
       "      <td>3.212683</td>\n",
       "      <td>3.027473</td>\n",
       "      <td>3.183324</td>\n",
       "      <td>2.925125</td>\n",
       "      <td>2.951695</td>\n",
       "      <td>2.768354</td>\n",
       "      <td>2.734856</td>\n",
       "      <td>2.917981</td>\n",
       "      <td>3.986510</td>\n",
       "      <td>...</td>\n",
       "      <td>2.966200</td>\n",
       "      <td>2.477501</td>\n",
       "      <td>3.711024</td>\n",
       "      <td>3.398119</td>\n",
       "      <td>2.826280</td>\n",
       "      <td>3.212334</td>\n",
       "      <td>3.534194</td>\n",
       "      <td>2.602917</td>\n",
       "      <td>2.944504</td>\n",
       "      <td>3.300329</td>\n",
       "    </tr>\n",
       "  </tbody>\n",
       "</table>\n",
       "<p>1000 rows × 100 columns</p>\n",
       "</div>"
      ],
      "text/plain": [
       "           1         2         3         4         5         6         7    \\\n",
       "1     2.645185  3.453523  2.579236  3.533525  2.178791  3.408655  2.908278   \n",
       "2     3.987786  2.869345  2.274094  2.530887  2.735242  2.309913  3.084767   \n",
       "3     3.245654  3.484940  3.475418  3.318648  3.975906  3.038168  3.093433   \n",
       "4     3.156000  2.717656  2.412142  2.369584  1.841797  2.863530  2.946168   \n",
       "5     4.134246  3.697086  2.953842  2.484679  3.472449  2.154404  3.501064   \n",
       "...        ...       ...       ...       ...       ...       ...       ...   \n",
       "996   2.618379  3.168601  2.854074  3.224930  3.173815  2.622003  3.011918   \n",
       "997   2.342043  3.055527  2.651393  3.167554  2.494773  2.955061  2.362158   \n",
       "998   3.302844  2.757521  3.397622  3.064962  3.551082  2.731883  3.742275   \n",
       "999   3.439302  2.927151  2.208340  2.748336  2.849399  2.806373  2.611661   \n",
       "1000  2.855613  3.212683  3.027473  3.183324  2.925125  2.951695  2.768354   \n",
       "\n",
       "           8         9         10   ...       91        92        93   \\\n",
       "1     3.031555  3.332496  3.626813  ...  3.641847  2.620630  3.402945   \n",
       "2     2.798649  2.808039  3.300402  ...  3.702771  3.327196  3.730304   \n",
       "3     3.064075  3.460260  3.572340  ...  2.391450  2.414339  3.140426   \n",
       "4     2.788473  2.807487  2.879984  ...  3.622508  3.594812  3.090479   \n",
       "5     2.788797  3.436940  3.379805  ...  3.147492  3.475635  3.361530   \n",
       "...        ...       ...       ...  ...       ...       ...       ...   \n",
       "996   2.899913  2.894839  2.861091  ...  3.623204  3.332573  3.048297   \n",
       "997   3.234417  2.886313  3.415593  ...  3.156159  2.675988  3.251170   \n",
       "998   2.321390  2.840368  3.107103  ...  4.073403  3.073918  3.212999   \n",
       "999   2.901369  2.670321  3.823837  ...  3.210568  2.378865  3.868009   \n",
       "1000  2.734856  2.917981  3.986510  ...  2.966200  2.477501  3.711024   \n",
       "\n",
       "           94        95        96        97        98        99        100  \n",
       "1     3.743647  2.896534  3.231402  3.477257  2.777583  3.823613  3.769007  \n",
       "2     2.461183  2.812959  2.286871  3.005684  2.521799  2.973156  2.903471  \n",
       "3     3.178292  2.871758  3.464662  2.349914  3.834234  3.538043  3.135330  \n",
       "4     2.591067  3.338124  2.636020  3.051905  1.832429  3.017708  3.694742  \n",
       "5     3.319871  3.385299  2.733402  2.721434  3.112654  2.609206  2.424169  \n",
       "...        ...       ...       ...       ...       ...       ...       ...  \n",
       "996   3.173903  3.234150  2.868626  2.722705  2.942003  2.619311  3.478750  \n",
       "997   3.118077  2.226220  2.817841  2.955550  2.768888  3.390429  3.058929  \n",
       "998   3.072247  2.603520  3.670205  3.140034  2.919886  3.002751  3.696057  \n",
       "999   2.725829  2.752383  2.750312  3.048404  2.588039  2.689796  3.066541  \n",
       "1000  3.398119  2.826280  3.212334  3.534194  2.602917  2.944504  3.300329  \n",
       "\n",
       "[1000 rows x 100 columns]"
      ]
     },
     "execution_count": 32,
     "metadata": {},
     "output_type": "execute_result"
    }
   ],
   "source": [
    "test_inst_diffs100 # Shows distances between each point. \n",
    "# For example, [1,5] will be the distance between 1st point of train data and 5th point of test data"
   ]
  },
  {
   "cell_type": "code",
   "execution_count": 33,
   "id": "ac751a61",
   "metadata": {},
   "outputs": [],
   "source": [
    "# Created column vectors for each instance of 100 test instances. Column is ordered in ascending order. So, the first element\n",
    "# is the minimum distance value to that test instance. Minimum distance and corresponding index gives us the nearest neighbor \n",
    "# of that test instance point\n",
    "for i in range(1,101):\n",
    "    locals()[\"test_inf_diffs100_\"+str(i)] = locals()[\"test_inst_diffs100\"].iloc[:,i-1]\n",
    "    locals()[\"test_inf_diffs100_\"+str(i)] = pd.DataFrame(locals()[\"test_inf_diffs100_\"+str(i)])\n",
    "    locals()[\"test_inf_diffs100_\"+str(i)] = locals()[\"test_inf_diffs100_\"+str(i)].sort_values(by=[i])"
   ]
  },
  {
   "cell_type": "code",
   "execution_count": 34,
   "id": "6f80a9d8",
   "metadata": {},
   "outputs": [],
   "source": [
    "# Created a dictionary. It will hold the minimum distances of each test instance to their nearest neighbor.\n",
    "# (That's why [0,0] element of each dictionary is taken)\n",
    "locals()[\"test_inf_diffs100_d\"]={}\n",
    "for i in range (1,101):\n",
    "    locals()[\"test_inf_diffs100_d\"][\"dist{0}\".format(i)] = locals()[\"test_inf_diffs100_\"+str(i)].iloc[0,0]"
   ]
  },
  {
   "cell_type": "code",
   "execution_count": 35,
   "id": "a8a9b70c",
   "metadata": {},
   "outputs": [],
   "source": [
    "# Dictionary is converted into dataframe.\n",
    "test_inf_diffs100_d=pd.DataFrame(test_inf_diffs100_d,index=[0])"
   ]
  },
  {
   "cell_type": "code",
   "execution_count": 36,
   "id": "a460978e",
   "metadata": {},
   "outputs": [
    {
     "data": {
      "image/png": "[encoded data removed]",
      "text/plain": [
       "<Figure size 432x288 with 1 Axes>"
      ]
     },
     "metadata": {
      "needs_background": "light"
     },
     "output_type": "display_data"
    }
   ],
   "source": [
    "# Created a scatter plot that shows each point of 100 test instances and their corresponding minimum distance to their \n",
    "# nearest neighbors.\n",
    "P = pd.DataFrame(range(1,101))\n",
    "plt.scatter(P, test_inf_diffs100_d)\n",
    "plt.title(\"Distance vs Test Instance Point\")\n",
    "plt.xlabel(\"Point\")\n",
    "plt.ylabel(\"Distance to Nearest Neighbor of that Point\")\n",
    "plt.show()"
   ]
  },
  {
   "cell_type": "code",
   "execution_count": 37,
   "id": "3be832c7",
   "metadata": {},
   "outputs": [
    {
     "data": {
      "image/png": "[encoded data removed]",
      "text/plain": [
       "<Figure size 432x288 with 1 Axes>"
      ]
     },
     "metadata": {
      "needs_background": "light"
     },
     "output_type": "display_data"
    }
   ],
   "source": [
    "# Created a line plot that shows each point of 100 test instances and their corresponding minimum distance to their \n",
    "# nearest neighbors.\n",
    "P = pd.DataFrame(range(1,101))\n",
    "P = P.to_numpy()\n",
    "test_inf_diffs100_dtr=test_inf_diffs100_d.transpose()\n",
    "plt.plot(P, test_inf_diffs100_dtr)\n",
    "plt.title(\"Distance vs Test Instance Point\")\n",
    "plt.xlabel(\"Point\")\n",
    "plt.ylabel(\"Distance to Nearest Neighbor of that Point\")\n",
    "plt.show()"
   ]
  },
  {
   "cell_type": "code",
   "execution_count": 38,
   "id": "d3a1a576",
   "metadata": {},
   "outputs": [],
   "source": [
    "import os"
   ]
  },
  {
   "cell_type": "code",
   "execution_count": 39,
   "id": "8c7ea8ba",
   "metadata": {},
   "outputs": [
    {
     "data": {
      "text/plain": [
       "0"
      ]
     },
     "execution_count": 39,
     "metadata": {},
     "output_type": "execute_result"
    }
   ],
   "source": [
    "os.system('jupyter nbconvert --to html HW1_Task1_Final.ipynb')"
   ]
  }
 ],
 "metadata": {
  "kernelspec": {
   "display_name": "Python 3",
   "language": "python",
   "name": "python3"
  },
  "language_info": {
   "codemirror_mode": {
    "name": "ipython",
    "version": 3
   },
   "file_extension": ".py",
   "mimetype": "text/x-python",
   "name": "python",
   "nbconvert_exporter": "python",
   "pygments_lexer": "ipython3",
   "version": "3.8.8"
  }
 },
 "nbformat": 4,
 "nbformat_minor": 5
}
