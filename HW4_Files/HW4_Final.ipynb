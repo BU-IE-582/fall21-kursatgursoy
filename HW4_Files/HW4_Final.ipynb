{
 "cells": [
  {
   "cell_type": "markdown",
   "id": "ba2a029b",
   "metadata": {},
   "source": [
    "# IE 582 - HW4 - Kürşat Gürsoy"
   ]
  },
  {
   "cell_type": "markdown",
   "id": "ba48e151",
   "metadata": {},
   "source": [
    "#### Task:\n",
    "Suggest two alternative bag-level representations for the given multiple instance learning problem.\n",
    "Based on the proposed bag-level representations for Musk1 dataset, evaluate at least two reasonable\n",
    "classifiers (of your choice). The example representation is very simple and introduced for illustration\n",
    "purposes. Please do not consider it as a valid alternative. You are expected to justify your bag-level\n",
    "representation approach. This may be achieved by some descriptive analysis you perform (to motivate\n",
    "your approaches). You can benefit from the literature as long as you provide your references\n",
    "accordingly. Please note that if the proposed representation approach has certain parameters, these\n",
    "parameters are also part of your algorithm. Hence, representation parameters (if there is any) should\n",
    "also be tuned together with the parameters of your proposed approach. Specify the best set of parameter\n",
    "combination for the proposed representations and your classifier. Use the accuracy based on 10-fold\n",
    "cross-validation on the training data as your primary performance metric in your evaluations."
   ]
  },
  {
   "cell_type": "code",
   "execution_count": 1,
   "id": "febf6a7b",
   "metadata": {},
   "outputs": [],
   "source": [
    "import numpy as np\n",
    "import pandas as pd\n",
    "import math as mt\n",
    "import matplotlib.pyplot as plt\n",
    "import os\n",
    "import math\n",
    "from sklearn.preprocessing import StandardScaler\n",
    "from sklearn.decomposition import PCA\n",
    "import sklearn.metrics.pairwise as smp\n",
    "from sklearn.datasets import make_swiss_roll \n",
    "from sklearn.manifold import MDS \n",
    "from sklearn.preprocessing import MinMaxScaler\n",
    "from mpl_toolkits.mplot3d import Axes3D\n",
    "import random\n",
    "from sklearn.neighbors import KNeighborsClassifier\n",
    "from sklearn.model_selection import train_test_split\n",
    "from scipy import spatial \n",
    "from math import comb\n",
    "from sklearn.model_selection import cross_val_score\n",
    "from sklearn.model_selection import RepeatedKFold\n",
    "from matplotlib.ticker import FormatStrFormatter\n",
    "from sklearn.metrics import confusion_matrix\n",
    "from sklearn.metrics import matthews_corrcoef, f1_score\n",
    "import time\n",
    "from sklearn.metrics.pairwise import euclidean_distances\n",
    "from sklearn.linear_model import LogisticRegression\n",
    "from sklearn.ensemble import RandomForestClassifier\n",
    "from sklearn.model_selection import GridSearchCV"
   ]
  },
  {
   "cell_type": "code",
   "execution_count": 2,
   "id": "5bd6f6c6",
   "metadata": {},
   "outputs": [
    {
     "data": {
      "text/html": [
       "<div>\n",
       "<style scoped>\n",
       "    .dataframe tbody tr th:only-of-type {\n",
       "        vertical-align: middle;\n",
       "    }\n",
       "\n",
       "    .dataframe tbody tr th {\n",
       "        vertical-align: top;\n",
       "    }\n",
       "\n",
       "    .dataframe thead th {\n",
       "        text-align: right;\n",
       "    }\n",
       "</style>\n",
       "<table border=\"1\" class=\"dataframe\">\n",
       "  <thead>\n",
       "    <tr style=\"text-align: right;\">\n",
       "      <th></th>\n",
       "      <th>MuskClass</th>\n",
       "      <th>BagID</th>\n",
       "      <th>f1</th>\n",
       "      <th>f2</th>\n",
       "      <th>f3</th>\n",
       "      <th>f4</th>\n",
       "      <th>f5</th>\n",
       "      <th>f6</th>\n",
       "      <th>f7</th>\n",
       "      <th>f8</th>\n",
       "      <th>...</th>\n",
       "      <th>f157</th>\n",
       "      <th>f158</th>\n",
       "      <th>f159</th>\n",
       "      <th>f160</th>\n",
       "      <th>f161</th>\n",
       "      <th>f162</th>\n",
       "      <th>f163</th>\n",
       "      <th>f164</th>\n",
       "      <th>f165</th>\n",
       "      <th>f166</th>\n",
       "    </tr>\n",
       "  </thead>\n",
       "  <tbody>\n",
       "    <tr>\n",
       "      <th>0</th>\n",
       "      <td>1</td>\n",
       "      <td>1</td>\n",
       "      <td>42</td>\n",
       "      <td>-198</td>\n",
       "      <td>-109</td>\n",
       "      <td>-75</td>\n",
       "      <td>-117</td>\n",
       "      <td>11</td>\n",
       "      <td>23</td>\n",
       "      <td>-88</td>\n",
       "      <td>...</td>\n",
       "      <td>-238</td>\n",
       "      <td>-74</td>\n",
       "      <td>-129</td>\n",
       "      <td>-120</td>\n",
       "      <td>-38</td>\n",
       "      <td>30</td>\n",
       "      <td>48</td>\n",
       "      <td>-37</td>\n",
       "      <td>6</td>\n",
       "      <td>30</td>\n",
       "    </tr>\n",
       "    <tr>\n",
       "      <th>1</th>\n",
       "      <td>1</td>\n",
       "      <td>1</td>\n",
       "      <td>42</td>\n",
       "      <td>-191</td>\n",
       "      <td>-142</td>\n",
       "      <td>-65</td>\n",
       "      <td>-117</td>\n",
       "      <td>55</td>\n",
       "      <td>49</td>\n",
       "      <td>-170</td>\n",
       "      <td>...</td>\n",
       "      <td>-238</td>\n",
       "      <td>-302</td>\n",
       "      <td>60</td>\n",
       "      <td>-120</td>\n",
       "      <td>-39</td>\n",
       "      <td>31</td>\n",
       "      <td>48</td>\n",
       "      <td>-37</td>\n",
       "      <td>5</td>\n",
       "      <td>30</td>\n",
       "    </tr>\n",
       "    <tr>\n",
       "      <th>2</th>\n",
       "      <td>1</td>\n",
       "      <td>1</td>\n",
       "      <td>42</td>\n",
       "      <td>-191</td>\n",
       "      <td>-142</td>\n",
       "      <td>-75</td>\n",
       "      <td>-117</td>\n",
       "      <td>11</td>\n",
       "      <td>49</td>\n",
       "      <td>-161</td>\n",
       "      <td>...</td>\n",
       "      <td>-238</td>\n",
       "      <td>-73</td>\n",
       "      <td>-127</td>\n",
       "      <td>-120</td>\n",
       "      <td>-38</td>\n",
       "      <td>30</td>\n",
       "      <td>48</td>\n",
       "      <td>-37</td>\n",
       "      <td>5</td>\n",
       "      <td>31</td>\n",
       "    </tr>\n",
       "    <tr>\n",
       "      <th>3</th>\n",
       "      <td>1</td>\n",
       "      <td>1</td>\n",
       "      <td>42</td>\n",
       "      <td>-198</td>\n",
       "      <td>-110</td>\n",
       "      <td>-65</td>\n",
       "      <td>-117</td>\n",
       "      <td>55</td>\n",
       "      <td>23</td>\n",
       "      <td>-95</td>\n",
       "      <td>...</td>\n",
       "      <td>-238</td>\n",
       "      <td>-302</td>\n",
       "      <td>60</td>\n",
       "      <td>-120</td>\n",
       "      <td>-39</td>\n",
       "      <td>30</td>\n",
       "      <td>48</td>\n",
       "      <td>-37</td>\n",
       "      <td>6</td>\n",
       "      <td>30</td>\n",
       "    </tr>\n",
       "    <tr>\n",
       "      <th>4</th>\n",
       "      <td>1</td>\n",
       "      <td>2</td>\n",
       "      <td>42</td>\n",
       "      <td>-198</td>\n",
       "      <td>-102</td>\n",
       "      <td>-75</td>\n",
       "      <td>-117</td>\n",
       "      <td>10</td>\n",
       "      <td>24</td>\n",
       "      <td>-87</td>\n",
       "      <td>...</td>\n",
       "      <td>-238</td>\n",
       "      <td>-73</td>\n",
       "      <td>-127</td>\n",
       "      <td>51</td>\n",
       "      <td>128</td>\n",
       "      <td>144</td>\n",
       "      <td>43</td>\n",
       "      <td>-30</td>\n",
       "      <td>14</td>\n",
       "      <td>26</td>\n",
       "    </tr>\n",
       "    <tr>\n",
       "      <th>...</th>\n",
       "      <td>...</td>\n",
       "      <td>...</td>\n",
       "      <td>...</td>\n",
       "      <td>...</td>\n",
       "      <td>...</td>\n",
       "      <td>...</td>\n",
       "      <td>...</td>\n",
       "      <td>...</td>\n",
       "      <td>...</td>\n",
       "      <td>...</td>\n",
       "      <td>...</td>\n",
       "      <td>...</td>\n",
       "      <td>...</td>\n",
       "      <td>...</td>\n",
       "      <td>...</td>\n",
       "      <td>...</td>\n",
       "      <td>...</td>\n",
       "      <td>...</td>\n",
       "      <td>...</td>\n",
       "      <td>...</td>\n",
       "      <td>...</td>\n",
       "    </tr>\n",
       "    <tr>\n",
       "      <th>471</th>\n",
       "      <td>0</td>\n",
       "      <td>92</td>\n",
       "      <td>49</td>\n",
       "      <td>-199</td>\n",
       "      <td>-161</td>\n",
       "      <td>29</td>\n",
       "      <td>-95</td>\n",
       "      <td>-86</td>\n",
       "      <td>-48</td>\n",
       "      <td>2</td>\n",
       "      <td>...</td>\n",
       "      <td>-220</td>\n",
       "      <td>-246</td>\n",
       "      <td>-209</td>\n",
       "      <td>33</td>\n",
       "      <td>152</td>\n",
       "      <td>134</td>\n",
       "      <td>47</td>\n",
       "      <td>-43</td>\n",
       "      <td>-15</td>\n",
       "      <td>-10</td>\n",
       "    </tr>\n",
       "    <tr>\n",
       "      <th>472</th>\n",
       "      <td>0</td>\n",
       "      <td>92</td>\n",
       "      <td>38</td>\n",
       "      <td>-123</td>\n",
       "      <td>-139</td>\n",
       "      <td>30</td>\n",
       "      <td>-117</td>\n",
       "      <td>-88</td>\n",
       "      <td>214</td>\n",
       "      <td>-13</td>\n",
       "      <td>...</td>\n",
       "      <td>-236</td>\n",
       "      <td>-226</td>\n",
       "      <td>-210</td>\n",
       "      <td>20</td>\n",
       "      <td>55</td>\n",
       "      <td>119</td>\n",
       "      <td>79</td>\n",
       "      <td>-28</td>\n",
       "      <td>4</td>\n",
       "      <td>74</td>\n",
       "    </tr>\n",
       "    <tr>\n",
       "      <th>473</th>\n",
       "      <td>0</td>\n",
       "      <td>92</td>\n",
       "      <td>43</td>\n",
       "      <td>-102</td>\n",
       "      <td>-20</td>\n",
       "      <td>-101</td>\n",
       "      <td>-116</td>\n",
       "      <td>200</td>\n",
       "      <td>-166</td>\n",
       "      <td>66</td>\n",
       "      <td>...</td>\n",
       "      <td>114</td>\n",
       "      <td>32</td>\n",
       "      <td>136</td>\n",
       "      <td>-15</td>\n",
       "      <td>143</td>\n",
       "      <td>121</td>\n",
       "      <td>55</td>\n",
       "      <td>-37</td>\n",
       "      <td>-19</td>\n",
       "      <td>-36</td>\n",
       "    </tr>\n",
       "    <tr>\n",
       "      <th>474</th>\n",
       "      <td>0</td>\n",
       "      <td>92</td>\n",
       "      <td>39</td>\n",
       "      <td>-58</td>\n",
       "      <td>27</td>\n",
       "      <td>31</td>\n",
       "      <td>-117</td>\n",
       "      <td>-92</td>\n",
       "      <td>85</td>\n",
       "      <td>21</td>\n",
       "      <td>...</td>\n",
       "      <td>-228</td>\n",
       "      <td>-232</td>\n",
       "      <td>-206</td>\n",
       "      <td>13</td>\n",
       "      <td>45</td>\n",
       "      <td>116</td>\n",
       "      <td>79</td>\n",
       "      <td>-28</td>\n",
       "      <td>3</td>\n",
       "      <td>74</td>\n",
       "    </tr>\n",
       "    <tr>\n",
       "      <th>475</th>\n",
       "      <td>0</td>\n",
       "      <td>92</td>\n",
       "      <td>52</td>\n",
       "      <td>-121</td>\n",
       "      <td>-24</td>\n",
       "      <td>-104</td>\n",
       "      <td>-116</td>\n",
       "      <td>195</td>\n",
       "      <td>-162</td>\n",
       "      <td>76</td>\n",
       "      <td>...</td>\n",
       "      <td>99</td>\n",
       "      <td>34</td>\n",
       "      <td>133</td>\n",
       "      <td>-20</td>\n",
       "      <td>-46</td>\n",
       "      <td>95</td>\n",
       "      <td>98</td>\n",
       "      <td>-14</td>\n",
       "      <td>12</td>\n",
       "      <td>96</td>\n",
       "    </tr>\n",
       "  </tbody>\n",
       "</table>\n",
       "<p>476 rows × 168 columns</p>\n",
       "</div>"
      ],
      "text/plain": [
       "     MuskClass  BagID  f1   f2   f3   f4   f5   f6   f7   f8  ...  f157  f158  \\\n",
       "0            1      1  42 -198 -109  -75 -117   11   23  -88  ...  -238   -74   \n",
       "1            1      1  42 -191 -142  -65 -117   55   49 -170  ...  -238  -302   \n",
       "2            1      1  42 -191 -142  -75 -117   11   49 -161  ...  -238   -73   \n",
       "3            1      1  42 -198 -110  -65 -117   55   23  -95  ...  -238  -302   \n",
       "4            1      2  42 -198 -102  -75 -117   10   24  -87  ...  -238   -73   \n",
       "..         ...    ...  ..  ...  ...  ...  ...  ...  ...  ...  ...   ...   ...   \n",
       "471          0     92  49 -199 -161   29  -95  -86  -48    2  ...  -220  -246   \n",
       "472          0     92  38 -123 -139   30 -117  -88  214  -13  ...  -236  -226   \n",
       "473          0     92  43 -102  -20 -101 -116  200 -166   66  ...   114    32   \n",
       "474          0     92  39  -58   27   31 -117  -92   85   21  ...  -228  -232   \n",
       "475          0     92  52 -121  -24 -104 -116  195 -162   76  ...    99    34   \n",
       "\n",
       "     f159  f160  f161  f162  f163  f164  f165  f166  \n",
       "0    -129  -120   -38    30    48   -37     6    30  \n",
       "1      60  -120   -39    31    48   -37     5    30  \n",
       "2    -127  -120   -38    30    48   -37     5    31  \n",
       "3      60  -120   -39    30    48   -37     6    30  \n",
       "4    -127    51   128   144    43   -30    14    26  \n",
       "..    ...   ...   ...   ...   ...   ...   ...   ...  \n",
       "471  -209    33   152   134    47   -43   -15   -10  \n",
       "472  -210    20    55   119    79   -28     4    74  \n",
       "473   136   -15   143   121    55   -37   -19   -36  \n",
       "474  -206    13    45   116    79   -28     3    74  \n",
       "475   133   -20   -46    95    98   -14    12    96  \n",
       "\n",
       "[476 rows x 168 columns]"
      ]
     },
     "execution_count": 2,
     "metadata": {},
     "output_type": "execute_result"
    }
   ],
   "source": [
    "# Reading data and renaming columns\n",
    "data = pd.read_csv(r'C:\\Users\\IKG\\Desktop\\HW4_Files\\Musk1.csv', header=None)\n",
    "data.columns =[\"f\"+str(i) for i in range(-1, 167)]\n",
    "data.rename(columns={'f-1':'MuskClass', 'f0':'BagID' }, inplace = True)\n",
    "data"
   ]
  },
  {
   "cell_type": "code",
   "execution_count": 3,
   "id": "373328fb",
   "metadata": {},
   "outputs": [
    {
     "data": {
      "text/plain": [
       "0    269\n",
       "1    207\n",
       "Name: MuskClass, dtype: int64"
      ]
     },
     "execution_count": 3,
     "metadata": {},
     "output_type": "execute_result"
    }
   ],
   "source": [
    "# Checked how many of single instances are judged to be Musks(1) and non-Musks(0)\n",
    "data.iloc[:,0].value_counts() "
   ]
  },
  {
   "cell_type": "code",
   "execution_count": 4,
   "id": "69721714",
   "metadata": {},
   "outputs": [
    {
     "data": {
      "text/plain": [
       "1    47\n",
       "0    45\n",
       "Name: MuskClass, dtype: int64"
      ]
     },
     "execution_count": 4,
     "metadata": {},
     "output_type": "execute_result"
    }
   ],
   "source": [
    "# Checked how many of bags are judged to be Musks and non-Musks\n",
    "df = pd.DataFrame(data.iloc[:,0:2])\n",
    "df.drop_duplicates(keep = 'first', inplace = True)\n",
    "df = df.reset_index(drop=True)\n",
    "df['MuskClass'].value_counts() "
   ]
  },
  {
   "cell_type": "code",
   "execution_count": 5,
   "id": "8cbb68ac",
   "metadata": {},
   "outputs": [],
   "source": [
    "# Created a dataframe that holds the number of instances exist for each bag\n",
    "bag_valuecounts = data.iloc[:,1].value_counts().sort_index()\n",
    "bag_valuecounts = pd.DataFrame(bag_valuecounts)\n",
    "bag_valuecounts.rename(columns={'BagID': 'Counts'}, inplace = True)"
   ]
  },
  {
   "cell_type": "code",
   "execution_count": 6,
   "id": "ca0fd4c8",
   "metadata": {},
   "outputs": [
    {
     "data": {
      "image/png": "[encoded data removed]",
      "text/plain": [
       "<Figure size 720x360 with 1 Axes>"
      ]
     },
     "metadata": {
      "needs_background": "light"
     },
     "output_type": "display_data"
    }
   ],
   "source": [
    "# Created a histogram demonstrating the number of instances for each bag(in this example, molecule is the bag)\n",
    "fig = plt.figure(figsize = (10, 5))\n",
    "plt.bar(bag_valuecounts.index, bag_valuecounts.iloc[:,0], color ='maroon')\n",
    "plt.xlabel(\"Bag ID\")\n",
    "plt.ylabel(\"Number of Instances\")\n",
    "plt.title(\"Number of Instances in Bag IDs\")\n",
    "plt.show()"
   ]
  },
  {
   "cell_type": "markdown",
   "id": "fe664dd3",
   "metadata": {},
   "source": [
    "Two bag-level representations are created for this example and tested with 3 different algorithms, which are Logistic Lasso Regression(l1 penalty), Logistic Ridge Regression(l2 penalty) and Random Forest Classifier. Then, accuracy based on 10-fold Cross-Validation on the training datasets is used as the performance metric.\n",
    "\n",
    "The bag-level representations will be named as 'First Option for Dataset' and 'Second Option for Dataset'. Datasets will be mentioned with the approaches behind them in the data preparation processes."
   ]
  },
  {
   "cell_type": "markdown",
   "id": "e73b6703",
   "metadata": {},
   "source": [
    "## First Option for Dataset"
   ]
  },
  {
   "cell_type": "markdown",
   "id": "2ef54b24",
   "metadata": {},
   "source": [
    "As the first option, since most of the bags do not include high number of instances(less than 10, can be seen in above figure),  an instance which is closest to its bags' mean value will be taken from each bag."
   ]
  },
  {
   "cell_type": "code",
   "execution_count": 7,
   "id": "65ff2b59",
   "metadata": {},
   "outputs": [],
   "source": [
    "# First, data holding the mean of each bags'instances is created. \n",
    "data_mean = data.groupby(\"BagID\").mean()\n",
    "data_mean = data_mean.reset_index()"
   ]
  },
  {
   "cell_type": "code",
   "execution_count": 8,
   "id": "b4b9924b",
   "metadata": {},
   "outputs": [],
   "source": [
    "# Created data_opt1, which is holding instances which are closest to their bags' mean value.\n",
    "data_opt1=[]\n",
    "for k in range(1,data_mean.shape[0]+1):\n",
    "    locals()[\"dst\"+str(k)] = euclidean_distances(data[data['BagID']==k].iloc[:,2:], data_mean[data_mean['BagID']==k].iloc[:,2:])\n",
    "    locals()[\"dst\"+str(k)] = pd.DataFrame(locals()[\"dst\"+str(k)])\n",
    "    locals()[\"dst\"+str(k)] = locals()[\"dst\"+str(k)].sort_values(by=0)\n",
    "    data_opt1.append(data[data['BagID']==k].reset_index().iloc[(locals()[\"dst\"+str(k)].index[0]),:])\n",
    "data_opt1=pd.DataFrame(data_opt1).drop(['index'], axis=1).reset_index(drop=True)"
   ]
  },
  {
   "cell_type": "code",
   "execution_count": 9,
   "id": "5b521695",
   "metadata": {},
   "outputs": [
    {
     "data": {
      "text/html": [
       "<div>\n",
       "<style scoped>\n",
       "    .dataframe tbody tr th:only-of-type {\n",
       "        vertical-align: middle;\n",
       "    }\n",
       "\n",
       "    .dataframe tbody tr th {\n",
       "        vertical-align: top;\n",
       "    }\n",
       "\n",
       "    .dataframe thead th {\n",
       "        text-align: right;\n",
       "    }\n",
       "</style>\n",
       "<table border=\"1\" class=\"dataframe\">\n",
       "  <thead>\n",
       "    <tr style=\"text-align: right;\">\n",
       "      <th></th>\n",
       "      <th>MuskClass</th>\n",
       "      <th>BagID</th>\n",
       "      <th>f1</th>\n",
       "      <th>f2</th>\n",
       "      <th>f3</th>\n",
       "      <th>f4</th>\n",
       "      <th>f5</th>\n",
       "      <th>f6</th>\n",
       "      <th>f7</th>\n",
       "      <th>f8</th>\n",
       "      <th>...</th>\n",
       "      <th>f157</th>\n",
       "      <th>f158</th>\n",
       "      <th>f159</th>\n",
       "      <th>f160</th>\n",
       "      <th>f161</th>\n",
       "      <th>f162</th>\n",
       "      <th>f163</th>\n",
       "      <th>f164</th>\n",
       "      <th>f165</th>\n",
       "      <th>f166</th>\n",
       "    </tr>\n",
       "  </thead>\n",
       "  <tbody>\n",
       "    <tr>\n",
       "      <th>0</th>\n",
       "      <td>1</td>\n",
       "      <td>1</td>\n",
       "      <td>42</td>\n",
       "      <td>-198</td>\n",
       "      <td>-110</td>\n",
       "      <td>-65</td>\n",
       "      <td>-117</td>\n",
       "      <td>55</td>\n",
       "      <td>23</td>\n",
       "      <td>-95</td>\n",
       "      <td>...</td>\n",
       "      <td>-238</td>\n",
       "      <td>-302</td>\n",
       "      <td>60</td>\n",
       "      <td>-120</td>\n",
       "      <td>-39</td>\n",
       "      <td>30</td>\n",
       "      <td>48</td>\n",
       "      <td>-37</td>\n",
       "      <td>6</td>\n",
       "      <td>30</td>\n",
       "    </tr>\n",
       "    <tr>\n",
       "      <th>1</th>\n",
       "      <td>1</td>\n",
       "      <td>2</td>\n",
       "      <td>42</td>\n",
       "      <td>-199</td>\n",
       "      <td>-102</td>\n",
       "      <td>-65</td>\n",
       "      <td>-117</td>\n",
       "      <td>55</td>\n",
       "      <td>23</td>\n",
       "      <td>-94</td>\n",
       "      <td>...</td>\n",
       "      <td>-238</td>\n",
       "      <td>-300</td>\n",
       "      <td>61</td>\n",
       "      <td>51</td>\n",
       "      <td>127</td>\n",
       "      <td>144</td>\n",
       "      <td>42</td>\n",
       "      <td>-30</td>\n",
       "      <td>14</td>\n",
       "      <td>25</td>\n",
       "    </tr>\n",
       "    <tr>\n",
       "      <th>2</th>\n",
       "      <td>1</td>\n",
       "      <td>3</td>\n",
       "      <td>40</td>\n",
       "      <td>-173</td>\n",
       "      <td>-142</td>\n",
       "      <td>13</td>\n",
       "      <td>-116</td>\n",
       "      <td>-7</td>\n",
       "      <td>50</td>\n",
       "      <td>-171</td>\n",
       "      <td>...</td>\n",
       "      <td>-236</td>\n",
       "      <td>-53</td>\n",
       "      <td>20</td>\n",
       "      <td>38</td>\n",
       "      <td>88</td>\n",
       "      <td>133</td>\n",
       "      <td>66</td>\n",
       "      <td>-28</td>\n",
       "      <td>13</td>\n",
       "      <td>58</td>\n",
       "    </tr>\n",
       "    <tr>\n",
       "      <th>3</th>\n",
       "      <td>1</td>\n",
       "      <td>4</td>\n",
       "      <td>41</td>\n",
       "      <td>-95</td>\n",
       "      <td>-61</td>\n",
       "      <td>-75</td>\n",
       "      <td>-117</td>\n",
       "      <td>15</td>\n",
       "      <td>30</td>\n",
       "      <td>-164</td>\n",
       "      <td>...</td>\n",
       "      <td>-241</td>\n",
       "      <td>-78</td>\n",
       "      <td>-132</td>\n",
       "      <td>-54</td>\n",
       "      <td>-32</td>\n",
       "      <td>31</td>\n",
       "      <td>49</td>\n",
       "      <td>-37</td>\n",
       "      <td>7</td>\n",
       "      <td>32</td>\n",
       "    </tr>\n",
       "    <tr>\n",
       "      <th>4</th>\n",
       "      <td>1</td>\n",
       "      <td>5</td>\n",
       "      <td>85</td>\n",
       "      <td>-158</td>\n",
       "      <td>-63</td>\n",
       "      <td>-74</td>\n",
       "      <td>-117</td>\n",
       "      <td>18</td>\n",
       "      <td>5</td>\n",
       "      <td>-114</td>\n",
       "      <td>...</td>\n",
       "      <td>-235</td>\n",
       "      <td>-63</td>\n",
       "      <td>-113</td>\n",
       "      <td>3</td>\n",
       "      <td>211</td>\n",
       "      <td>197</td>\n",
       "      <td>46</td>\n",
       "      <td>-36</td>\n",
       "      <td>-10</td>\n",
       "      <td>-27</td>\n",
       "    </tr>\n",
       "    <tr>\n",
       "      <th>...</th>\n",
       "      <td>...</td>\n",
       "      <td>...</td>\n",
       "      <td>...</td>\n",
       "      <td>...</td>\n",
       "      <td>...</td>\n",
       "      <td>...</td>\n",
       "      <td>...</td>\n",
       "      <td>...</td>\n",
       "      <td>...</td>\n",
       "      <td>...</td>\n",
       "      <td>...</td>\n",
       "      <td>...</td>\n",
       "      <td>...</td>\n",
       "      <td>...</td>\n",
       "      <td>...</td>\n",
       "      <td>...</td>\n",
       "      <td>...</td>\n",
       "      <td>...</td>\n",
       "      <td>...</td>\n",
       "      <td>...</td>\n",
       "      <td>...</td>\n",
       "    </tr>\n",
       "    <tr>\n",
       "      <th>87</th>\n",
       "      <td>0</td>\n",
       "      <td>88</td>\n",
       "      <td>-7</td>\n",
       "      <td>-196</td>\n",
       "      <td>-147</td>\n",
       "      <td>-10</td>\n",
       "      <td>-117</td>\n",
       "      <td>-154</td>\n",
       "      <td>61</td>\n",
       "      <td>25</td>\n",
       "      <td>...</td>\n",
       "      <td>-241</td>\n",
       "      <td>-258</td>\n",
       "      <td>-209</td>\n",
       "      <td>-123</td>\n",
       "      <td>-17</td>\n",
       "      <td>24</td>\n",
       "      <td>125</td>\n",
       "      <td>5</td>\n",
       "      <td>30</td>\n",
       "      <td>121</td>\n",
       "    </tr>\n",
       "    <tr>\n",
       "      <th>88</th>\n",
       "      <td>0</td>\n",
       "      <td>89</td>\n",
       "      <td>19</td>\n",
       "      <td>69</td>\n",
       "      <td>36</td>\n",
       "      <td>39</td>\n",
       "      <td>-112</td>\n",
       "      <td>87</td>\n",
       "      <td>6</td>\n",
       "      <td>-132</td>\n",
       "      <td>...</td>\n",
       "      <td>-235</td>\n",
       "      <td>-312</td>\n",
       "      <td>-194</td>\n",
       "      <td>16</td>\n",
       "      <td>25</td>\n",
       "      <td>70</td>\n",
       "      <td>165</td>\n",
       "      <td>-42</td>\n",
       "      <td>-141</td>\n",
       "      <td>76</td>\n",
       "    </tr>\n",
       "    <tr>\n",
       "      <th>89</th>\n",
       "      <td>0</td>\n",
       "      <td>90</td>\n",
       "      <td>19</td>\n",
       "      <td>69</td>\n",
       "      <td>36</td>\n",
       "      <td>40</td>\n",
       "      <td>-112</td>\n",
       "      <td>66</td>\n",
       "      <td>5</td>\n",
       "      <td>-132</td>\n",
       "      <td>...</td>\n",
       "      <td>-237</td>\n",
       "      <td>-311</td>\n",
       "      <td>-171</td>\n",
       "      <td>16</td>\n",
       "      <td>27</td>\n",
       "      <td>70</td>\n",
       "      <td>167</td>\n",
       "      <td>-41</td>\n",
       "      <td>-142</td>\n",
       "      <td>79</td>\n",
       "    </tr>\n",
       "    <tr>\n",
       "      <th>90</th>\n",
       "      <td>0</td>\n",
       "      <td>91</td>\n",
       "      <td>33</td>\n",
       "      <td>-199</td>\n",
       "      <td>-165</td>\n",
       "      <td>119</td>\n",
       "      <td>-116</td>\n",
       "      <td>82</td>\n",
       "      <td>-160</td>\n",
       "      <td>-218</td>\n",
       "      <td>...</td>\n",
       "      <td>-234</td>\n",
       "      <td>-315</td>\n",
       "      <td>-188</td>\n",
       "      <td>-134</td>\n",
       "      <td>7</td>\n",
       "      <td>30</td>\n",
       "      <td>164</td>\n",
       "      <td>-34</td>\n",
       "      <td>-156</td>\n",
       "      <td>-38</td>\n",
       "    </tr>\n",
       "    <tr>\n",
       "      <th>91</th>\n",
       "      <td>0</td>\n",
       "      <td>92</td>\n",
       "      <td>39</td>\n",
       "      <td>-199</td>\n",
       "      <td>-158</td>\n",
       "      <td>30</td>\n",
       "      <td>-99</td>\n",
       "      <td>-89</td>\n",
       "      <td>-43</td>\n",
       "      <td>-8</td>\n",
       "      <td>...</td>\n",
       "      <td>-238</td>\n",
       "      <td>-260</td>\n",
       "      <td>-212</td>\n",
       "      <td>27</td>\n",
       "      <td>64</td>\n",
       "      <td>122</td>\n",
       "      <td>76</td>\n",
       "      <td>-29</td>\n",
       "      <td>5</td>\n",
       "      <td>70</td>\n",
       "    </tr>\n",
       "  </tbody>\n",
       "</table>\n",
       "<p>92 rows × 168 columns</p>\n",
       "</div>"
      ],
      "text/plain": [
       "    MuskClass  BagID  f1   f2   f3   f4   f5   f6   f7   f8  ...  f157  f158  \\\n",
       "0           1      1  42 -198 -110  -65 -117   55   23  -95  ...  -238  -302   \n",
       "1           1      2  42 -199 -102  -65 -117   55   23  -94  ...  -238  -300   \n",
       "2           1      3  40 -173 -142   13 -116   -7   50 -171  ...  -236   -53   \n",
       "3           1      4  41  -95  -61  -75 -117   15   30 -164  ...  -241   -78   \n",
       "4           1      5  85 -158  -63  -74 -117   18    5 -114  ...  -235   -63   \n",
       "..        ...    ...  ..  ...  ...  ...  ...  ...  ...  ...  ...   ...   ...   \n",
       "87          0     88  -7 -196 -147  -10 -117 -154   61   25  ...  -241  -258   \n",
       "88          0     89  19   69   36   39 -112   87    6 -132  ...  -235  -312   \n",
       "89          0     90  19   69   36   40 -112   66    5 -132  ...  -237  -311   \n",
       "90          0     91  33 -199 -165  119 -116   82 -160 -218  ...  -234  -315   \n",
       "91          0     92  39 -199 -158   30  -99  -89  -43   -8  ...  -238  -260   \n",
       "\n",
       "    f159  f160  f161  f162  f163  f164  f165  f166  \n",
       "0     60  -120   -39    30    48   -37     6    30  \n",
       "1     61    51   127   144    42   -30    14    25  \n",
       "2     20    38    88   133    66   -28    13    58  \n",
       "3   -132   -54   -32    31    49   -37     7    32  \n",
       "4   -113     3   211   197    46   -36   -10   -27  \n",
       "..   ...   ...   ...   ...   ...   ...   ...   ...  \n",
       "87  -209  -123   -17    24   125     5    30   121  \n",
       "88  -194    16    25    70   165   -42  -141    76  \n",
       "89  -171    16    27    70   167   -41  -142    79  \n",
       "90  -188  -134     7    30   164   -34  -156   -38  \n",
       "91  -212    27    64   122    76   -29     5    70  \n",
       "\n",
       "[92 rows x 168 columns]"
      ]
     },
     "execution_count": 9,
     "metadata": {},
     "output_type": "execute_result"
    }
   ],
   "source": [
    "# Now we have the instances which are closest to the mean of their corresponding bag. (for each bag) \n",
    "data_opt1 "
   ]
  },
  {
   "cell_type": "code",
   "execution_count": 10,
   "id": "0919cb04",
   "metadata": {},
   "outputs": [],
   "source": [
    "# Created feature dataset(X) and class dataset(y).(class_ is the same for option 2 since class of bags does not change.)\n",
    "feature_opt1 = data_opt1.iloc[:,2:]\n",
    "class_ = data_opt1.iloc[:,0]"
   ]
  },
  {
   "cell_type": "markdown",
   "id": "2b6d7e03",
   "metadata": {},
   "source": [
    "### Logistic Lasso Regression with First Option"
   ]
  },
  {
   "cell_type": "code",
   "execution_count": 11,
   "id": "19632353",
   "metadata": {},
   "outputs": [],
   "source": [
    "start_time = time.time()"
   ]
  },
  {
   "cell_type": "code",
   "execution_count": 12,
   "id": "fe2c05e0",
   "metadata": {},
   "outputs": [],
   "source": [
    "# For logistic lasso and ridge regressions methods, standardized version of the feature data is prepared.\n",
    "feature_opt1_std = pd.DataFrame(StandardScaler().fit_transform(feature_opt1))\n",
    "feature_opt1_std.columns =[\"f\"+str(i) for i in range(1, 167)]"
   ]
  },
  {
   "cell_type": "code",
   "execution_count": 13,
   "id": "3cbcea80",
   "metadata": {},
   "outputs": [],
   "source": [
    "# Repeated kfold cross-validation will be applied.\n",
    "kfold = RepeatedKFold(n_splits=10, n_repeats=10, random_state=265667) "
   ]
  },
  {
   "cell_type": "code",
   "execution_count": 14,
   "id": "5d27b52e",
   "metadata": {},
   "outputs": [
    {
     "data": {
      "text/plain": [
       "0.753"
      ]
     },
     "execution_count": 14,
     "metadata": {},
     "output_type": "execute_result"
    }
   ],
   "source": [
    "# Created lasso regression classifier and obtained its cross-validation score.\n",
    "log_lasso = LogisticRegression(penalty='l1', solver='liblinear')\n",
    "cross_val_score(log_lasso, feature_opt1_std, class_, cv=kfold, scoring='accuracy').mean()"
   ]
  },
  {
   "cell_type": "code",
   "execution_count": 15,
   "id": "53f4f984",
   "metadata": {},
   "outputs": [
    {
     "name": "stdout",
     "output_type": "stream",
     "text": [
      "--- 1.157832145690918 seconds ---\n"
     ]
    }
   ],
   "source": [
    "print(\"--- %s seconds ---\" % (time.time() - start_time))"
   ]
  },
  {
   "cell_type": "markdown",
   "id": "eee8e1b7",
   "metadata": {},
   "source": [
    "### Logistic Ridge Regression with First Option"
   ]
  },
  {
   "cell_type": "code",
   "execution_count": 16,
   "id": "ddcd956f",
   "metadata": {},
   "outputs": [],
   "source": [
    "start_time = time.time()"
   ]
  },
  {
   "cell_type": "code",
   "execution_count": 17,
   "id": "a3c7cbdc",
   "metadata": {},
   "outputs": [
    {
     "data": {
      "text/plain": [
       "0.7536666666666666"
      ]
     },
     "execution_count": 17,
     "metadata": {},
     "output_type": "execute_result"
    }
   ],
   "source": [
    "# Created ridge regression classifier and obtained its cross-validation score.\n",
    "log_ridge = LogisticRegression(penalty='l2', solver='liblinear')\n",
    "cross_val_score(log_ridge, feature_opt1_std, class_, cv=kfold, scoring='accuracy').mean()"
   ]
  },
  {
   "cell_type": "code",
   "execution_count": 18,
   "id": "bdd6a2a9",
   "metadata": {},
   "outputs": [
    {
     "name": "stdout",
     "output_type": "stream",
     "text": [
      "--- 0.7692253589630127 seconds ---\n"
     ]
    }
   ],
   "source": [
    "print(\"--- %s seconds ---\" % (time.time() - start_time))"
   ]
  },
  {
   "cell_type": "markdown",
   "id": "68c3dd93",
   "metadata": {},
   "source": [
    "### Random Forest with First Option"
   ]
  },
  {
   "cell_type": "code",
   "execution_count": 19,
   "id": "4f9c6ae1",
   "metadata": {},
   "outputs": [],
   "source": [
    "start_time = time.time()"
   ]
  },
  {
   "cell_type": "code",
   "execution_count": 20,
   "id": "2fc63836",
   "metadata": {},
   "outputs": [],
   "source": [
    "# Created Random Forest Classifier\n",
    "RF_Clsfr = RandomForestClassifier() "
   ]
  },
  {
   "cell_type": "code",
   "execution_count": 21,
   "id": "74a7c474",
   "metadata": {},
   "outputs": [],
   "source": [
    "# Determined param_grid for grid_search\n",
    "param_grid = {\n",
    "                 'min_samples_leaf': [1, 3, 5, 7],\n",
    "                 'n_estimators': [150, 300, 450, 600, 750, 900],\n",
    "                 'random_state': [255567],\n",
    "                 'n_jobs' : [-1]\n",
    "             }"
   ]
  },
  {
   "cell_type": "code",
   "execution_count": 22,
   "id": "23f044fc",
   "metadata": {},
   "outputs": [
    {
     "data": {
      "text/plain": [
       "GridSearchCV(cv=10, estimator=RandomForestClassifier(), n_jobs=-1,\n",
       "             param_grid={'min_samples_leaf': [1, 3, 5, 7],\n",
       "                         'n_estimators': [150, 300, 450, 600, 750, 900],\n",
       "                         'n_jobs': [-1], 'random_state': [255567]})"
      ]
     },
     "execution_count": 22,
     "metadata": {},
     "output_type": "execute_result"
    }
   ],
   "source": [
    "# Grid Search is made.\n",
    "grid_search = GridSearchCV(RF_Clsfr, param_grid, cv=10, n_jobs=-1)\n",
    "grid_search.fit(feature_opt1, class_)"
   ]
  },
  {
   "cell_type": "code",
   "execution_count": 23,
   "id": "43625380",
   "metadata": {},
   "outputs": [
    {
     "data": {
      "text/plain": [
       "0.7605555555555555"
      ]
     },
     "execution_count": 23,
     "metadata": {},
     "output_type": "execute_result"
    }
   ],
   "source": [
    "# Obtained the best Random Forest Classifier and found its cross-validation score.\n",
    "RF_Clsfr_best = grid_search.best_estimator_\n",
    "cross_val_score(RF_Clsfr_best, feature_opt1, class_, cv=kfold, scoring='accuracy').mean()"
   ]
  },
  {
   "cell_type": "code",
   "execution_count": 24,
   "id": "8e2d0ab2",
   "metadata": {},
   "outputs": [
    {
     "name": "stdout",
     "output_type": "stream",
     "text": [
      "--- 69.2355887889862 seconds ---\n"
     ]
    }
   ],
   "source": [
    "print(\"--- %s seconds ---\" % (time.time() - start_time))"
   ]
  },
  {
   "cell_type": "markdown",
   "id": "04e53d10",
   "metadata": {},
   "source": [
    "## Second Option for Dataset"
   ]
  },
  {
   "cell_type": "markdown",
   "id": "8b8509e8",
   "metadata": {},
   "source": [
    "As a second option for the training data, I will represent each bag with the average of the max and min instances in it, since there is no high variances among instances in the bags."
   ]
  },
  {
   "cell_type": "code",
   "execution_count": 25,
   "id": "77164018",
   "metadata": {},
   "outputs": [],
   "source": [
    "# Data holding the averages of each bags' max and min instances is created. \n",
    "data_min = data.groupby(\"BagID\").min()\n",
    "data_min = data_min.reset_index()\n",
    "data_max = data.groupby(\"BagID\").max()\n",
    "data_max = data_max.reset_index()\n",
    "feature_opt2 = (data_min.drop(columns=['BagID','MuskClass']) + data_max.drop(columns=['BagID','MuskClass']))/2"
   ]
  },
  {
   "cell_type": "markdown",
   "id": "f03cd2cf",
   "metadata": {},
   "source": [
    "### Logistic Lasso Regression with Second Option"
   ]
  },
  {
   "cell_type": "code",
   "execution_count": 26,
   "id": "9e714363",
   "metadata": {},
   "outputs": [],
   "source": [
    "start_time = time.time()"
   ]
  },
  {
   "cell_type": "code",
   "execution_count": 27,
   "id": "b0ae577c",
   "metadata": {},
   "outputs": [],
   "source": [
    "# For logistic lasso and ridge regressions methods, standardized version of the feature data is prepared.\n",
    "feature_opt2_std = pd.DataFrame(StandardScaler().fit_transform(feature_opt2)) # Features are standardized\n",
    "feature_opt2_std.columns =[\"f\"+str(i) for i in range(1, 167)]"
   ]
  },
  {
   "cell_type": "code",
   "execution_count": 28,
   "id": "08fcf96b",
   "metadata": {},
   "outputs": [
    {
     "data": {
      "text/plain": [
       "0.8489999999999998"
      ]
     },
     "execution_count": 28,
     "metadata": {},
     "output_type": "execute_result"
    }
   ],
   "source": [
    "# Created lasso regression classifier and obtained its cross-validation score.\n",
    "log_lasso2 = LogisticRegression(penalty='l1', solver='liblinear')\n",
    "cross_val_score(log_lasso2, feature_opt2_std, class_, cv=kfold, scoring='accuracy').mean()"
   ]
  },
  {
   "cell_type": "code",
   "execution_count": 29,
   "id": "8b8ad732",
   "metadata": {},
   "outputs": [
    {
     "name": "stdout",
     "output_type": "stream",
     "text": [
      "--- 0.6324198246002197 seconds ---\n"
     ]
    }
   ],
   "source": [
    "print(\"--- %s seconds ---\" % (time.time() - start_time))"
   ]
  },
  {
   "cell_type": "markdown",
   "id": "fee034e1",
   "metadata": {},
   "source": [
    "### Logistic Ridge Regression with Second Option"
   ]
  },
  {
   "cell_type": "code",
   "execution_count": 30,
   "id": "dfc850f0",
   "metadata": {},
   "outputs": [],
   "source": [
    "start_time = time.time()"
   ]
  },
  {
   "cell_type": "code",
   "execution_count": 31,
   "id": "14cd9bf2",
   "metadata": {},
   "outputs": [
    {
     "data": {
      "text/plain": [
       "0.8349999999999999"
      ]
     },
     "execution_count": 31,
     "metadata": {},
     "output_type": "execute_result"
    }
   ],
   "source": [
    "# Created ridge regression classifier and obtained its cross-validation score.\n",
    "log_ridge2 = LogisticRegression(penalty='l2', solver='liblinear')\n",
    "cross_val_score(log_ridge2, feature_opt2_std, class_, cv=kfold, scoring='accuracy').mean()"
   ]
  },
  {
   "cell_type": "code",
   "execution_count": 32,
   "id": "6e626261",
   "metadata": {},
   "outputs": [
    {
     "name": "stdout",
     "output_type": "stream",
     "text": [
      "--- 0.6615519523620605 seconds ---\n"
     ]
    }
   ],
   "source": [
    "print(\"--- %s seconds ---\" % (time.time() - start_time))"
   ]
  },
  {
   "cell_type": "markdown",
   "id": "5e7fe2ea",
   "metadata": {},
   "source": [
    "### Random Forest with Second Option"
   ]
  },
  {
   "cell_type": "code",
   "execution_count": 33,
   "id": "79643d99",
   "metadata": {},
   "outputs": [],
   "source": [
    "start_time = time.time()"
   ]
  },
  {
   "cell_type": "code",
   "execution_count": 34,
   "id": "425ac6b3",
   "metadata": {},
   "outputs": [],
   "source": [
    "# Created Random Forest Classifier\n",
    "RF_Clsfr2 = RandomForestClassifier() "
   ]
  },
  {
   "cell_type": "code",
   "execution_count": 35,
   "id": "6e317fea",
   "metadata": {},
   "outputs": [],
   "source": [
    "# Determined param_grid for grid_search\n",
    "param_grid2 = {\n",
    "                 'min_samples_leaf': [1, 3, 5, 7],\n",
    "                 'n_estimators': [150, 300, 450, 600, 750, 900],\n",
    "                 'random_state': [255567],\n",
    "                 'n_jobs' : [-1]\n",
    "             }"
   ]
  },
  {
   "cell_type": "code",
   "execution_count": 36,
   "id": "f51afdb2",
   "metadata": {},
   "outputs": [
    {
     "data": {
      "text/plain": [
       "GridSearchCV(cv=10, estimator=RandomForestClassifier(), n_jobs=-1,\n",
       "             param_grid={'min_samples_leaf': [1, 3, 5, 7],\n",
       "                         'n_estimators': [150, 300, 450, 600, 750, 900],\n",
       "                         'n_jobs': [-1], 'random_state': [255567]})"
      ]
     },
     "execution_count": 36,
     "metadata": {},
     "output_type": "execute_result"
    }
   ],
   "source": [
    "# Grid Search is made.\n",
    "grid_search2 = GridSearchCV(RF_Clsfr2, param_grid2, cv=10, n_jobs=-1)\n",
    "grid_search2.fit(feature_opt2, class_)"
   ]
  },
  {
   "cell_type": "code",
   "execution_count": 37,
   "id": "ac1f6afa",
   "metadata": {},
   "outputs": [
    {
     "data": {
      "text/plain": [
       "0.8539999999999999"
      ]
     },
     "execution_count": 37,
     "metadata": {},
     "output_type": "execute_result"
    }
   ],
   "source": [
    "# Obtained the best Random Forest Classifier and found its cross-validation score.\n",
    "RF_Clsfr_best2 = grid_search2.best_estimator_\n",
    "cross_val_score(RF_Clsfr_best2, feature_opt2, class_, cv=kfold, scoring='accuracy').mean()"
   ]
  },
  {
   "cell_type": "code",
   "execution_count": 38,
   "id": "9e42f9e7",
   "metadata": {},
   "outputs": [
    {
     "name": "stdout",
     "output_type": "stream",
     "text": [
      "--- 76.6462950706482 seconds ---\n"
     ]
    }
   ],
   "source": [
    "print(\"--- %s seconds ---\" % (time.time() - start_time))"
   ]
  },
  {
   "cell_type": "markdown",
   "id": "e2712e7b",
   "metadata": {},
   "source": [
    "## Conclusion"
   ]
  },
  {
   "cell_type": "code",
   "execution_count": 39,
   "id": "871973e4",
   "metadata": {},
   "outputs": [
    {
     "data": {
      "text/html": [
       "<div>\n",
       "<style scoped>\n",
       "    .dataframe tbody tr th:only-of-type {\n",
       "        vertical-align: middle;\n",
       "    }\n",
       "\n",
       "    .dataframe tbody tr th {\n",
       "        vertical-align: top;\n",
       "    }\n",
       "\n",
       "    .dataframe thead th {\n",
       "        text-align: right;\n",
       "    }\n",
       "</style>\n",
       "<table border=\"1\" class=\"dataframe\">\n",
       "  <thead>\n",
       "    <tr style=\"text-align: right;\">\n",
       "      <th></th>\n",
       "      <th>Method</th>\n",
       "      <th>Option</th>\n",
       "      <th>CV_Score</th>\n",
       "    </tr>\n",
       "  </thead>\n",
       "  <tbody>\n",
       "    <tr>\n",
       "      <th>0</th>\n",
       "      <td>Lasso</td>\n",
       "      <td>1</td>\n",
       "      <td>0.753000</td>\n",
       "    </tr>\n",
       "    <tr>\n",
       "      <th>1</th>\n",
       "      <td>Ridge</td>\n",
       "      <td>1</td>\n",
       "      <td>0.753667</td>\n",
       "    </tr>\n",
       "    <tr>\n",
       "      <th>2</th>\n",
       "      <td>RandomForest</td>\n",
       "      <td>1</td>\n",
       "      <td>0.760556</td>\n",
       "    </tr>\n",
       "    <tr>\n",
       "      <th>3</th>\n",
       "      <td>Lasso</td>\n",
       "      <td>2</td>\n",
       "      <td>0.847889</td>\n",
       "    </tr>\n",
       "    <tr>\n",
       "      <th>4</th>\n",
       "      <td>Ridge</td>\n",
       "      <td>2</td>\n",
       "      <td>0.835000</td>\n",
       "    </tr>\n",
       "    <tr>\n",
       "      <th>5</th>\n",
       "      <td>RandomForest</td>\n",
       "      <td>2</td>\n",
       "      <td>0.854000</td>\n",
       "    </tr>\n",
       "  </tbody>\n",
       "</table>\n",
       "</div>"
      ],
      "text/plain": [
       "         Method Option  CV_Score\n",
       "0         Lasso      1  0.753000\n",
       "1         Ridge      1  0.753667\n",
       "2  RandomForest      1  0.760556\n",
       "3         Lasso      2  0.847889\n",
       "4         Ridge      2  0.835000\n",
       "5  RandomForest      2  0.854000"
      ]
     },
     "execution_count": 39,
     "metadata": {},
     "output_type": "execute_result"
    }
   ],
   "source": [
    "cv_scores = []\n",
    "x = ['Lasso', '1', cross_val_score(log_lasso, feature_opt1_std, class_, cv=kfold, scoring='accuracy').mean()]\n",
    "cv_scores.append(x)\n",
    "y = ['Ridge', '1', cross_val_score(log_ridge, feature_opt1_std, class_, cv=kfold, scoring='accuracy').mean()]\n",
    "cv_scores.append(y)\n",
    "z = ['RandomForest', '1', cross_val_score(RF_Clsfr_best, feature_opt1, class_, cv=kfold, scoring='accuracy').mean()]\n",
    "cv_scores.append(z)\n",
    "a = ['Lasso', '2', cross_val_score(log_lasso2, feature_opt2_std, class_, cv=kfold, scoring='accuracy').mean()]\n",
    "cv_scores.append(a)\n",
    "b = ['Ridge', '2', cross_val_score(log_ridge2, feature_opt2_std, class_, cv=kfold, scoring='accuracy').mean()]\n",
    "cv_scores.append(b)\n",
    "c = ['RandomForest', '2', cross_val_score(RF_Clsfr_best2, feature_opt2, class_, cv=kfold, scoring='accuracy').mean()]\n",
    "cv_scores.append(c)\n",
    "cv_scores = pd.DataFrame(cv_scores)\n",
    "cv_scores.columns = ['Method', 'Option', 'CV_Score']\n",
    "cv_scores"
   ]
  },
  {
   "cell_type": "markdown",
   "id": "4c3de6c7",
   "metadata": {},
   "source": [
    "As can be seen from the above table, we obtained the best result with Random Forest Classifier when the data represented as unique bags with the average of the max and min instances in it. It gives 0.854 as Cross-Validation score. Also, it is clear that Second option provided us more accurate results, meaning that taking the instance that is closest to its bags'mean value did not work well.\n",
    "\n",
    "On the other hand, it is possible to see that random forest takes much more time than others since we made grid search on it. So, by considering the time issue one may prefer using Lasso with Option 2 since its cross-validation score is not much different than the score of Random Forest."
   ]
  },
  {
   "cell_type": "code",
   "execution_count": 40,
   "id": "e9d6e84e",
   "metadata": {},
   "outputs": [
    {
     "data": {
      "text/plain": [
       "0"
      ]
     },
     "execution_count": 40,
     "metadata": {},
     "output_type": "execute_result"
    }
   ],
   "source": [
    "os.system('jupyter nbconvert --to html HW4_Final.ipynb')"
   ]
  },
  {
   "cell_type": "code",
   "execution_count": null,
   "id": "97994328",
   "metadata": {},
   "outputs": [],
   "source": []
  }
 ],
 "metadata": {
  "kernelspec": {
   "display_name": "Python 3",
   "language": "python",
   "name": "python3"
  },
  "language_info": {
   "codemirror_mode": {
    "name": "ipython",
    "version": 3
   },
   "file_extension": ".py",
   "mimetype": "text/x-python",
   "name": "python",
   "nbconvert_exporter": "python",
   "pygments_lexer": "ipython3",
   "version": "3.8.8"
  }
 },
 "nbformat": 4,
 "nbformat_minor": 5
}
