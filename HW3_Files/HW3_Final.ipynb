{
 "cells": [
  {
   "cell_type": "markdown",
   "id": "4db8d999",
   "metadata": {},
   "source": [
    "# IE 582 - HW3 - Kürşat Gürsoy"
   ]
  },
  {
   "cell_type": "markdown",
   "id": "88eaef6e",
   "metadata": {},
   "source": [
    "## Task 1 – On the use of distance information for UwaveGesture Recognition Task"
   ]
  },
  {
   "cell_type": "markdown",
   "id": "4677cf08",
   "metadata": {},
   "source": [
    "Homework 2 introduced the description of the gesture recognition task with the accelerometer data.\n",
    "This task will involve evaluation of alternative strategies using both training and test data provided on\n",
    "https://drive.google.com/drive/u/1/folders/13553neknux7U8why55KM1WrjgkA9IJKm (same link as in\n",
    "Homework 2).\n",
    "    \n",
    "Use the UWave data provided in the second homework for this task. In the second homework, you were\n",
    "given only the training data. This task requires performing classification task on the test data and\n",
    "evaluate the performance of certain classifiers. Test data is uploaded as *.zip files for each axis (i.e. X,\n",
    "Y and Z). It has the same format as the training data.    "
   ]
  },
  {
   "cell_type": "markdown",
   "id": "0c22dace",
   "metadata": {},
   "source": [
    "### Part A \n",
    "Suppose we decided to apply a nearest-neighbor (NN) classifier to find the labels of test\n",
    "instances. You can use the strategy you employed when you apply PCA to this data in\n",
    "Homework 2 (i.e. concatenation of the axes). Propose two distance measures for computing\n",
    "similarity between two time series. The distance calculation on the concatenated time series\n",
    "implicitly weights the distances of each axis in an equal way. For each distance measure\n",
    "alternative, use the training data to identify the ideal value of k which minimizes the error of a\n",
    "10-fold cross-validation."
   ]
  },
  {
   "cell_type": "code",
   "execution_count": 1,
   "id": "b83e1319",
   "metadata": {},
   "outputs": [],
   "source": [
    "import numpy as np\n",
    "import pandas as pd\n",
    "import math as mt\n",
    "import matplotlib.pyplot as plt\n",
    "import os\n",
    "from sklearn.preprocessing import StandardScaler\n",
    "from sklearn.decomposition import PCA\n",
    "import sklearn.metrics.pairwise as smp\n",
    "from sklearn.datasets import make_swiss_roll \n",
    "from sklearn.manifold import MDS \n",
    "from sklearn.preprocessing import MinMaxScaler\n",
    "from mpl_toolkits.mplot3d import Axes3D\n",
    "import random\n",
    "from sklearn.neighbors import KNeighborsClassifier\n",
    "from sklearn.model_selection import train_test_split\n",
    "from scipy import spatial \n",
    "from math import comb\n",
    "from sklearn.model_selection import cross_val_score\n",
    "from sklearn.model_selection import RepeatedKFold\n",
    "from matplotlib.ticker import FormatStrFormatter\n",
    "from sklearn.metrics import confusion_matrix\n",
    "from sklearn.metrics import matthews_corrcoef, f1_score\n",
    "import time"
   ]
  },
  {
   "cell_type": "code",
   "execution_count": 2,
   "id": "07220848",
   "metadata": {},
   "outputs": [],
   "source": [
    "# Reading the data (I converted the files into txt before reading the data)\n",
    "X_train = pd.read_fwf(r'C:\\Users\\IKG\\Desktop\\HW3_Files\\uWaveGestureLibrary_X_TRAIN.txt', header=None)\n",
    "Y_train = pd.read_fwf(r'C:\\Users\\IKG\\Desktop\\HW3_Files\\uWaveGestureLibrary_Y_TRAIN.txt', header=None)\n",
    "Z_train = pd.read_fwf(r'C:\\Users\\IKG\\Desktop\\HW3_Files\\uWaveGestureLibrary_Z_TRAIN.txt', header=None)\n",
    "X_test = pd.read_fwf(r'C:\\Users\\IKG\\Desktop\\HW3_Files\\uWaveGestureLibrary_X_TEST.txt', header=None)\n",
    "Y_test = pd.read_fwf(r'C:\\Users\\IKG\\Desktop\\HW3_Files\\uWaveGestureLibrary_Y_TEST.txt', header=None)\n",
    "Z_test = pd.read_fwf(r'C:\\Users\\IKG\\Desktop\\HW3_Files\\uWaveGestureLibrary_Z_TEST.txt', header=None)"
   ]
  },
  {
   "cell_type": "code",
   "execution_count": 3,
   "id": "68ef31dd",
   "metadata": {},
   "outputs": [],
   "source": [
    "# TRAIN. Acceleration data is separated from class for each axis\n",
    "X_train_accl = X_train.iloc[:,1:316] \n",
    "Y_train_accl = Y_train.iloc[:,1:316]\n",
    "Z_train_accl = Z_train.iloc[:,1:316]\n",
    "Class_train = X_train.iloc[:,0] # Class info is same for three axis."
   ]
  },
  {
   "cell_type": "code",
   "execution_count": 4,
   "id": "9f648eeb",
   "metadata": {},
   "outputs": [],
   "source": [
    "df_train = pd.concat([X_train_accl, Y_train_accl, Z_train_accl], axis=1) # Concatenated acceleration informations"
   ]
  },
  {
   "cell_type": "code",
   "execution_count": 5,
   "id": "7314b7af",
   "metadata": {},
   "outputs": [],
   "source": [
    "# TEST. Acceleration data is separated from class for each axis\n",
    "X_test_accl = X_test.iloc[:,1:316] \n",
    "Y_test_accl = Y_test.iloc[:,1:316]\n",
    "Z_test_accl = Z_test.iloc[:,1:316]\n",
    "Class_test = X_test.iloc[:,0] # Class info is same for three axis."
   ]
  },
  {
   "cell_type": "code",
   "execution_count": 6,
   "id": "5e6cdfd4",
   "metadata": {},
   "outputs": [],
   "source": [
    "df_test = pd.concat([X_test_accl, Y_test_accl, Z_test_accl], axis=1) # Concatenated acceleration informations"
   ]
  },
  {
   "cell_type": "code",
   "execution_count": 7,
   "id": "851a19af",
   "metadata": {},
   "outputs": [],
   "source": [
    "# Rearranged column names for readability\n",
    "df_train.columns = [list(range(1,len(df_train.columns)+1))]\n",
    "df_test.columns = [list(range(1,len(df_test.columns)+1))]"
   ]
  },
  {
   "cell_type": "code",
   "execution_count": 8,
   "id": "1e0f3e5a",
   "metadata": {},
   "outputs": [],
   "source": [
    "kf = RepeatedKFold(n_splits=10, n_repeats=5, random_state=26565667) #For Cross-Validation purpose, kf is defined."
   ]
  },
  {
   "cell_type": "code",
   "execution_count": 9,
   "id": "9e752cd3",
   "metadata": {},
   "outputs": [],
   "source": [
    "# Euclidean Case\n",
    "k_range_euc = range(1, 21) # We will check k values between 1 and 20.\n",
    "k_scores_euc = []\n",
    "for k in k_range_euc:\n",
    "    knn = KNeighborsClassifier(n_neighbors=k, p = 2, metric='minkowski')\n",
    "    scores = cross_val_score(knn, df_train, Class_train, cv=kf, scoring='accuracy')\n",
    "    k_scores_euc.append(scores.mean())"
   ]
  },
  {
   "cell_type": "code",
   "execution_count": 10,
   "id": "4e0372de",
   "metadata": {},
   "outputs": [
    {
     "data": {
      "image/png": "[encoded data removed]",
      "text/plain": [
       "<Figure size 432x288 with 1 Axes>"
      ]
     },
     "metadata": {
      "needs_background": "light"
     },
     "output_type": "display_data"
    }
   ],
   "source": [
    "fig, ax = plt.subplots()\n",
    "ax.xaxis.set_major_formatter(FormatStrFormatter('%.0f'))\n",
    "plt.plot(k_range_euc, k_scores_euc)\n",
    "plt.xlabel('Value of k for kNN')\n",
    "plt.ylabel('Cross-Validation Accuracy')\n",
    "plt.title('10-Fold Cross-Validation Performance with Different k Values - Euclidean') \n",
    "plt.show()\n",
    "# Seems k=3 is the best case for Euclidean."
   ]
  },
  {
   "cell_type": "code",
   "execution_count": 11,
   "id": "1d078461",
   "metadata": {},
   "outputs": [
    {
     "data": {
      "text/html": [
       "<div>\n",
       "<style scoped>\n",
       "    .dataframe tbody tr th:only-of-type {\n",
       "        vertical-align: middle;\n",
       "    }\n",
       "\n",
       "    .dataframe tbody tr th {\n",
       "        vertical-align: top;\n",
       "    }\n",
       "\n",
       "    .dataframe thead th {\n",
       "        text-align: right;\n",
       "    }\n",
       "</style>\n",
       "<table border=\"1\" class=\"dataframe\">\n",
       "  <thead>\n",
       "    <tr style=\"text-align: right;\">\n",
       "      <th></th>\n",
       "      <th>k_value</th>\n",
       "      <th>CV_accuracy</th>\n",
       "    </tr>\n",
       "  </thead>\n",
       "  <tbody>\n",
       "    <tr>\n",
       "      <th>0</th>\n",
       "      <td>1</td>\n",
       "      <td>0.942427</td>\n",
       "    </tr>\n",
       "    <tr>\n",
       "      <th>1</th>\n",
       "      <td>2</td>\n",
       "      <td>0.932607</td>\n",
       "    </tr>\n",
       "    <tr>\n",
       "      <th>2</th>\n",
       "      <td>3</td>\n",
       "      <td>0.943338</td>\n",
       "    </tr>\n",
       "    <tr>\n",
       "      <th>3</th>\n",
       "      <td>4</td>\n",
       "      <td>0.942205</td>\n",
       "    </tr>\n",
       "    <tr>\n",
       "      <th>4</th>\n",
       "      <td>5</td>\n",
       "      <td>0.938419</td>\n",
       "    </tr>\n",
       "    <tr>\n",
       "      <th>5</th>\n",
       "      <td>6</td>\n",
       "      <td>0.936417</td>\n",
       "    </tr>\n",
       "    <tr>\n",
       "      <th>6</th>\n",
       "      <td>7</td>\n",
       "      <td>0.935506</td>\n",
       "    </tr>\n",
       "    <tr>\n",
       "      <th>7</th>\n",
       "      <td>8</td>\n",
       "      <td>0.930372</td>\n",
       "    </tr>\n",
       "    <tr>\n",
       "      <th>8</th>\n",
       "      <td>9</td>\n",
       "      <td>0.931935</td>\n",
       "    </tr>\n",
       "    <tr>\n",
       "      <th>9</th>\n",
       "      <td>10</td>\n",
       "      <td>0.928365</td>\n",
       "    </tr>\n",
       "    <tr>\n",
       "      <th>10</th>\n",
       "      <td>11</td>\n",
       "      <td>0.925466</td>\n",
       "    </tr>\n",
       "    <tr>\n",
       "      <th>11</th>\n",
       "      <td>12</td>\n",
       "      <td>0.923006</td>\n",
       "    </tr>\n",
       "    <tr>\n",
       "      <th>12</th>\n",
       "      <td>13</td>\n",
       "      <td>0.921226</td>\n",
       "    </tr>\n",
       "    <tr>\n",
       "      <th>13</th>\n",
       "      <td>14</td>\n",
       "      <td>0.920999</td>\n",
       "    </tr>\n",
       "    <tr>\n",
       "      <th>14</th>\n",
       "      <td>15</td>\n",
       "      <td>0.920774</td>\n",
       "    </tr>\n",
       "    <tr>\n",
       "      <th>15</th>\n",
       "      <td>16</td>\n",
       "      <td>0.919660</td>\n",
       "    </tr>\n",
       "    <tr>\n",
       "      <th>16</th>\n",
       "      <td>17</td>\n",
       "      <td>0.918539</td>\n",
       "    </tr>\n",
       "    <tr>\n",
       "      <th>17</th>\n",
       "      <td>18</td>\n",
       "      <td>0.915640</td>\n",
       "    </tr>\n",
       "    <tr>\n",
       "      <th>18</th>\n",
       "      <td>19</td>\n",
       "      <td>0.915199</td>\n",
       "    </tr>\n",
       "    <tr>\n",
       "      <th>19</th>\n",
       "      <td>20</td>\n",
       "      <td>0.914744</td>\n",
       "    </tr>\n",
       "  </tbody>\n",
       "</table>\n",
       "</div>"
      ],
      "text/plain": [
       "    k_value  CV_accuracy\n",
       "0         1     0.942427\n",
       "1         2     0.932607\n",
       "2         3     0.943338\n",
       "3         4     0.942205\n",
       "4         5     0.938419\n",
       "5         6     0.936417\n",
       "6         7     0.935506\n",
       "7         8     0.930372\n",
       "8         9     0.931935\n",
       "9        10     0.928365\n",
       "10       11     0.925466\n",
       "11       12     0.923006\n",
       "12       13     0.921226\n",
       "13       14     0.920999\n",
       "14       15     0.920774\n",
       "15       16     0.919660\n",
       "16       17     0.918539\n",
       "17       18     0.915640\n",
       "18       19     0.915199\n",
       "19       20     0.914744"
      ]
     },
     "execution_count": 11,
     "metadata": {},
     "output_type": "execute_result"
    }
   ],
   "source": [
    "Euc = pd.concat([pd.DataFrame(k_range_euc),pd.DataFrame(k_scores_euc)],axis=1)\n",
    "Euc.columns=['k_value','CV_accuracy']\n",
    "Euc"
   ]
  },
  {
   "cell_type": "markdown",
   "id": "4fb1805d",
   "metadata": {},
   "source": [
    "The best accuracy 0.943338 is obtained with k=3 for the Euclidean Case."
   ]
  },
  {
   "cell_type": "code",
   "execution_count": 12,
   "id": "9955d607",
   "metadata": {},
   "outputs": [],
   "source": [
    "# Manhattan Case \n",
    "k_range_mnh = range(1, 21) # We will check k values between 1 and 20.\n",
    "k_scores_mnh = []\n",
    "for k in k_range_mnh:\n",
    "    knn = KNeighborsClassifier(n_neighbors=k, p = 1, metric='minkowski')\n",
    "    scores = cross_val_score(knn, df_train, Class_train, cv=kf, scoring='accuracy')\n",
    "    k_scores_mnh.append(scores.mean())"
   ]
  },
  {
   "cell_type": "code",
   "execution_count": 13,
   "id": "2ef44278",
   "metadata": {},
   "outputs": [
    {
     "data": {
      "image/png": "[encoded data removed]",
      "text/plain": [
       "<Figure size 432x288 with 1 Axes>"
      ]
     },
     "metadata": {
      "needs_background": "light"
     },
     "output_type": "display_data"
    }
   ],
   "source": [
    "fig, ax = plt.subplots()\n",
    "ax.xaxis.set_major_formatter(FormatStrFormatter('%.0f'))\n",
    "plt.plot(k_range_mnh, k_scores_mnh)\n",
    "plt.xlabel('Value of k for kNN')\n",
    "plt.ylabel('Cross-Validation Accuracy')\n",
    "plt.title('10-Fold Cross-Validation Performance with Different k Values - Manhattan') \n",
    "plt.show()\n",
    "# Seems k=1 is the best case for Manhattan."
   ]
  },
  {
   "cell_type": "code",
   "execution_count": 14,
   "id": "6515fd12",
   "metadata": {},
   "outputs": [
    {
     "data": {
      "text/html": [
       "<div>\n",
       "<style scoped>\n",
       "    .dataframe tbody tr th:only-of-type {\n",
       "        vertical-align: middle;\n",
       "    }\n",
       "\n",
       "    .dataframe tbody tr th {\n",
       "        vertical-align: top;\n",
       "    }\n",
       "\n",
       "    .dataframe thead th {\n",
       "        text-align: right;\n",
       "    }\n",
       "</style>\n",
       "<table border=\"1\" class=\"dataframe\">\n",
       "  <thead>\n",
       "    <tr style=\"text-align: right;\">\n",
       "      <th></th>\n",
       "      <th>k_value</th>\n",
       "      <th>CV_accuracy</th>\n",
       "    </tr>\n",
       "  </thead>\n",
       "  <tbody>\n",
       "    <tr>\n",
       "      <th>0</th>\n",
       "      <td>1</td>\n",
       "      <td>0.956250</td>\n",
       "    </tr>\n",
       "    <tr>\n",
       "      <th>1</th>\n",
       "      <td>2</td>\n",
       "      <td>0.940400</td>\n",
       "    </tr>\n",
       "    <tr>\n",
       "      <th>2</th>\n",
       "      <td>3</td>\n",
       "      <td>0.952472</td>\n",
       "    </tr>\n",
       "    <tr>\n",
       "      <th>3</th>\n",
       "      <td>4</td>\n",
       "      <td>0.952250</td>\n",
       "    </tr>\n",
       "    <tr>\n",
       "      <th>4</th>\n",
       "      <td>5</td>\n",
       "      <td>0.949336</td>\n",
       "    </tr>\n",
       "    <tr>\n",
       "      <th>5</th>\n",
       "      <td>6</td>\n",
       "      <td>0.947788</td>\n",
       "    </tr>\n",
       "    <tr>\n",
       "      <th>6</th>\n",
       "      <td>7</td>\n",
       "      <td>0.945543</td>\n",
       "    </tr>\n",
       "    <tr>\n",
       "      <th>7</th>\n",
       "      <td>8</td>\n",
       "      <td>0.939968</td>\n",
       "    </tr>\n",
       "    <tr>\n",
       "      <th>8</th>\n",
       "      <td>9</td>\n",
       "      <td>0.939975</td>\n",
       "    </tr>\n",
       "    <tr>\n",
       "      <th>9</th>\n",
       "      <td>10</td>\n",
       "      <td>0.935061</td>\n",
       "    </tr>\n",
       "    <tr>\n",
       "      <th>10</th>\n",
       "      <td>11</td>\n",
       "      <td>0.933720</td>\n",
       "    </tr>\n",
       "    <tr>\n",
       "      <th>11</th>\n",
       "      <td>12</td>\n",
       "      <td>0.933720</td>\n",
       "    </tr>\n",
       "    <tr>\n",
       "      <th>12</th>\n",
       "      <td>13</td>\n",
       "      <td>0.932387</td>\n",
       "    </tr>\n",
       "    <tr>\n",
       "      <th>13</th>\n",
       "      <td>14</td>\n",
       "      <td>0.933945</td>\n",
       "    </tr>\n",
       "    <tr>\n",
       "      <th>14</th>\n",
       "      <td>15</td>\n",
       "      <td>0.931268</td>\n",
       "    </tr>\n",
       "    <tr>\n",
       "      <th>15</th>\n",
       "      <td>16</td>\n",
       "      <td>0.930367</td>\n",
       "    </tr>\n",
       "    <tr>\n",
       "      <th>16</th>\n",
       "      <td>17</td>\n",
       "      <td>0.928799</td>\n",
       "    </tr>\n",
       "    <tr>\n",
       "      <th>17</th>\n",
       "      <td>18</td>\n",
       "      <td>0.927458</td>\n",
       "    </tr>\n",
       "    <tr>\n",
       "      <th>18</th>\n",
       "      <td>19</td>\n",
       "      <td>0.926345</td>\n",
       "    </tr>\n",
       "    <tr>\n",
       "      <th>19</th>\n",
       "      <td>20</td>\n",
       "      <td>0.924787</td>\n",
       "    </tr>\n",
       "  </tbody>\n",
       "</table>\n",
       "</div>"
      ],
      "text/plain": [
       "    k_value  CV_accuracy\n",
       "0         1     0.956250\n",
       "1         2     0.940400\n",
       "2         3     0.952472\n",
       "3         4     0.952250\n",
       "4         5     0.949336\n",
       "5         6     0.947788\n",
       "6         7     0.945543\n",
       "7         8     0.939968\n",
       "8         9     0.939975\n",
       "9        10     0.935061\n",
       "10       11     0.933720\n",
       "11       12     0.933720\n",
       "12       13     0.932387\n",
       "13       14     0.933945\n",
       "14       15     0.931268\n",
       "15       16     0.930367\n",
       "16       17     0.928799\n",
       "17       18     0.927458\n",
       "18       19     0.926345\n",
       "19       20     0.924787"
      ]
     },
     "execution_count": 14,
     "metadata": {},
     "output_type": "execute_result"
    }
   ],
   "source": [
    "Mnh = pd.concat([pd.DataFrame(k_range_mnh),pd.DataFrame(k_scores_mnh)],axis=1)\n",
    "Mnh.columns=['k_value','CV_accuracy']\n",
    "Mnh"
   ]
  },
  {
   "cell_type": "markdown",
   "id": "613d7fd7",
   "metadata": {},
   "source": [
    "The best accuracy 0.956250 is obtained with k=1 for the Manhattan case."
   ]
  },
  {
   "cell_type": "markdown",
   "id": "d59ee732",
   "metadata": {},
   "source": [
    "### Part B\n",
    "Using the value of k (identified for each distance measure) in part (a) and evaluate your final\n",
    "performance on the test data and present your results in a (8-by-8) confusion matrix, showing\n",
    "the counts for actual and predicted labels. In addition, quote the runtime and accuracy for your\n",
    "results."
   ]
  },
  {
   "cell_type": "code",
   "execution_count": 15,
   "id": "5eaa3446",
   "metadata": {},
   "outputs": [],
   "source": [
    "#Euclidean"
   ]
  },
  {
   "cell_type": "code",
   "execution_count": 16,
   "id": "9bcf94ad",
   "metadata": {},
   "outputs": [],
   "source": [
    "start_time = time.time()"
   ]
  },
  {
   "cell_type": "code",
   "execution_count": 17,
   "id": "54699537",
   "metadata": {},
   "outputs": [],
   "source": [
    "knn_euc = KNeighborsClassifier(n_neighbors=3, p = 2, metric='minkowski') # k=3 for Euclidean"
   ]
  },
  {
   "cell_type": "code",
   "execution_count": 18,
   "id": "fee25c5e",
   "metadata": {},
   "outputs": [
    {
     "data": {
      "text/plain": [
       "KNeighborsClassifier(n_neighbors=3)"
      ]
     },
     "execution_count": 18,
     "metadata": {},
     "output_type": "execute_result"
    }
   ],
   "source": [
    "knn_euc.fit(df_train, Class_train)"
   ]
  },
  {
   "cell_type": "code",
   "execution_count": 19,
   "id": "cb1b45ac",
   "metadata": {},
   "outputs": [
    {
     "data": {
      "text/plain": [
       "0.9438860971524288"
      ]
     },
     "execution_count": 19,
     "metadata": {},
     "output_type": "execute_result"
    }
   ],
   "source": [
    "euc_test_score = knn_euc.score(df_test,Class_test)\n",
    "euc_test_score # Euclidean's Score is found."
   ]
  },
  {
   "cell_type": "code",
   "execution_count": 20,
   "id": "31970271",
   "metadata": {},
   "outputs": [
    {
     "data": {
      "text/plain": [
       "array([5., 1., 4., ..., 6., 8., 4.])"
      ]
     },
     "execution_count": 20,
     "metadata": {},
     "output_type": "execute_result"
    }
   ],
   "source": [
    "euc_predicts = knn_euc.predict(df_test)\n",
    "euc_predicts"
   ]
  },
  {
   "cell_type": "code",
   "execution_count": 21,
   "id": "c60f26f8",
   "metadata": {},
   "outputs": [
    {
     "data": {
      "text/html": [
       "<style  type=\"text/css\" >\n",
       "</style><table id=\"T_7e22b_\" style='display:inline'><caption>Confusion Matrix(Euclidean)-Actual vs Predictions</caption><thead>    <tr>        <th class=\"blank level0\" ></th>        <th class=\"col_heading level0 col0\" >1</th>        <th class=\"col_heading level0 col1\" >2</th>        <th class=\"col_heading level0 col2\" >3</th>        <th class=\"col_heading level0 col3\" >4</th>        <th class=\"col_heading level0 col4\" >5</th>        <th class=\"col_heading level0 col5\" >6</th>        <th class=\"col_heading level0 col6\" >7</th>        <th class=\"col_heading level0 col7\" >8</th>    </tr></thead><tbody>\n",
       "                <tr>\n",
       "                        <th id=\"T_7e22b_level0_row0\" class=\"row_heading level0 row0\" >1</th>\n",
       "                        <td id=\"T_7e22b_row0_col0\" class=\"data row0 col0\" >431</td>\n",
       "                        <td id=\"T_7e22b_row0_col1\" class=\"data row0 col1\" >0</td>\n",
       "                        <td id=\"T_7e22b_row0_col2\" class=\"data row0 col2\" >0</td>\n",
       "                        <td id=\"T_7e22b_row0_col3\" class=\"data row0 col3\" >2</td>\n",
       "                        <td id=\"T_7e22b_row0_col4\" class=\"data row0 col4\" >0</td>\n",
       "                        <td id=\"T_7e22b_row0_col5\" class=\"data row0 col5\" >4</td>\n",
       "                        <td id=\"T_7e22b_row0_col6\" class=\"data row0 col6\" >0</td>\n",
       "                        <td id=\"T_7e22b_row0_col7\" class=\"data row0 col7\" >0</td>\n",
       "            </tr>\n",
       "            <tr>\n",
       "                        <th id=\"T_7e22b_level0_row1\" class=\"row_heading level0 row1\" >2</th>\n",
       "                        <td id=\"T_7e22b_row1_col0\" class=\"data row1 col0\" >1</td>\n",
       "                        <td id=\"T_7e22b_row1_col1\" class=\"data row1 col1\" >449</td>\n",
       "                        <td id=\"T_7e22b_row1_col2\" class=\"data row1 col2\" >0</td>\n",
       "                        <td id=\"T_7e22b_row1_col3\" class=\"data row1 col3\" >0</td>\n",
       "                        <td id=\"T_7e22b_row1_col4\" class=\"data row1 col4\" >0</td>\n",
       "                        <td id=\"T_7e22b_row1_col5\" class=\"data row1 col5\" >0</td>\n",
       "                        <td id=\"T_7e22b_row1_col6\" class=\"data row1 col6\" >2</td>\n",
       "                        <td id=\"T_7e22b_row1_col7\" class=\"data row1 col7\" >0</td>\n",
       "            </tr>\n",
       "            <tr>\n",
       "                        <th id=\"T_7e22b_level0_row2\" class=\"row_heading level0 row2\" >3</th>\n",
       "                        <td id=\"T_7e22b_row2_col0\" class=\"data row2 col0\" >2</td>\n",
       "                        <td id=\"T_7e22b_row2_col1\" class=\"data row2 col1\" >0</td>\n",
       "                        <td id=\"T_7e22b_row2_col2\" class=\"data row2 col2\" >413</td>\n",
       "                        <td id=\"T_7e22b_row2_col3\" class=\"data row2 col3\" >0</td>\n",
       "                        <td id=\"T_7e22b_row2_col4\" class=\"data row2 col4\" >15</td>\n",
       "                        <td id=\"T_7e22b_row2_col5\" class=\"data row2 col5\" >20</td>\n",
       "                        <td id=\"T_7e22b_row2_col6\" class=\"data row2 col6\" >4</td>\n",
       "                        <td id=\"T_7e22b_row2_col7\" class=\"data row2 col7\" >0</td>\n",
       "            </tr>\n",
       "            <tr>\n",
       "                        <th id=\"T_7e22b_level0_row3\" class=\"row_heading level0 row3\" >4</th>\n",
       "                        <td id=\"T_7e22b_row3_col0\" class=\"data row3 col0\" >7</td>\n",
       "                        <td id=\"T_7e22b_row3_col1\" class=\"data row3 col1\" >0</td>\n",
       "                        <td id=\"T_7e22b_row3_col2\" class=\"data row3 col2\" >0</td>\n",
       "                        <td id=\"T_7e22b_row3_col3\" class=\"data row3 col3\" >370</td>\n",
       "                        <td id=\"T_7e22b_row3_col4\" class=\"data row3 col4\" >60</td>\n",
       "                        <td id=\"T_7e22b_row3_col5\" class=\"data row3 col5\" >6</td>\n",
       "                        <td id=\"T_7e22b_row3_col6\" class=\"data row3 col6\" >0</td>\n",
       "                        <td id=\"T_7e22b_row3_col7\" class=\"data row3 col7\" >7</td>\n",
       "            </tr>\n",
       "            <tr>\n",
       "                        <th id=\"T_7e22b_level0_row4\" class=\"row_heading level0 row4\" >5</th>\n",
       "                        <td id=\"T_7e22b_row4_col0\" class=\"data row4 col0\" >3</td>\n",
       "                        <td id=\"T_7e22b_row4_col1\" class=\"data row4 col1\" >0</td>\n",
       "                        <td id=\"T_7e22b_row4_col2\" class=\"data row4 col2\" >6</td>\n",
       "                        <td id=\"T_7e22b_row4_col3\" class=\"data row4 col3\" >1</td>\n",
       "                        <td id=\"T_7e22b_row4_col4\" class=\"data row4 col4\" >422</td>\n",
       "                        <td id=\"T_7e22b_row4_col5\" class=\"data row4 col5\" >1</td>\n",
       "                        <td id=\"T_7e22b_row4_col6\" class=\"data row4 col6\" >0</td>\n",
       "                        <td id=\"T_7e22b_row4_col7\" class=\"data row4 col7\" >0</td>\n",
       "            </tr>\n",
       "            <tr>\n",
       "                        <th id=\"T_7e22b_level0_row5\" class=\"row_heading level0 row5\" >6</th>\n",
       "                        <td id=\"T_7e22b_row5_col0\" class=\"data row5 col0\" >6</td>\n",
       "                        <td id=\"T_7e22b_row5_col1\" class=\"data row5 col1\" >0</td>\n",
       "                        <td id=\"T_7e22b_row5_col2\" class=\"data row5 col2\" >7</td>\n",
       "                        <td id=\"T_7e22b_row5_col3\" class=\"data row5 col3\" >15</td>\n",
       "                        <td id=\"T_7e22b_row5_col4\" class=\"data row5 col4\" >28</td>\n",
       "                        <td id=\"T_7e22b_row5_col5\" class=\"data row5 col5\" >392</td>\n",
       "                        <td id=\"T_7e22b_row5_col6\" class=\"data row5 col6\" >1</td>\n",
       "                        <td id=\"T_7e22b_row5_col7\" class=\"data row5 col7\" >0</td>\n",
       "            </tr>\n",
       "            <tr>\n",
       "                        <th id=\"T_7e22b_level0_row6\" class=\"row_heading level0 row6\" >7</th>\n",
       "                        <td id=\"T_7e22b_row6_col0\" class=\"data row6 col0\" >0</td>\n",
       "                        <td id=\"T_7e22b_row6_col1\" class=\"data row6 col1\" >0</td>\n",
       "                        <td id=\"T_7e22b_row6_col2\" class=\"data row6 col2\" >1</td>\n",
       "                        <td id=\"T_7e22b_row6_col3\" class=\"data row6 col3\" >0</td>\n",
       "                        <td id=\"T_7e22b_row6_col4\" class=\"data row6 col4\" >0</td>\n",
       "                        <td id=\"T_7e22b_row6_col5\" class=\"data row6 col5\" >0</td>\n",
       "                        <td id=\"T_7e22b_row6_col6\" class=\"data row6 col6\" >446</td>\n",
       "                        <td id=\"T_7e22b_row6_col7\" class=\"data row6 col7\" >0</td>\n",
       "            </tr>\n",
       "            <tr>\n",
       "                        <th id=\"T_7e22b_level0_row7\" class=\"row_heading level0 row7\" >8</th>\n",
       "                        <td id=\"T_7e22b_row7_col0\" class=\"data row7 col0\" >0</td>\n",
       "                        <td id=\"T_7e22b_row7_col1\" class=\"data row7 col1\" >0</td>\n",
       "                        <td id=\"T_7e22b_row7_col2\" class=\"data row7 col2\" >0</td>\n",
       "                        <td id=\"T_7e22b_row7_col3\" class=\"data row7 col3\" >1</td>\n",
       "                        <td id=\"T_7e22b_row7_col4\" class=\"data row7 col4\" >1</td>\n",
       "                        <td id=\"T_7e22b_row7_col5\" class=\"data row7 col5\" >0</td>\n",
       "                        <td id=\"T_7e22b_row7_col6\" class=\"data row7 col6\" >0</td>\n",
       "                        <td id=\"T_7e22b_row7_col7\" class=\"data row7 col7\" >458</td>\n",
       "            </tr>\n",
       "    </tbody></table>"
      ],
      "text/plain": [
       "<pandas.io.formats.style.Styler at 0x1d60d15ce50>"
      ]
     },
     "execution_count": 21,
     "metadata": {},
     "output_type": "execute_result"
    }
   ],
   "source": [
    "# Created confusion matrix.\n",
    "Confusion_euc = confusion_matrix(Class_test, euc_predicts)\n",
    "Confusion_euc = pd.DataFrame(Confusion_euc)\n",
    "Confusion_euc.columns = range(1,9)\n",
    "Confusion_euc.index = Confusion_euc.index + 1\n",
    "Confusion_euc = Confusion_euc.style.set_table_attributes(\"style='display:inline'\").set_caption('Confusion Matrix(Euclidean)-Actual vs Predictions')\n",
    "Confusion_euc\n",
    "# Rows : Actual classes\n",
    "# Columns : Predicted classes\n",
    "# In general, it seems that predictions are reliable."
   ]
  },
  {
   "cell_type": "code",
   "execution_count": 22,
   "id": "c7c7ab7d",
   "metadata": {},
   "outputs": [
    {
     "name": "stdout",
     "output_type": "stream",
     "text": [
      "--- 0.7457282543182373 seconds ---\n"
     ]
    }
   ],
   "source": [
    "print(\"--- %s seconds ---\" % (time.time() - start_time)) # It has taken roughly 1 seconds for the Euclidean Case. "
   ]
  },
  {
   "cell_type": "code",
   "execution_count": 23,
   "id": "127eb8cb",
   "metadata": {},
   "outputs": [],
   "source": [
    "#Manhattan"
   ]
  },
  {
   "cell_type": "code",
   "execution_count": 24,
   "id": "a3a78d26",
   "metadata": {},
   "outputs": [],
   "source": [
    "start_time = time.time()"
   ]
  },
  {
   "cell_type": "code",
   "execution_count": 25,
   "id": "6473d371",
   "metadata": {},
   "outputs": [],
   "source": [
    "knn_mnh = KNeighborsClassifier(n_neighbors=1, p = 1, metric='minkowski') # k=1 for Manhattan"
   ]
  },
  {
   "cell_type": "code",
   "execution_count": 26,
   "id": "be7187de",
   "metadata": {},
   "outputs": [
    {
     "data": {
      "text/plain": [
       "KNeighborsClassifier(n_neighbors=1, p=1)"
      ]
     },
     "execution_count": 26,
     "metadata": {},
     "output_type": "execute_result"
    }
   ],
   "source": [
    "knn_mnh.fit(df_train, Class_train)"
   ]
  },
  {
   "cell_type": "code",
   "execution_count": 27,
   "id": "66599972",
   "metadata": {},
   "outputs": [
    {
     "data": {
      "text/plain": [
       "0.954215522054718"
      ]
     },
     "execution_count": 27,
     "metadata": {},
     "output_type": "execute_result"
    }
   ],
   "source": [
    "mnh_test_score = knn_mnh.score(df_test,Class_test)\n",
    "mnh_test_score # Manhattan's Score is found."
   ]
  },
  {
   "cell_type": "code",
   "execution_count": 28,
   "id": "499793c6",
   "metadata": {},
   "outputs": [
    {
     "data": {
      "text/plain": [
       "array([5., 1., 4., ..., 6., 8., 4.])"
      ]
     },
     "execution_count": 28,
     "metadata": {},
     "output_type": "execute_result"
    }
   ],
   "source": [
    "mnh_predicts = knn_mnh.predict(df_test)\n",
    "mnh_predicts"
   ]
  },
  {
   "cell_type": "code",
   "execution_count": 29,
   "id": "4708a05e",
   "metadata": {},
   "outputs": [
    {
     "data": {
      "text/html": [
       "<style  type=\"text/css\" >\n",
       "</style><table id=\"T_4ee7e_\" style='display:inline'><caption>Confusion Matrix(Manhattan)-Actual vs Predictions</caption><thead>    <tr>        <th class=\"blank level0\" ></th>        <th class=\"col_heading level0 col0\" >1</th>        <th class=\"col_heading level0 col1\" >2</th>        <th class=\"col_heading level0 col2\" >3</th>        <th class=\"col_heading level0 col3\" >4</th>        <th class=\"col_heading level0 col4\" >5</th>        <th class=\"col_heading level0 col5\" >6</th>        <th class=\"col_heading level0 col6\" >7</th>        <th class=\"col_heading level0 col7\" >8</th>    </tr></thead><tbody>\n",
       "                <tr>\n",
       "                        <th id=\"T_4ee7e_level0_row0\" class=\"row_heading level0 row0\" >1</th>\n",
       "                        <td id=\"T_4ee7e_row0_col0\" class=\"data row0 col0\" >430</td>\n",
       "                        <td id=\"T_4ee7e_row0_col1\" class=\"data row0 col1\" >0</td>\n",
       "                        <td id=\"T_4ee7e_row0_col2\" class=\"data row0 col2\" >0</td>\n",
       "                        <td id=\"T_4ee7e_row0_col3\" class=\"data row0 col3\" >2</td>\n",
       "                        <td id=\"T_4ee7e_row0_col4\" class=\"data row0 col4\" >0</td>\n",
       "                        <td id=\"T_4ee7e_row0_col5\" class=\"data row0 col5\" >5</td>\n",
       "                        <td id=\"T_4ee7e_row0_col6\" class=\"data row0 col6\" >0</td>\n",
       "                        <td id=\"T_4ee7e_row0_col7\" class=\"data row0 col7\" >0</td>\n",
       "            </tr>\n",
       "            <tr>\n",
       "                        <th id=\"T_4ee7e_level0_row1\" class=\"row_heading level0 row1\" >2</th>\n",
       "                        <td id=\"T_4ee7e_row1_col0\" class=\"data row1 col0\" >1</td>\n",
       "                        <td id=\"T_4ee7e_row1_col1\" class=\"data row1 col1\" >451</td>\n",
       "                        <td id=\"T_4ee7e_row1_col2\" class=\"data row1 col2\" >0</td>\n",
       "                        <td id=\"T_4ee7e_row1_col3\" class=\"data row1 col3\" >0</td>\n",
       "                        <td id=\"T_4ee7e_row1_col4\" class=\"data row1 col4\" >0</td>\n",
       "                        <td id=\"T_4ee7e_row1_col5\" class=\"data row1 col5\" >0</td>\n",
       "                        <td id=\"T_4ee7e_row1_col6\" class=\"data row1 col6\" >0</td>\n",
       "                        <td id=\"T_4ee7e_row1_col7\" class=\"data row1 col7\" >0</td>\n",
       "            </tr>\n",
       "            <tr>\n",
       "                        <th id=\"T_4ee7e_level0_row2\" class=\"row_heading level0 row2\" >3</th>\n",
       "                        <td id=\"T_4ee7e_row2_col0\" class=\"data row2 col0\" >2</td>\n",
       "                        <td id=\"T_4ee7e_row2_col1\" class=\"data row2 col1\" >0</td>\n",
       "                        <td id=\"T_4ee7e_row2_col2\" class=\"data row2 col2\" >418</td>\n",
       "                        <td id=\"T_4ee7e_row2_col3\" class=\"data row2 col3\" >0</td>\n",
       "                        <td id=\"T_4ee7e_row2_col4\" class=\"data row2 col4\" >16</td>\n",
       "                        <td id=\"T_4ee7e_row2_col5\" class=\"data row2 col5\" >14</td>\n",
       "                        <td id=\"T_4ee7e_row2_col6\" class=\"data row2 col6\" >4</td>\n",
       "                        <td id=\"T_4ee7e_row2_col7\" class=\"data row2 col7\" >0</td>\n",
       "            </tr>\n",
       "            <tr>\n",
       "                        <th id=\"T_4ee7e_level0_row3\" class=\"row_heading level0 row3\" >4</th>\n",
       "                        <td id=\"T_4ee7e_row3_col0\" class=\"data row3 col0\" >3</td>\n",
       "                        <td id=\"T_4ee7e_row3_col1\" class=\"data row3 col1\" >0</td>\n",
       "                        <td id=\"T_4ee7e_row3_col2\" class=\"data row3 col2\" >0</td>\n",
       "                        <td id=\"T_4ee7e_row3_col3\" class=\"data row3 col3\" >392</td>\n",
       "                        <td id=\"T_4ee7e_row3_col4\" class=\"data row3 col4\" >40</td>\n",
       "                        <td id=\"T_4ee7e_row3_col5\" class=\"data row3 col5\" >11</td>\n",
       "                        <td id=\"T_4ee7e_row3_col6\" class=\"data row3 col6\" >0</td>\n",
       "                        <td id=\"T_4ee7e_row3_col7\" class=\"data row3 col7\" >4</td>\n",
       "            </tr>\n",
       "            <tr>\n",
       "                        <th id=\"T_4ee7e_level0_row4\" class=\"row_heading level0 row4\" >5</th>\n",
       "                        <td id=\"T_4ee7e_row4_col0\" class=\"data row4 col0\" >3</td>\n",
       "                        <td id=\"T_4ee7e_row4_col1\" class=\"data row4 col1\" >0</td>\n",
       "                        <td id=\"T_4ee7e_row4_col2\" class=\"data row4 col2\" >9</td>\n",
       "                        <td id=\"T_4ee7e_row4_col3\" class=\"data row4 col3\" >5</td>\n",
       "                        <td id=\"T_4ee7e_row4_col4\" class=\"data row4 col4\" >415</td>\n",
       "                        <td id=\"T_4ee7e_row4_col5\" class=\"data row4 col5\" >1</td>\n",
       "                        <td id=\"T_4ee7e_row4_col6\" class=\"data row4 col6\" >0</td>\n",
       "                        <td id=\"T_4ee7e_row4_col7\" class=\"data row4 col7\" >0</td>\n",
       "            </tr>\n",
       "            <tr>\n",
       "                        <th id=\"T_4ee7e_level0_row5\" class=\"row_heading level0 row5\" >6</th>\n",
       "                        <td id=\"T_4ee7e_row5_col0\" class=\"data row5 col0\" >3</td>\n",
       "                        <td id=\"T_4ee7e_row5_col1\" class=\"data row5 col1\" >0</td>\n",
       "                        <td id=\"T_4ee7e_row5_col2\" class=\"data row5 col2\" >5</td>\n",
       "                        <td id=\"T_4ee7e_row5_col3\" class=\"data row5 col3\" >13</td>\n",
       "                        <td id=\"T_4ee7e_row5_col4\" class=\"data row5 col4\" >16</td>\n",
       "                        <td id=\"T_4ee7e_row5_col5\" class=\"data row5 col5\" >411</td>\n",
       "                        <td id=\"T_4ee7e_row5_col6\" class=\"data row5 col6\" >0</td>\n",
       "                        <td id=\"T_4ee7e_row5_col7\" class=\"data row5 col7\" >1</td>\n",
       "            </tr>\n",
       "            <tr>\n",
       "                        <th id=\"T_4ee7e_level0_row6\" class=\"row_heading level0 row6\" >7</th>\n",
       "                        <td id=\"T_4ee7e_row6_col0\" class=\"data row6 col0\" >0</td>\n",
       "                        <td id=\"T_4ee7e_row6_col1\" class=\"data row6 col1\" >0</td>\n",
       "                        <td id=\"T_4ee7e_row6_col2\" class=\"data row6 col2\" >2</td>\n",
       "                        <td id=\"T_4ee7e_row6_col3\" class=\"data row6 col3\" >0</td>\n",
       "                        <td id=\"T_4ee7e_row6_col4\" class=\"data row6 col4\" >0</td>\n",
       "                        <td id=\"T_4ee7e_row6_col5\" class=\"data row6 col5\" >0</td>\n",
       "                        <td id=\"T_4ee7e_row6_col6\" class=\"data row6 col6\" >445</td>\n",
       "                        <td id=\"T_4ee7e_row6_col7\" class=\"data row6 col7\" >0</td>\n",
       "            </tr>\n",
       "            <tr>\n",
       "                        <th id=\"T_4ee7e_level0_row7\" class=\"row_heading level0 row7\" >8</th>\n",
       "                        <td id=\"T_4ee7e_row7_col0\" class=\"data row7 col0\" >0</td>\n",
       "                        <td id=\"T_4ee7e_row7_col1\" class=\"data row7 col1\" >0</td>\n",
       "                        <td id=\"T_4ee7e_row7_col2\" class=\"data row7 col2\" >0</td>\n",
       "                        <td id=\"T_4ee7e_row7_col3\" class=\"data row7 col3\" >3</td>\n",
       "                        <td id=\"T_4ee7e_row7_col4\" class=\"data row7 col4\" >1</td>\n",
       "                        <td id=\"T_4ee7e_row7_col5\" class=\"data row7 col5\" >0</td>\n",
       "                        <td id=\"T_4ee7e_row7_col6\" class=\"data row7 col6\" >0</td>\n",
       "                        <td id=\"T_4ee7e_row7_col7\" class=\"data row7 col7\" >456</td>\n",
       "            </tr>\n",
       "    </tbody></table>"
      ],
      "text/plain": [
       "<pandas.io.formats.style.Styler at 0x1d60d15cbe0>"
      ]
     },
     "execution_count": 29,
     "metadata": {},
     "output_type": "execute_result"
    }
   ],
   "source": [
    "# Created confusion matrix.\n",
    "Confusion_mnh = confusion_matrix(Class_test, mnh_predicts)\n",
    "Confusion_mnh = pd.DataFrame(Confusion_mnh)\n",
    "Confusion_mnh.columns = range(1,9)\n",
    "Confusion_mnh.index = Confusion_mnh.index + 1\n",
    "Confusion_mnh = Confusion_mnh.style.set_table_attributes(\"style='display:inline'\").set_caption('Confusion Matrix(Manhattan)-Actual vs Predictions')\n",
    "Confusion_mnh\n",
    "# Rows : Actual classes\n",
    "# Columns : Predicted classes\n",
    "# In general, it seems that predictions are reliable."
   ]
  },
  {
   "cell_type": "code",
   "execution_count": 30,
   "id": "1d4fbcae",
   "metadata": {},
   "outputs": [
    {
     "name": "stdout",
     "output_type": "stream",
     "text": [
      "--- 6.907262802124023 seconds ---\n"
     ]
    }
   ],
   "source": [
    "print(\"--- %s seconds ---\" % (time.time() - start_time)) # It has taken roughly 7 seconds for the Manhattan Case."
   ]
  },
  {
   "cell_type": "markdown",
   "id": "1d9f9658",
   "metadata": {},
   "source": [
    "Above, it is found that the Euclidean test score is 0.9438860971524288 whereas the Manhattan test score is 0.954215522054718. \n",
    "Hence, we obtained the best performance with the Manhattan case when the number of nearest neighbors(k) is 1. Yet, there is no huge difference between accuracies of these two cases and Euclidean's computation time is much smaller compared to the Manhattan's. So, Euclidean may also be used."
   ]
  },
  {
   "cell_type": "markdown",
   "id": "2d00e31f",
   "metadata": {},
   "source": [
    "### Part C\n",
    "The observations from different axes are weighted equally if we compute the distance over each\n",
    "axis and sum them to obtain a final similarity measure. Is this reasonable? For example, we can\n",
    "compute the distance as below:\n",
    "    \n",
    "where DistX is the distance based on the acceleration only on X axis, DistY is for Y axis and so\n",
    "on. Do you think weighting the distances over different axes to obtain a final similarity measure\n",
    "makes sense for classification? Why?"
   ]
  },
  {
   "cell_type": "markdown",
   "id": "196a4c97",
   "metadata": {},
   "source": [
    "Yes, it makes sense. This is a three dimensional data and accelaration information of each axes may not be equally important for the gesture(2D). So, weighting the distances over different axes is likely to increase our performance."
   ]
  },
  {
   "cell_type": "markdown",
   "id": "8ec508e3",
   "metadata": {},
   "source": [
    "## Task 2 – Linear models on alternative representations of the data"
   ]
  },
  {
   "cell_type": "markdown",
   "id": "857b7542",
   "metadata": {},
   "source": [
    "Recall that most of the machine learning problems assume that we have a nice and informative\n",
    "representation of the data (after data selection, preprocessing and transformation steps). In part (a), we\n",
    "have preprocessed the information from each axis to obtain our feature vector (of 3T length which\n",
    "keeps the information about X, Y and Z axis).\n",
    "\n",
    "Suppose we are willing to perform a binary classification task to identify if a test time series is from\n",
    "Class 3. As a reminder you can find the class definitions in Figure 1."
   ]
  },
  {
   "cell_type": "markdown",
   "id": "43ad2606",
   "metadata": {},
   "source": [
    "### Part A\n",
    "Train a logistic regression model on the training data and use the model to make a prediction on the\n",
    "test data. Note that you will obtain probabilistic predictions (i.e. probability of a time series being from\n",
    "Class 3 if you encoded Class 3 as 1 in binary classification setting). This will require you to select a\n",
    "threshold since 0.5 as a threshold may not work well under this imbalanced class setting. To make\n",
    "things easier, use the ratio of Class 3 instances in the training data as threshold. Use the learned model\n",
    "to predict the class for test data. Present your results in a (2-by-2) confusion matrix."
   ]
  },
  {
   "cell_type": "code",
   "execution_count": 31,
   "id": "05adc8f6",
   "metadata": {},
   "outputs": [],
   "source": [
    "from sklearn.linear_model import LogisticRegression\n",
    "from sklearn.metrics import classification_report, confusion_matrix"
   ]
  },
  {
   "cell_type": "code",
   "execution_count": 32,
   "id": "304bf16e",
   "metadata": {},
   "outputs": [
    {
     "name": "stdout",
     "output_type": "stream",
     "text": [
      "Threshold =  0.11830357142857142\n"
     ]
    }
   ],
   "source": [
    "threshold = len(Class_train[Class_train == 3.0]) / len(Class_train) # Determined the threshold\n",
    "print(\"Threshold = \", threshold)"
   ]
  },
  {
   "cell_type": "code",
   "execution_count": 33,
   "id": "3bd6655f",
   "metadata": {},
   "outputs": [],
   "source": [
    "Class_train_new = (Class_train == 3.0) # Created new class data for training set\n",
    "Class_test_new = (Class_test == 3.0) # Created new class data for test set"
   ]
  },
  {
   "cell_type": "code",
   "execution_count": 34,
   "id": "f2bc4cd8",
   "metadata": {},
   "outputs": [],
   "source": [
    "# Creating the model.\n",
    "log_reg_cl = LogisticRegression(max_iter=1500, penalty=\"none\")"
   ]
  },
  {
   "cell_type": "code",
   "execution_count": 35,
   "id": "97964e91",
   "metadata": {},
   "outputs": [
    {
     "data": {
      "text/plain": [
       "LogisticRegression(max_iter=1500, penalty='none')"
      ]
     },
     "execution_count": 35,
     "metadata": {},
     "output_type": "execute_result"
    }
   ],
   "source": [
    "log_reg_cl.fit(df_train,Class_train_new)"
   ]
  },
  {
   "cell_type": "code",
   "execution_count": 36,
   "id": "d00b7182",
   "metadata": {},
   "outputs": [],
   "source": [
    "lg_prob_predicts = log_reg_cl.predict_proba(df_test) # Obtained probability predictions with logistic regression"
   ]
  },
  {
   "cell_type": "code",
   "execution_count": 37,
   "id": "5c64c18d",
   "metadata": {},
   "outputs": [],
   "source": [
    "lg_class_predicts = (lg_prob_predicts < threshold)[:, 0] # Obtained class predictions by using threshold"
   ]
  },
  {
   "cell_type": "code",
   "execution_count": 38,
   "id": "8203bbd3",
   "metadata": {},
   "outputs": [
    {
     "data": {
      "text/html": [
       "<style  type=\"text/css\" >\n",
       "</style><table id=\"T_fa032_\" style='display:inline'><caption>ConfusionMatrix</caption><thead>    <tr>        <th class=\"blank level0\" ></th>        <th class=\"col_heading level0 col0\" >0</th>        <th class=\"col_heading level0 col1\" >1</th>    </tr></thead><tbody>\n",
       "                <tr>\n",
       "                        <th id=\"T_fa032_level0_row0\" class=\"row_heading level0 row0\" >0</th>\n",
       "                        <td id=\"T_fa032_row0_col0\" class=\"data row0 col0\" >2957</td>\n",
       "                        <td id=\"T_fa032_row0_col1\" class=\"data row0 col1\" >171</td>\n",
       "            </tr>\n",
       "            <tr>\n",
       "                        <th id=\"T_fa032_level0_row1\" class=\"row_heading level0 row1\" >1</th>\n",
       "                        <td id=\"T_fa032_row1_col0\" class=\"data row1 col0\" >167</td>\n",
       "                        <td id=\"T_fa032_row1_col1\" class=\"data row1 col1\" >287</td>\n",
       "            </tr>\n",
       "    </tbody></table>"
      ],
      "text/plain": [
       "<pandas.io.formats.style.Styler at 0x1d6135ad640>"
      ]
     },
     "execution_count": 38,
     "metadata": {},
     "output_type": "execute_result"
    }
   ],
   "source": [
    "# Confusion Matrix\n",
    "Confusion_lg = confusion_matrix(Class_test_new, lg_class_predicts)\n",
    "Confusion_lg = pd.DataFrame(Confusion_lg)\n",
    "Confusion_lg = Confusion_lg.style.set_table_attributes(\"style='display:inline'\").set_caption('ConfusionMatrix')\n",
    "Confusion_lg\n",
    "# 0 corresponds to False (meaning it is not class 3)\n",
    "# 1 corresponds to True (meaning it is class 3)\n",
    "# Rows : Actual\n",
    "# Columns : Predicted"
   ]
  },
  {
   "cell_type": "code",
   "execution_count": 39,
   "id": "1d423c91",
   "metadata": {},
   "outputs": [
    {
     "name": "stdout",
     "output_type": "stream",
     "text": [
      "F1_Score =  0.6293859649122807\n"
     ]
    }
   ],
   "source": [
    "print(\"F1_Score = \", f1_score(Class_test_new,lg_class_predicts))"
   ]
  },
  {
   "cell_type": "code",
   "execution_count": 40,
   "id": "974dc3ff",
   "metadata": {},
   "outputs": [
    {
     "name": "stdout",
     "output_type": "stream",
     "text": [
      "Matthews_Corr_Coef =  0.5753317226123844\n"
     ]
    }
   ],
   "source": [
    "print(\"Matthews_Corr_Coef = \", matthews_corrcoef(Class_test_new,lg_class_predicts))"
   ]
  },
  {
   "cell_type": "markdown",
   "id": "a1c846bb",
   "metadata": {},
   "source": [
    "### Part B\n",
    "An advantage of logistic regression is related to the interpretability however when we have large\n",
    "number of features together with a method without penalization, it is harder to interpret the results.\n",
    "Therefore, an alternative way is to train a logistic regression model with lasso penalties. This will\n",
    "require you setting of penalization term (namely lambda). Use 10-fold cross-validation to determine\n",
    "your ideal lambda level based on binomial deviance (Note that we have used accuracy as primary\n",
    "metric to determine the lambda in class, however this strategy may not work well for the imbalanced\n",
    "data). You can check http://www.inf.ed.ac.uk/teaching/courses/mlsc/Notes/Lecture4/MLSC_Lec4.pdf\n",
    "for details of binomial deviance. This is also referred to as logistic loss. If you are using “glmnet”\n",
    "package in R, “type.measure” can be set to “deviance” which is the default value. If you are Python\n",
    "user, sklearn module has “LogisticRegressionCV” function in which you can provide the scorer as\n",
    "“metrics.log_loss”.\n",
    "\n",
    "Once you determine your best lambda value using 10-fold cross-validation, perform classification on\n",
    "test data similar to part a and compare your results. Comment on the regression coefficients. Is there\n",
    "any interesting information? Try to interpret the model."
   ]
  },
  {
   "cell_type": "code",
   "execution_count": 41,
   "id": "13968742",
   "metadata": {},
   "outputs": [],
   "source": [
    "from sklearn.linear_model import LogisticRegressionCV\n",
    "from sklearn.metrics import log_loss"
   ]
  },
  {
   "cell_type": "code",
   "execution_count": 42,
   "id": "78eb15d1",
   "metadata": {},
   "outputs": [
    {
     "name": "stdout",
     "output_type": "stream",
     "text": [
      "Threshold =  0.11830357142857142\n"
     ]
    }
   ],
   "source": [
    "threshold = len(Class_train[Class_train == 3.0]) / len(Class_train)\n",
    "print(\"Threshold = \", threshold)"
   ]
  },
  {
   "cell_type": "code",
   "execution_count": 43,
   "id": "2c518d83",
   "metadata": {},
   "outputs": [],
   "source": [
    "# Creating the model. l1 for lasso penalty, 10 for 10-fold cross validation, neg_log_loss for log_loss.\n",
    "log_reg_cl_b = LogisticRegressionCV(cv=10, penalty=\"l1\", scoring='neg_log_loss', max_iter=1500, solver=\"liblinear\")"
   ]
  },
  {
   "cell_type": "code",
   "execution_count": 44,
   "id": "70c4b7f3",
   "metadata": {},
   "outputs": [
    {
     "data": {
      "text/plain": [
       "LogisticRegressionCV(cv=10, max_iter=1500, penalty='l1', scoring='neg_log_loss',\n",
       "                     solver='liblinear')"
      ]
     },
     "execution_count": 44,
     "metadata": {},
     "output_type": "execute_result"
    }
   ],
   "source": [
    "log_reg_cl_b.fit(df_train,Class_train_new)"
   ]
  },
  {
   "cell_type": "code",
   "execution_count": 45,
   "id": "3eb728b2",
   "metadata": {},
   "outputs": [],
   "source": [
    "lg_prob_predicts_b = log_reg_cl_b.predict_proba(df_test)"
   ]
  },
  {
   "cell_type": "code",
   "execution_count": 46,
   "id": "d1cd1399",
   "metadata": {},
   "outputs": [],
   "source": [
    "lg_class_predicts_b = (lg_prob_predicts_b < threshold)[:, 0] "
   ]
  },
  {
   "cell_type": "code",
   "execution_count": 47,
   "id": "8d41c372",
   "metadata": {},
   "outputs": [
    {
     "name": "stdout",
     "output_type": "stream",
     "text": [
      "Neg. Log Loss =  -0.1255180072623896\n"
     ]
    }
   ],
   "source": [
    "log_loss_b = log_reg_cl_b.score(df_test,Class_test_new)\n",
    "print(\"Neg. Log Loss = \", log_loss_b)"
   ]
  },
  {
   "cell_type": "code",
   "execution_count": 48,
   "id": "2b346005",
   "metadata": {},
   "outputs": [
    {
     "name": "stdout",
     "output_type": "stream",
     "text": [
      "Penalization term =  [2.7825594]\n"
     ]
    }
   ],
   "source": [
    "pen_term = 1/log_reg_cl_b.C_\n",
    "print(\"Penalization term = \", pen_term)"
   ]
  },
  {
   "cell_type": "code",
   "execution_count": 49,
   "id": "77d20cf0",
   "metadata": {},
   "outputs": [
    {
     "data": {
      "text/html": [
       "<style  type=\"text/css\" >\n",
       "</style><table id=\"T_d35a3_\" style='display:inline'><caption>ConfusionMatrix</caption><thead>    <tr>        <th class=\"blank level0\" ></th>        <th class=\"col_heading level0 col0\" >0</th>        <th class=\"col_heading level0 col1\" >1</th>    </tr></thead><tbody>\n",
       "                <tr>\n",
       "                        <th id=\"T_d35a3_level0_row0\" class=\"row_heading level0 row0\" >0</th>\n",
       "                        <td id=\"T_d35a3_row0_col0\" class=\"data row0 col0\" >3125</td>\n",
       "                        <td id=\"T_d35a3_row0_col1\" class=\"data row0 col1\" >3</td>\n",
       "            </tr>\n",
       "            <tr>\n",
       "                        <th id=\"T_d35a3_level0_row1\" class=\"row_heading level0 row1\" >1</th>\n",
       "                        <td id=\"T_d35a3_row1_col0\" class=\"data row1 col0\" >255</td>\n",
       "                        <td id=\"T_d35a3_row1_col1\" class=\"data row1 col1\" >199</td>\n",
       "            </tr>\n",
       "    </tbody></table>"
      ],
      "text/plain": [
       "<pandas.io.formats.style.Styler at 0x1d611350850>"
      ]
     },
     "execution_count": 49,
     "metadata": {},
     "output_type": "execute_result"
    }
   ],
   "source": [
    "# Confusion Matrix\n",
    "Confusion_lg_b = confusion_matrix(Class_test_new, lg_class_predicts_b)\n",
    "Confusion_lg_b = pd.DataFrame(Confusion_lg_b)\n",
    "Confusion_lg_b = Confusion_lg_b.style.set_table_attributes(\"style='display:inline'\").set_caption('ConfusionMatrix')\n",
    "Confusion_lg_b\n",
    "# 0 corresponds to False (meaning it is not class 3)\n",
    "# 1 corresponds to True (meaning it is class 3)\n",
    "# Rows : Actual\n",
    "# Columns : Predicted"
   ]
  },
  {
   "cell_type": "code",
   "execution_count": 50,
   "id": "805dbb1a",
   "metadata": {},
   "outputs": [
    {
     "name": "stdout",
     "output_type": "stream",
     "text": [
      "F1_Score =  0.6067073170731708\n"
     ]
    }
   ],
   "source": [
    "print(\"F1_Score = \", f1_score(Class_test_new,lg_class_predicts_b))"
   ]
  },
  {
   "cell_type": "code",
   "execution_count": 51,
   "id": "f11be1b5",
   "metadata": {},
   "outputs": [
    {
     "name": "stdout",
     "output_type": "stream",
     "text": [
      "Matthews_Corr_Coef =  0.6307731347909782\n"
     ]
    }
   ],
   "source": [
    "print(\"Matthews_Corr_Coef = \", matthews_corrcoef(Class_test_new,lg_class_predicts_b))"
   ]
  },
  {
   "cell_type": "markdown",
   "id": "da47bc46",
   "metadata": {},
   "source": [
    "Compared to Part A, we have slightly smaller F1 Score in the penalized version of logistic regression. Yet, Matthews CorrCoeff is higher for the Part B. Hence, it is possible to say that these two models demonstared similar performances. Since F1 scores are too close to each other we can say that the model in Part B is slightly better."
   ]
  },
  {
   "cell_type": "markdown",
   "id": "4071b298",
   "metadata": {},
   "source": [
    "### Part C\n",
    "An alternative way to represent the feature matrix on a new space to introduce nonlinear relations is\n",
    "to use distance matrix as a feature matrix. For example, we have 896 training instances and the\n",
    "observations over time are used as features in the previous tasks (i.e. we worked on N by 3T matrix).\n",
    "Recall that multidimensional scaling also works on distance matrices and we have mentioned that it can\n",
    "handle nonlinear relations (Homework 2 also aims at revealing such an information). This non-linearity\n",
    "stems from the use of Euclidean distances. Use of Euclidean distance as input to a learning algorithm\n",
    "allows for handling nonlinear relations*. In other words, your features keep the nonlinear information.\n",
    "\n",
    "Given this information, you are expected to transform your training data to distance information (i.e. N\n",
    "by N matrix). Note that you need to perform a similar transformation to your test data. In other words,\n",
    "you need to calculate the distance of each test instance to training instance to obtain a distance based\n",
    "representation for your test data. This will be an Ntest by N matrix (Ntest refers to the number of test\n",
    "instances) where each entry (i,j) refers to the distance of test time series i to the training time series j.\n",
    "You can use Euclidean distance as your distance measure.\n",
    "\n",
    "Perform the same training and test strategy as in part b but use the distances as your new feature\n",
    "matrices. Comment on the regression coefficients. What do they imply under this new representation\n",
    "setting?"
   ]
  },
  {
   "cell_type": "code",
   "execution_count": 52,
   "id": "a2ac1c89",
   "metadata": {},
   "outputs": [],
   "source": [
    "from sklearn.metrics.pairwise import euclidean_distances\n",
    "from sklearn.linear_model import LogisticRegressionCV\n",
    "from sklearn.metrics import log_loss"
   ]
  },
  {
   "cell_type": "code",
   "execution_count": 53,
   "id": "374be66d",
   "metadata": {},
   "outputs": [],
   "source": [
    "df_train_dist = pd.DataFrame(euclidean_distances(df_train)) # Distances between training data set instances\n",
    "df_test_dist = pd.DataFrame(euclidean_distances(df_test, df_train)) # Distances between training and test data set instances"
   ]
  },
  {
   "cell_type": "code",
   "execution_count": 54,
   "id": "4a609dbb",
   "metadata": {},
   "outputs": [
    {
     "name": "stdout",
     "output_type": "stream",
     "text": [
      "Threshold =  0.11830357142857142\n"
     ]
    }
   ],
   "source": [
    "threshold = len(Class_train[Class_train == 3.0]) / len(Class_train)\n",
    "print(\"Threshold = \", threshold)"
   ]
  },
  {
   "cell_type": "code",
   "execution_count": 55,
   "id": "1781ccf9",
   "metadata": {},
   "outputs": [],
   "source": [
    "# Creating the model. l1 for lasso penalty, 10 for 10-fold cross validation, neg_log_loss for log_loss.\n",
    "log_reg_cl_c = LogisticRegressionCV(cv=10, penalty=\"l1\", scoring='neg_log_loss', max_iter=1500, solver=\"liblinear\")"
   ]
  },
  {
   "cell_type": "code",
   "execution_count": 56,
   "id": "cb634c52",
   "metadata": {},
   "outputs": [
    {
     "data": {
      "text/plain": [
       "LogisticRegressionCV(cv=10, max_iter=1500, penalty='l1', scoring='neg_log_loss',\n",
       "                     solver='liblinear')"
      ]
     },
     "execution_count": 56,
     "metadata": {},
     "output_type": "execute_result"
    }
   ],
   "source": [
    "log_reg_cl_c.fit(df_train_dist,Class_train_new)"
   ]
  },
  {
   "cell_type": "code",
   "execution_count": 57,
   "id": "d49dadfc",
   "metadata": {},
   "outputs": [],
   "source": [
    "lg_prob_predicts_c = log_reg_cl_c.predict_proba(df_test_dist)"
   ]
  },
  {
   "cell_type": "code",
   "execution_count": 58,
   "id": "f57fd672",
   "metadata": {},
   "outputs": [],
   "source": [
    "lg_class_predicts_c = (lg_prob_predicts_c < threshold)[:, 0] "
   ]
  },
  {
   "cell_type": "code",
   "execution_count": 59,
   "id": "9f7c0e58",
   "metadata": {},
   "outputs": [
    {
     "name": "stdout",
     "output_type": "stream",
     "text": [
      "Neg. Log Loss =  -0.04814034470571897\n"
     ]
    }
   ],
   "source": [
    "log_loss_c = log_reg_cl_c.score(df_test_dist,Class_test_new)\n",
    "print(\"Neg. Log Loss = \", log_loss_c)"
   ]
  },
  {
   "cell_type": "code",
   "execution_count": 60,
   "id": "4139e9cf",
   "metadata": {},
   "outputs": [
    {
     "name": "stdout",
     "output_type": "stream",
     "text": [
      "Penalization term =  [0.35938137]\n"
     ]
    }
   ],
   "source": [
    "pen_term = 1/log_reg_cl_c.C_\n",
    "print(\"Penalization term = \", pen_term)"
   ]
  },
  {
   "cell_type": "code",
   "execution_count": 61,
   "id": "fd728c20",
   "metadata": {},
   "outputs": [
    {
     "data": {
      "text/html": [
       "<style  type=\"text/css\" >\n",
       "</style><table id=\"T_81fa8_\" style='display:inline'><caption>ConfusionMatrix</caption><thead>    <tr>        <th class=\"blank level0\" ></th>        <th class=\"col_heading level0 col0\" >0</th>        <th class=\"col_heading level0 col1\" >1</th>    </tr></thead><tbody>\n",
       "                <tr>\n",
       "                        <th id=\"T_81fa8_level0_row0\" class=\"row_heading level0 row0\" >0</th>\n",
       "                        <td id=\"T_81fa8_row0_col0\" class=\"data row0 col0\" >3122</td>\n",
       "                        <td id=\"T_81fa8_row0_col1\" class=\"data row0 col1\" >6</td>\n",
       "            </tr>\n",
       "            <tr>\n",
       "                        <th id=\"T_81fa8_level0_row1\" class=\"row_heading level0 row1\" >1</th>\n",
       "                        <td id=\"T_81fa8_row1_col0\" class=\"data row1 col0\" >100</td>\n",
       "                        <td id=\"T_81fa8_row1_col1\" class=\"data row1 col1\" >354</td>\n",
       "            </tr>\n",
       "    </tbody></table>"
      ],
      "text/plain": [
       "<pandas.io.formats.style.Styler at 0x1d611339f10>"
      ]
     },
     "execution_count": 61,
     "metadata": {},
     "output_type": "execute_result"
    }
   ],
   "source": [
    "# Confusion Matrix\n",
    "Confusion_lg_c = confusion_matrix(Class_test_new, lg_class_predicts_c)\n",
    "Confusion_lg_c = pd.DataFrame(Confusion_lg_c)\n",
    "Confusion_lg_c = Confusion_lg_c.style.set_table_attributes(\"style='display:inline'\").set_caption('ConfusionMatrix')\n",
    "Confusion_lg_c\n",
    "# 0 corresponds to False (meaning it is not class 3)\n",
    "# 1 corresponds to True (meaning it is class 3)\n",
    "# Rows : Actual\n",
    "# Columns : Predicted"
   ]
  },
  {
   "cell_type": "markdown",
   "id": "8574d173",
   "metadata": {},
   "source": [
    "Confusion matrix is better than the ones we obtained in Part A and B."
   ]
  },
  {
   "cell_type": "code",
   "execution_count": 62,
   "id": "9e19f189",
   "metadata": {},
   "outputs": [
    {
     "name": "stdout",
     "output_type": "stream",
     "text": [
      "F1_Score =  0.8697788697788698\n"
     ]
    }
   ],
   "source": [
    "print(\"F1_Score = \", f1_score(Class_test_new,lg_class_predicts_c))"
   ]
  },
  {
   "cell_type": "code",
   "execution_count": 63,
   "id": "df784af2",
   "metadata": {},
   "outputs": [
    {
     "name": "stdout",
     "output_type": "stream",
     "text": [
      "Matthews_Corr_Coef =  0.8606468900872686\n"
     ]
    }
   ],
   "source": [
    "print(\"Matthews_Corr_Coef = \", matthews_corrcoef(Class_test_new,lg_class_predicts_c))"
   ]
  },
  {
   "cell_type": "markdown",
   "id": "7db96fc2",
   "metadata": {},
   "source": [
    "It is obvious that we have larger F1 Score and Matthews_CorrCoef in part C, which means that using Euclidean distances in penalized logistic regression provides better results. "
   ]
  },
  {
   "cell_type": "code",
   "execution_count": 64,
   "id": "4dad9358",
   "metadata": {},
   "outputs": [],
   "source": [
    "coeffs = log_reg_cl_c.coef_.flatten()"
   ]
  },
  {
   "cell_type": "code",
   "execution_count": 65,
   "id": "4b124b3c",
   "metadata": {},
   "outputs": [
    {
     "name": "stdout",
     "output_type": "stream",
     "text": [
      "Sum of Coefficients (for Class 3) =  -4.253260605593822\n"
     ]
    }
   ],
   "source": [
    "print(\"Sum of Coefficients (for Class 3) = \", np.sum(coeffs[Class_train_new == 1.0]))"
   ]
  },
  {
   "cell_type": "code",
   "execution_count": 66,
   "id": "a647e392",
   "metadata": {},
   "outputs": [
    {
     "name": "stdout",
     "output_type": "stream",
     "text": [
      "Number of nonzero Entries (for Class 3) =  104\n"
     ]
    }
   ],
   "source": [
    "print(\"Number of nonzero Entries (for Class 3) = \", np.sum(coeffs[Class_train_new == 1.0] != 0))"
   ]
  },
  {
   "cell_type": "code",
   "execution_count": 67,
   "id": "772d8fd5",
   "metadata": {},
   "outputs": [
    {
     "name": "stdout",
     "output_type": "stream",
     "text": [
      "Sum of Coefficients (except Class 3) =  4.043947297158291\n"
     ]
    }
   ],
   "source": [
    "print(\"Sum of Coefficients (except Class 3) = \", np.sum(coeffs[Class_train_new != 1.0]))"
   ]
  },
  {
   "cell_type": "code",
   "execution_count": 68,
   "id": "7706643e",
   "metadata": {},
   "outputs": [
    {
     "name": "stdout",
     "output_type": "stream",
     "text": [
      "Number of nonzero Entries (except Class 3) =  519\n"
     ]
    }
   ],
   "source": [
    "print(\"Number of nonzero Entries (except Class 3) = \", np.sum(coeffs[Class_train_new != 1.0] != 0))"
   ]
  },
  {
   "cell_type": "markdown",
   "id": "f9603d68",
   "metadata": {},
   "source": [
    "As said before, this model performs much better compared to the models in part A and part B. \n",
    "It is seen that regression coefficients are generally negative for Class 3, whereas they are mostly positive except the case of Class 3."
   ]
  },
  {
   "cell_type": "markdown",
   "id": "b320f390",
   "metadata": {},
   "source": [
    "### Part D\n",
    "Provide an overall comparison on the results you obtain for each part (over all tasks). You can\n",
    "compare test accuracy of each alternative method you developed."
   ]
  },
  {
   "cell_type": "markdown",
   "id": "1af905c1",
   "metadata": {},
   "source": [
    "#### Logistic Regression Model Results (Part A)"
   ]
  },
  {
   "cell_type": "code",
   "execution_count": 69,
   "id": "dab83cf1",
   "metadata": {},
   "outputs": [
    {
     "name": "stdout",
     "output_type": "stream",
     "text": [
      "F1_Score =  0.6293859649122807\n"
     ]
    }
   ],
   "source": [
    "print(\"F1_Score = \", f1_score(Class_test_new,lg_class_predicts))"
   ]
  },
  {
   "cell_type": "code",
   "execution_count": 70,
   "id": "d85c1ba2",
   "metadata": {},
   "outputs": [
    {
     "name": "stdout",
     "output_type": "stream",
     "text": [
      "Matthews_Corr_Coef =  0.5753317226123844\n"
     ]
    }
   ],
   "source": [
    "print(\"Matthews_Corr_Coef = \", matthews_corrcoef(Class_test_new,lg_class_predicts))"
   ]
  },
  {
   "cell_type": "markdown",
   "id": "3c6bd408",
   "metadata": {},
   "source": [
    "#### Logistic Regression Model with Lasso Penalties Results (Part B)"
   ]
  },
  {
   "cell_type": "code",
   "execution_count": 71,
   "id": "659fed09",
   "metadata": {},
   "outputs": [
    {
     "name": "stdout",
     "output_type": "stream",
     "text": [
      "F1_Score =  0.6067073170731708\n"
     ]
    }
   ],
   "source": [
    "print(\"F1_Score = \", f1_score(Class_test_new,lg_class_predicts_b))"
   ]
  },
  {
   "cell_type": "code",
   "execution_count": 72,
   "id": "60a79c71",
   "metadata": {},
   "outputs": [
    {
     "name": "stdout",
     "output_type": "stream",
     "text": [
      "Matthews_Corr_Coef =  0.6307731347909782\n"
     ]
    }
   ],
   "source": [
    "print(\"Matthews_Corr_Coef = \", matthews_corrcoef(Class_test_new,lg_class_predicts_b))"
   ]
  },
  {
   "cell_type": "markdown",
   "id": "85742f9a",
   "metadata": {},
   "source": [
    "#### Logistic Regression Model with Lasso Penalties and Euclidean Distances Data Results (Part C)"
   ]
  },
  {
   "cell_type": "code",
   "execution_count": 73,
   "id": "a545563d",
   "metadata": {},
   "outputs": [
    {
     "name": "stdout",
     "output_type": "stream",
     "text": [
      "F1_Score =  0.8697788697788698\n"
     ]
    }
   ],
   "source": [
    "print(\"F1_Score = \", f1_score(Class_test_new,lg_class_predicts_c))"
   ]
  },
  {
   "cell_type": "code",
   "execution_count": 74,
   "id": "b58efcf8",
   "metadata": {},
   "outputs": [
    {
     "name": "stdout",
     "output_type": "stream",
     "text": [
      "Matthews_Corr_Coef =  0.8606468900872686\n"
     ]
    }
   ],
   "source": [
    "print(\"Matthews_Corr_Coef = \", matthews_corrcoef(Class_test_new,lg_class_predicts_c))"
   ]
  },
  {
   "cell_type": "markdown",
   "id": "c963ad83",
   "metadata": {},
   "source": [
    "As mentioned before, we obtained the best prediction performance when we constructed logistic regression model with lasso penalties\n",
    "and euclidean distances data. This case has comparatively higher F1 score and Matthews CorrCoef values."
   ]
  },
  {
   "cell_type": "code",
   "execution_count": 75,
   "id": "4ee92b1e",
   "metadata": {},
   "outputs": [
    {
     "data": {
      "text/plain": [
       "0"
      ]
     },
     "execution_count": 75,
     "metadata": {},
     "output_type": "execute_result"
    }
   ],
   "source": [
    "os.system('jupyter nbconvert --to html HW3_Final.ipynb')"
   ]
  }
 ],
 "metadata": {
  "kernelspec": {
   "display_name": "Python 3",
   "language": "python",
   "name": "python3"
  },
  "language_info": {
   "codemirror_mode": {
    "name": "ipython",
    "version": 3
   },
   "file_extension": ".py",
   "mimetype": "text/x-python",
   "name": "python",
   "nbconvert_exporter": "python",
   "pygments_lexer": "ipython3",
   "version": "3.8.8"
  }
 },
 "nbformat": 4,
 "nbformat_minor": 5
}
