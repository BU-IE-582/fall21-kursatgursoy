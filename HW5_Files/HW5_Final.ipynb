{
 "cells": [
  {
   "cell_type": "code",
   "execution_count": 1,
   "id": "a822bb1b",
   "metadata": {},
   "outputs": [],
   "source": [
    "import numpy as np\n",
    "import pandas as pd\n",
    "import math as mt\n",
    "import matplotlib.pyplot as plt\n",
    "import os\n",
    "import math\n",
    "from sklearn.preprocessing import StandardScaler\n",
    "from sklearn.decomposition import PCA\n",
    "import sklearn.metrics.pairwise as smp\n",
    "from sklearn.datasets import make_swiss_roll \n",
    "from sklearn.manifold import MDS \n",
    "from sklearn.preprocessing import MinMaxScaler\n",
    "from mpl_toolkits.mplot3d import Axes3D\n",
    "import random\n",
    "from scipy import spatial \n",
    "from math import comb\n",
    "from sklearn.model_selection import cross_val_score\n",
    "from sklearn.model_selection import RepeatedKFold\n",
    "from matplotlib.ticker import FormatStrFormatter\n",
    "from sklearn.metrics import confusion_matrix\n",
    "from sklearn.metrics import matthews_corrcoef, f1_score\n",
    "import time\n",
    "from sklearn.metrics.pairwise import euclidean_distances\n",
    "from sklearn.linear_model import LogisticRegression\n",
    "from sklearn.ensemble import RandomForestClassifier\n",
    "from sklearn.model_selection import GridSearchCV\n",
    "from sklearn.model_selection import train_test_split\n",
    "from sklearn.metrics import balanced_accuracy_score, roc_auc_score, recall_score\n",
    "from sklearn.model_selection import StratifiedKFold\n",
    "import lightgbm as lgb\n",
    "from sklearn.metrics import precision_recall_curve"
   ]
  },
  {
   "cell_type": "markdown",
   "id": "94177cff",
   "metadata": {},
   "source": [
    "### Reading & Preparing Data "
   ]
  },
  {
   "cell_type": "code",
   "execution_count": 2,
   "id": "4aae0334",
   "metadata": {},
   "outputs": [],
   "source": [
    "df_train = pd.read_csv(r'C:\\Users\\IKG\\Desktop\\HW5\\IE582_Spring21_Final_Exam_Data\\train.csv')\n",
    "df_test = pd.read_csv(r'C:\\Users\\IKG\\Desktop\\HW5\\IE582_Spring21_Final_Exam_Data\\test.csv')"
   ]
  },
  {
   "cell_type": "code",
   "execution_count": 3,
   "id": "72e7e005",
   "metadata": {},
   "outputs": [],
   "source": [
    "train_appids = df_train.loan_application_id.unique()\n",
    "test_appids = df_test.loan_application_id.unique()"
   ]
  },
  {
   "cell_type": "code",
   "execution_count": 4,
   "id": "896fed64",
   "metadata": {},
   "outputs": [],
   "source": [
    "df_all = df_train.append(df_test)"
   ]
  },
  {
   "cell_type": "code",
   "execution_count": 5,
   "id": "979feb6e",
   "metadata": {},
   "outputs": [
    {
     "data": {
      "text/html": [
       "<div>\n",
       "<style scoped>\n",
       "    .dataframe tbody tr th:only-of-type {\n",
       "        vertical-align: middle;\n",
       "    }\n",
       "\n",
       "    .dataframe tbody tr th {\n",
       "        vertical-align: top;\n",
       "    }\n",
       "\n",
       "    .dataframe thead th {\n",
       "        text-align: right;\n",
       "    }\n",
       "</style>\n",
       "<table border=\"1\" class=\"dataframe\">\n",
       "  <thead>\n",
       "    <tr style=\"text-align: right;\">\n",
       "      <th></th>\n",
       "      <th>count</th>\n",
       "      <th>mean</th>\n",
       "      <th>std</th>\n",
       "      <th>min</th>\n",
       "      <th>0%</th>\n",
       "      <th>10%</th>\n",
       "      <th>20%</th>\n",
       "      <th>30%</th>\n",
       "      <th>40%</th>\n",
       "      <th>50%</th>\n",
       "      <th>60%</th>\n",
       "      <th>70%</th>\n",
       "      <th>80%</th>\n",
       "      <th>90%</th>\n",
       "      <th>100%</th>\n",
       "      <th>max</th>\n",
       "    </tr>\n",
       "  </thead>\n",
       "  <tbody>\n",
       "    <tr>\n",
       "      <th>customer_age</th>\n",
       "      <td>2562.0</td>\n",
       "      <td>41.556596</td>\n",
       "      <td>13.898195</td>\n",
       "      <td>19.0</td>\n",
       "      <td>19.0</td>\n",
       "      <td>24.0</td>\n",
       "      <td>27.0</td>\n",
       "      <td>32.0</td>\n",
       "      <td>36.0</td>\n",
       "      <td>40.0</td>\n",
       "      <td>45.0</td>\n",
       "      <td>50.0</td>\n",
       "      <td>55.0</td>\n",
       "      <td>62.0</td>\n",
       "      <td>74.0</td>\n",
       "      <td>74.0</td>\n",
       "    </tr>\n",
       "  </tbody>\n",
       "</table>\n",
       "</div>"
      ],
      "text/plain": [
       "               count       mean        std   min    0%   10%   20%   30%  \\\n",
       "customer_age  2562.0  41.556596  13.898195  19.0  19.0  24.0  27.0  32.0   \n",
       "\n",
       "               40%   50%   60%   70%   80%   90%  100%   max  \n",
       "customer_age  36.0  40.0  45.0  50.0  55.0  62.0  74.0  74.0  "
      ]
     },
     "execution_count": 5,
     "metadata": {},
     "output_type": "execute_result"
    }
   ],
   "source": [
    "df_all[['customer_age']].describe(percentiles=[ 0,0.1 ,0.2,0.3,0.4, 0.50, 0.6,0.7,0.8 ,0.90,1 ]).transpose()"
   ]
  },
  {
   "cell_type": "code",
   "execution_count": 6,
   "id": "d14025ed",
   "metadata": {},
   "outputs": [],
   "source": [
    "df_all['age_segment'] = np.where(df_all['customer_age'] < 30, \"18-30\",\n",
    "                                np.where(df_all['customer_age'] < 40, \"30-40\",\n",
    "                                         np.where(df_all['customer_age'] < 53, \"40-53\",\"53+\")))"
   ]
  },
  {
   "cell_type": "code",
   "execution_count": 7,
   "id": "62840320",
   "metadata": {},
   "outputs": [
    {
     "data": {
      "text/html": [
       "<div>\n",
       "<style scoped>\n",
       "    .dataframe tbody tr th:only-of-type {\n",
       "        vertical-align: middle;\n",
       "    }\n",
       "\n",
       "    .dataframe tbody tr th {\n",
       "        vertical-align: top;\n",
       "    }\n",
       "\n",
       "    .dataframe thead th {\n",
       "        text-align: right;\n",
       "    }\n",
       "</style>\n",
       "<table border=\"1\" class=\"dataframe\">\n",
       "  <thead>\n",
       "    <tr style=\"text-align: right;\">\n",
       "      <th></th>\n",
       "      <th>count</th>\n",
       "      <th>mean</th>\n",
       "      <th>std</th>\n",
       "      <th>min</th>\n",
       "      <th>0%</th>\n",
       "      <th>10%</th>\n",
       "      <th>20%</th>\n",
       "      <th>30%</th>\n",
       "      <th>40%</th>\n",
       "      <th>50%</th>\n",
       "      <th>60%</th>\n",
       "      <th>70%</th>\n",
       "      <th>80%</th>\n",
       "      <th>90%</th>\n",
       "      <th>100%</th>\n",
       "      <th>max</th>\n",
       "    </tr>\n",
       "  </thead>\n",
       "  <tbody>\n",
       "    <tr>\n",
       "      <th>loan_amount</th>\n",
       "      <td>2562.0</td>\n",
       "      <td>2965.7226</td>\n",
       "      <td>1350.226463</td>\n",
       "      <td>771.0</td>\n",
       "      <td>771.0</td>\n",
       "      <td>1464.55</td>\n",
       "      <td>1770.4</td>\n",
       "      <td>2124.6</td>\n",
       "      <td>2420.4</td>\n",
       "      <td>2676.75</td>\n",
       "      <td>3079.2</td>\n",
       "      <td>3581.4</td>\n",
       "      <td>3924.4</td>\n",
       "      <td>4569.15</td>\n",
       "      <td>7994.0</td>\n",
       "      <td>7994.0</td>\n",
       "    </tr>\n",
       "  </tbody>\n",
       "</table>\n",
       "</div>"
      ],
      "text/plain": [
       "              count       mean          std    min     0%      10%     20%  \\\n",
       "loan_amount  2562.0  2965.7226  1350.226463  771.0  771.0  1464.55  1770.4   \n",
       "\n",
       "                30%     40%      50%     60%     70%     80%      90%    100%  \\\n",
       "loan_amount  2124.6  2420.4  2676.75  3079.2  3581.4  3924.4  4569.15  7994.0   \n",
       "\n",
       "                max  \n",
       "loan_amount  7994.0  "
      ]
     },
     "execution_count": 7,
     "metadata": {},
     "output_type": "execute_result"
    }
   ],
   "source": [
    "df_all[['loan_amount']].describe(percentiles=[ 0,0.1 ,0.2,0.3,0.4, 0.50, 0.6,0.7,0.8 ,0.90,1 ]).transpose()"
   ]
  },
  {
   "cell_type": "code",
   "execution_count": 8,
   "id": "aa7a2dfb",
   "metadata": {},
   "outputs": [],
   "source": [
    "df_all['loan_amount_segment'] = np.where(df_all['loan_amount'] < 1800, \"<1800\",\n",
    "                                np.where(df_all['loan_amount'] < 2800, \"<2800\",\n",
    "                                         np.where(df_all['loan_amount'] < 3800, \"<3800\",\"3800+\")))"
   ]
  },
  {
   "cell_type": "code",
   "execution_count": 9,
   "id": "b2ed3241",
   "metadata": {},
   "outputs": [],
   "source": [
    "# I will label encode Var 39 and 53 since they are Y or N.\n",
    "df_all['Var_39'] = df_all['Var_39'].astype('category')\n",
    "df_all['Var_39'] = df_all['Var_39'].cat.codes\n",
    "df_all['Var_53'] = df_all['Var_53'].astype('category')\n",
    "df_all['Var_53'] = df_all['Var_53'].cat.codes\n",
    "df_all['age_segment'] = df_all['age_segment'].astype('category')\n",
    "df_all['age_segment'] = df_all['age_segment'].cat.codes\n",
    "df_all['loan_amount_segment'] = df_all['loan_amount_segment'].astype('category')\n",
    "df_all['loan_amount_segment'] = df_all['loan_amount_segment'].cat.codes"
   ]
  },
  {
   "cell_type": "code",
   "execution_count": 10,
   "id": "453065b4",
   "metadata": {},
   "outputs": [
    {
     "name": "stdout",
     "output_type": "stream",
     "text": [
      "(1715, 63) (847, 63) (2562, 65)\n"
     ]
    }
   ],
   "source": [
    "print(df_train.shape,df_test.shape,df_all.shape)"
   ]
  },
  {
   "cell_type": "code",
   "execution_count": 11,
   "id": "0b4ec93b",
   "metadata": {},
   "outputs": [],
   "source": [
    "df_all = df_all.set_index('loan_application_id')"
   ]
  },
  {
   "cell_type": "code",
   "execution_count": 12,
   "id": "d351922e",
   "metadata": {},
   "outputs": [],
   "source": [
    "df_train_new = df_all.loc[train_appids]\n",
    "df_test_new = df_all.loc[test_appids]"
   ]
  },
  {
   "cell_type": "code",
   "execution_count": 13,
   "id": "4d93ad32",
   "metadata": {},
   "outputs": [],
   "source": [
    "df_train_new = df_train_new.sort_index()\n",
    "df_test_new = df_test_new.sort_index()"
   ]
  },
  {
   "cell_type": "code",
   "execution_count": 14,
   "id": "220b0353",
   "metadata": {},
   "outputs": [
    {
     "name": "stdout",
     "output_type": "stream",
     "text": [
      "Percentage of Defaults in Training Set: % 10.029154518950437\n"
     ]
    }
   ],
   "source": [
    "print(\"Percentage of Defaults in Training Set: %\",100*df_train_new['default'].sum()/df_train_new['default'].size)"
   ]
  },
  {
   "cell_type": "code",
   "execution_count": 15,
   "id": "deb6719f",
   "metadata": {},
   "outputs": [],
   "source": [
    "trval_features = df_train_new.drop(columns=['default'])\n",
    "trval_class = df_train_new[['default']]"
   ]
  },
  {
   "cell_type": "code",
   "execution_count": 16,
   "id": "3b786dca",
   "metadata": {},
   "outputs": [
    {
     "name": "stdout",
     "output_type": "stream",
     "text": [
      "(1543,) (172,)\n"
     ]
    }
   ],
   "source": [
    "train_idx, valid_idx = train_test_split(train_appids, test_size=0.10, random_state=99386)\n",
    "print(train_idx.shape, valid_idx.shape)"
   ]
  },
  {
   "cell_type": "code",
   "execution_count": 17,
   "id": "622613a5",
   "metadata": {},
   "outputs": [],
   "source": [
    "train_features = trval_features.loc[train_idx] #train features\n",
    "validation_features = trval_features.loc[valid_idx] #valid features"
   ]
  },
  {
   "cell_type": "code",
   "execution_count": 18,
   "id": "5fdf0f99",
   "metadata": {},
   "outputs": [],
   "source": [
    "train_class = trval_class.loc[train_idx] #train class\n",
    "validation_class = trval_class.loc[valid_idx] #valid class"
   ]
  },
  {
   "cell_type": "code",
   "execution_count": 19,
   "id": "974f200a",
   "metadata": {},
   "outputs": [],
   "source": [
    "train_features = train_features.reset_index(drop=True)\n",
    "validation_features = validation_features.reset_index(drop=True)\n",
    "train_class = train_class.reset_index(drop=True)\n",
    "validation_class = validation_class.reset_index(drop=True)"
   ]
  },
  {
   "cell_type": "code",
   "execution_count": 20,
   "id": "bf6db65b",
   "metadata": {},
   "outputs": [],
   "source": [
    "train_class = (train_class.default ==1)\n",
    "validation_class = (validation_class.default ==1)"
   ]
  },
  {
   "cell_type": "code",
   "execution_count": 21,
   "id": "0245bd8b",
   "metadata": {},
   "outputs": [],
   "source": [
    "test_features = df_test_new.drop(columns=['default'])"
   ]
  },
  {
   "cell_type": "code",
   "execution_count": 22,
   "id": "dd2fd2df",
   "metadata": {},
   "outputs": [],
   "source": [
    "X_full = train_features.append(validation_features)\n",
    "y_full = train_class.append(validation_class)"
   ]
  },
  {
   "cell_type": "code",
   "execution_count": 23,
   "id": "f01d7335",
   "metadata": {},
   "outputs": [],
   "source": [
    "X_full= X_full.reset_index(drop=True)\n",
    "y_full= y_full.reset_index(drop=True)"
   ]
  },
  {
   "cell_type": "markdown",
   "id": "122c4fef",
   "metadata": {},
   "source": [
    "### LightGBM is learnt with train + validation, fitted into train data.  "
   ]
  },
  {
   "cell_type": "code",
   "execution_count": 24,
   "id": "385384d7",
   "metadata": {},
   "outputs": [],
   "source": [
    "#cv = StratifiedKFold(n_splits=3, shuffle=True, random_state=4436)"
   ]
  },
  {
   "cell_type": "code",
   "execution_count": 25,
   "id": "c54620fe",
   "metadata": {},
   "outputs": [],
   "source": [
    "#model = lgb.LGBMClassifier(objective=\"binary\")"
   ]
  },
  {
   "cell_type": "code",
   "execution_count": 26,
   "id": "30542c64",
   "metadata": {},
   "outputs": [],
   "source": [
    "#params = {\n",
    "#    'boosting_type' : [\"dart\", \"gbdt\"],\n",
    "#    'is_unbalance' : [True],\n",
    "#    'max_depth' : [6,9,12],\n",
    "#    'n_estimators': [250, 500, 750],\n",
    "#    'learning_rate' : [0.1, 0.01, 0.001],\n",
    "#    'min_child_samples' : [5, 50, 100],\n",
    "#    'bagging_fraction' : [0.8, 1],\n",
    "#    'feature_fraction' : [0.8, 1]\n",
    "#}"
   ]
  },
  {
   "cell_type": "code",
   "execution_count": 27,
   "id": "a8b61cbb",
   "metadata": {},
   "outputs": [],
   "source": [
    "##grid = GridSearchCV(model,params,cv=cv,\n",
    "#                    scoring=['roc_auc','balanced_accuracy','recall'], refit='roc_auc', return_train_score=True,\n",
    "#                    verbose= 100, n_jobs=-1)"
   ]
  },
  {
   "cell_type": "code",
   "execution_count": 28,
   "id": "0f8ef0f3",
   "metadata": {},
   "outputs": [],
   "source": [
    "##grid.fit(X_full, y_full)"
   ]
  },
  {
   "cell_type": "code",
   "execution_count": 29,
   "id": "4f5217a8",
   "metadata": {},
   "outputs": [],
   "source": [
    "#grid.cv_results_.keys()"
   ]
  },
  {
   "cell_type": "code",
   "execution_count": 31,
   "id": "9fbc19d1",
   "metadata": {},
   "outputs": [
    {
     "name": "stdout",
     "output_type": "stream",
     "text": [
      "{'boosting_type': 'gbdt', 'class_weight': None, 'colsample_bytree': 1.0, 'importance_type': 'split', 'learning_rate': 0.01, 'max_depth': 6, 'min_child_samples': 100, 'min_child_weight': 0.001, 'min_split_gain': 0.0, 'n_estimators': 500, 'n_jobs': -1, 'num_leaves': 31, 'objective': 'binary', 'random_state': None, 'reg_alpha': 0.0, 'reg_lambda': 0.0, 'silent': 'warn', 'subsample': 1.0, 'subsample_for_bin': 200000, 'subsample_freq': 0, 'bagging_fraction': 0.8, 'feature_fraction': 0.8, 'is_unbalance': True}\n"
     ]
    }
   ],
   "source": [
    "#print(grid.best_estimator_.get_params())"
   ]
  },
  {
   "cell_type": "code",
   "execution_count": 30,
   "id": "bf5ce915",
   "metadata": {},
   "outputs": [],
   "source": [
    "best_params = {'boosting_type': 'gbdt', 'class_weight': None, 'colsample_bytree': 1.0, 'importance_type': 'split', \n",
    "               'learning_rate': 0.01, 'max_depth': 6, 'min_child_samples': 100, 'min_child_weight': 0.001,\n",
    "               'min_split_gain': 0.0, 'n_estimators': 500, 'n_jobs': -1, 'num_leaves': 31, 'objective': 'binary',\n",
    "               'random_state': None, 'reg_alpha': 0.0, 'reg_lambda': 0.0, 'silent': 'warn', 'subsample': 1.0, \n",
    "               'subsample_for_bin': 200000, 'subsample_freq': 0, 'bagging_fraction': 0.8, 'feature_fraction': 0.8, \n",
    "               'is_unbalance': True}"
   ]
  },
  {
   "cell_type": "code",
   "execution_count": 31,
   "id": "434a640c",
   "metadata": {},
   "outputs": [
    {
     "name": "stdout",
     "output_type": "stream",
     "text": [
      "[LightGBM] [Warning] feature_fraction is set=0.8, colsample_bytree=1.0 will be ignored. Current value: feature_fraction=0.8\n",
      "[LightGBM] [Warning] bagging_fraction is set=0.8, subsample=1.0 will be ignored. Current value: bagging_fraction=0.8\n"
     ]
    },
    {
     "data": {
      "text/plain": [
       "LGBMClassifier(bagging_fraction=0.8, feature_fraction=0.8, is_unbalance=True,\n",
       "               learning_rate=0.01, max_depth=6, min_child_samples=100,\n",
       "               n_estimators=500, objective='binary')"
      ]
     },
     "execution_count": 31,
     "metadata": {},
     "output_type": "execute_result"
    }
   ],
   "source": [
    "best_model = lgb.LGBMClassifier(**best_params)\n",
    "best_model.fit(train_features,train_class)"
   ]
  },
  {
   "cell_type": "markdown",
   "id": "b15f05fc",
   "metadata": {},
   "source": [
    "#### Results for Validation Set"
   ]
  },
  {
   "cell_type": "code",
   "execution_count": 32,
   "id": "123cfc97",
   "metadata": {},
   "outputs": [],
   "source": [
    "val_pred_prob = best_model.predict_proba(validation_features)[:,1]"
   ]
  },
  {
   "cell_type": "code",
   "execution_count": 33,
   "id": "a3338400",
   "metadata": {},
   "outputs": [],
   "source": [
    "val_pred = (val_pred_prob>= 0.554236).astype(bool) #obtained best threshold can be checked below"
   ]
  },
  {
   "cell_type": "code",
   "execution_count": 34,
   "id": "740baac9",
   "metadata": {},
   "outputs": [],
   "source": [
    "val_pred = pd.DataFrame(val_pred,columns=['default_pred'])"
   ]
  },
  {
   "cell_type": "code",
   "execution_count": 35,
   "id": "ddcd9dad",
   "metadata": {},
   "outputs": [],
   "source": [
    "val_pred['default_pred'] = np.where(val_pred['default_pred']== False , 0 , 1)"
   ]
  },
  {
   "cell_type": "code",
   "execution_count": 36,
   "id": "3ac0de45",
   "metadata": {},
   "outputs": [],
   "source": [
    "validation_class = pd.DataFrame(validation_class, columns=['default'])\n",
    "validation_class['default'] = np.where(validation_class['default']== False , 0 , 1)"
   ]
  },
  {
   "cell_type": "code",
   "execution_count": 37,
   "id": "2803ae68",
   "metadata": {},
   "outputs": [],
   "source": [
    "val_total = pd.concat([validation_features,validation_class,val_pred],axis=1)"
   ]
  },
  {
   "cell_type": "code",
   "execution_count": 38,
   "id": "7e256c01",
   "metadata": {},
   "outputs": [],
   "source": [
    "val_total['cost'] = np.where(((val_total['default'] == 1) & (val_total['default_pred'] == 0)), val_total['loan_amount'] ,\n",
    "                            np.where(((val_total['default'] == 0) & (val_total['default_pred'] == 1)), (val_total['loan_amount'])*0.15 , 0))"
   ]
  },
  {
   "cell_type": "code",
   "execution_count": 39,
   "id": "12b02b1a",
   "metadata": {},
   "outputs": [
    {
     "name": "stdout",
     "output_type": "stream",
     "text": [
      "LGBM_cost : 43021.649999999994\n",
      "LGBM_auc : 0.7759868421052631\n",
      "LGBM_recall_score : 0.5\n"
     ]
    }
   ],
   "source": [
    "LGBM_cost = val_total['cost'].sum()\n",
    "print(\"LGBM_cost :\",LGBM_cost)\n",
    "LGBM_auc = roc_auc_score(validation_class, val_pred_prob)\n",
    "print(\"LGBM_auc :\", LGBM_auc)\n",
    "LGBM_recall_score = recall_score(validation_class, val_pred, average='binary')\n",
    "print(\"LGBM_recall_score :\", LGBM_recall_score)"
   ]
  },
  {
   "cell_type": "code",
   "execution_count": 40,
   "id": "c7cea926",
   "metadata": {},
   "outputs": [
    {
     "data": {
      "image/png": "[encoded data removed]",
      "text/plain": [
       "<Figure size 432x288 with 1 Axes>"
      ]
     },
     "metadata": {
      "needs_background": "light"
     },
     "output_type": "display_data"
    }
   ],
   "source": [
    "#calculate precision and recall\n",
    "precision, recall, thresholds = precision_recall_curve(validation_class, val_pred_prob)\n",
    "\n",
    "#create precision recall curve\n",
    "fig, ax = plt.subplots()\n",
    "ax.plot(recall, precision, color='blue')\n",
    "\n",
    "#add axis labels to plot\n",
    "ax.set_title('Precision-Recall Curve')\n",
    "ax.set_ylabel('Precision')\n",
    "ax.set_xlabel('Recall')\n",
    "\n",
    "#display plot\n",
    "plt.show()"
   ]
  },
  {
   "cell_type": "markdown",
   "id": "3e66d954",
   "metadata": {},
   "source": [
    "If we are interested in a threshold that results in the best balance of precision and recall, then this is the same as optimizing the F-measure that summarizes the harmonic mean of both measures.\n",
    "\n",
    "F-Measure = (2 * Precision * Recall) / (Precision + Recall)"
   ]
  },
  {
   "cell_type": "code",
   "execution_count": 41,
   "id": "19008d9e",
   "metadata": {},
   "outputs": [
    {
     "name": "stdout",
     "output_type": "stream",
     "text": [
      "Best Threshold=0.554236, F-Score=0.377\n"
     ]
    },
    {
     "name": "stderr",
     "output_type": "stream",
     "text": [
      "<ipython-input-41-8947b03a276b>:1: RuntimeWarning: invalid value encountered in true_divide\n",
      "  fscore = (2 * precision * recall) / (precision + recall)\n"
     ]
    }
   ],
   "source": [
    "fscore = (2 * precision * recall) / (precision + recall)\n",
    "# locate the index of the largest f score\n",
    "maks = max(fscore)\n",
    "ix = np.where(fscore==maks)\n",
    "print('Best Threshold=%f, F-Score=%.3f' % (thresholds[ix], fscore[ix]))"
   ]
  },
  {
   "cell_type": "markdown",
   "id": "17a44a43",
   "metadata": {},
   "source": [
    "### Test predictions"
   ]
  },
  {
   "cell_type": "code",
   "execution_count": 42,
   "id": "40bf8199",
   "metadata": {},
   "outputs": [],
   "source": [
    "test_pred_prob = best_model.predict_proba(test_features)[:,1]"
   ]
  },
  {
   "cell_type": "code",
   "execution_count": 43,
   "id": "b91999c6",
   "metadata": {},
   "outputs": [],
   "source": [
    "test_features = test_features.reset_index()\n",
    "test_features = test_features.sort_values(by='loan_application_id')"
   ]
  },
  {
   "cell_type": "code",
   "execution_count": 44,
   "id": "7ea7fdf8",
   "metadata": {},
   "outputs": [],
   "source": [
    "test_pred = (test_pred_prob >= 0.554236).astype(bool)\n",
    "test_pred = pd.DataFrame(test_pred,columns=['prediction'])\n",
    "test_pred['prediction'] = np.where(test_pred['prediction'] == False , 0 , 1)"
   ]
  },
  {
   "cell_type": "code",
   "execution_count": 45,
   "id": "8ffa5184",
   "metadata": {},
   "outputs": [],
   "source": [
    "test_final = pd.concat([test_features,test_pred],axis=1)"
   ]
  },
  {
   "cell_type": "code",
   "execution_count": 46,
   "id": "51d6b32f",
   "metadata": {},
   "outputs": [
    {
     "data": {
      "text/plain": [
       "151"
      ]
     },
     "execution_count": 46,
     "metadata": {},
     "output_type": "execute_result"
    }
   ],
   "source": [
    "test_final[test_final['prediction']==1].shape[0]"
   ]
  },
  {
   "cell_type": "code",
   "execution_count": 47,
   "id": "ed98ccc7",
   "metadata": {},
   "outputs": [
    {
     "data": {
      "text/plain": [
       "847"
      ]
     },
     "execution_count": 47,
     "metadata": {},
     "output_type": "execute_result"
    }
   ],
   "source": [
    "test_final.shape[0]"
   ]
  },
  {
   "cell_type": "code",
   "execution_count": 48,
   "id": "65e74629",
   "metadata": {},
   "outputs": [],
   "source": [
    "test_submit = test_final[['loan_application_id', 'prediction']].reset_index(drop=True)"
   ]
  },
  {
   "cell_type": "code",
   "execution_count": 50,
   "id": "ba49e670",
   "metadata": {},
   "outputs": [],
   "source": [
    "test_submit.to_csv(r'C:\\Users\\IKG\\Desktop\\HW5_test_predictions.csv',index=False)"
   ]
  },
  {
   "cell_type": "code",
   "execution_count": null,
   "id": "300198fa",
   "metadata": {},
   "outputs": [],
   "source": []
  }
 ],
 "metadata": {
  "kernelspec": {
   "display_name": "Python 3",
   "language": "python",
   "name": "python3"
  },
  "language_info": {
   "codemirror_mode": {
    "name": "ipython",
    "version": 3
   },
   "file_extension": ".py",
   "mimetype": "text/x-python",
   "name": "python",
   "nbconvert_exporter": "python",
   "pygments_lexer": "ipython3",
   "version": "3.8.8"
  }
 },
 "nbformat": 4,
 "nbformat_minor": 5
}
